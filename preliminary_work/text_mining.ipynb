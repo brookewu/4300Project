{
 "cells": [
  {
   "cell_type": "code",
   "execution_count": 24,
   "metadata": {
    "collapsed": true,
    "ExecuteTime": {
     "start_time": "2023-04-23T19:35:32.679507Z",
     "end_time": "2023-04-23T19:35:33.610848Z"
    }
   },
   "outputs": [],
   "source": [
    "import pandas as pd\n",
    "import numpy as np\n",
    "\n",
    "# from scipy.cluster.vq import kmeans\n",
    "\n",
    "from sklearn.decomposition import PCA\n",
    "from sklearn.preprocessing import StandardScaler\n",
    "from sklearn.cluster import KMeans\n",
    "\n",
    "from tqdm import tqdm\n",
    "\n",
    "import seaborn as sns"
   ]
  },
  {
   "cell_type": "code",
   "execution_count": 2,
   "outputs": [
    {
     "data": {
      "text/plain": "                               name         0         1         2         3  \\\n0                St Honore Pastries -0.006729 -0.004750 -0.005146 -0.002375   \n1                          Tuna Bar -0.070262 -0.061950 -0.044730 -0.031667   \n2                               BAP -0.391687 -0.339832 -0.247204 -0.155764   \n3                           Bar One -0.008115 -0.009104 -0.007323 -0.003761   \n4                  DeSandro on Main -0.374468 -0.419396 -0.211776 -0.139931   \n...                             ...       ...       ...       ...       ...   \n5047                 Stina Pizzeria -0.098367 -0.114201 -0.068085 -0.032063   \n5048                   Flip-N-Pizza -0.010688 -0.008313 -0.004552 -0.002771   \n5049            Ali Baba Magic Food -0.047699 -0.039386 -0.024542 -0.017615   \n5050                      Tata Cafe -0.717269 -0.600891 -0.399208 -0.272340   \n5051  Adelita Taqueria & Restaurant -0.015042 -0.011875 -0.007917 -0.004552   \n\n        4    5    6    7    8  ...  9990  9991  9992  9993  9994  9995  9996  \\\n0     0.0  0.0  0.0  0.0  0.0  ...   0.0   0.0   0.0   0.0   0.0   0.0   0.0   \n1     0.0  0.0  0.0  0.0  0.0  ...   0.0   0.0   0.0   0.0   0.0   0.0   0.0   \n2     0.0  0.0  0.0  0.0  0.0  ...   0.0   0.0   0.0   0.0   0.0   0.0   0.0   \n3     0.0  0.0  0.0  0.0  0.0  ...   0.0   0.0   0.0   0.0   0.0   0.0   0.0   \n4     0.0  0.0  0.0  0.0  0.0  ...   0.0   0.0   0.0   0.0   0.0   0.0   0.0   \n...   ...  ...  ...  ...  ...  ...   ...   ...   ...   ...   ...   ...   ...   \n5047  0.0  0.0  0.0  0.0  0.0  ...   0.0   0.0   0.0   0.0   0.0   0.0   0.0   \n5048  0.0  0.0  0.0  0.0  0.0  ...   0.0   0.0   0.0   0.0   0.0   0.0   0.0   \n5049  0.0  0.0  0.0  0.0  0.0  ...   0.0   0.0   0.0   0.0   0.0   0.0   0.0   \n5050  0.0  0.0  0.0  0.0  0.0  ...   0.0   0.0   0.0   0.0   0.0   0.0   0.0   \n5051  0.0  0.0  0.0  0.0  0.0  ...   0.0   0.0   0.0   0.0   0.0   0.0   0.0   \n\n      9997  9998  9999  \n0      0.0   0.0   0.0  \n1      0.0   0.0   0.0  \n2      0.0   0.0   0.0  \n3      0.0   0.0   0.0  \n4      0.0   0.0   0.0  \n...    ...   ...   ...  \n5047   0.0   0.0   0.0  \n5048   0.0   0.0   0.0  \n5049   0.0   0.0   0.0  \n5050   0.0   0.0   0.0  \n5051   0.0   0.0   0.0  \n\n[5052 rows x 10001 columns]",
      "text/html": "<div>\n<style scoped>\n    .dataframe tbody tr th:only-of-type {\n        vertical-align: middle;\n    }\n\n    .dataframe tbody tr th {\n        vertical-align: top;\n    }\n\n    .dataframe thead th {\n        text-align: right;\n    }\n</style>\n<table border=\"1\" class=\"dataframe\">\n  <thead>\n    <tr style=\"text-align: right;\">\n      <th></th>\n      <th>name</th>\n      <th>0</th>\n      <th>1</th>\n      <th>2</th>\n      <th>3</th>\n      <th>4</th>\n      <th>5</th>\n      <th>6</th>\n      <th>7</th>\n      <th>8</th>\n      <th>...</th>\n      <th>9990</th>\n      <th>9991</th>\n      <th>9992</th>\n      <th>9993</th>\n      <th>9994</th>\n      <th>9995</th>\n      <th>9996</th>\n      <th>9997</th>\n      <th>9998</th>\n      <th>9999</th>\n    </tr>\n  </thead>\n  <tbody>\n    <tr>\n      <th>0</th>\n      <td>St Honore Pastries</td>\n      <td>-0.006729</td>\n      <td>-0.004750</td>\n      <td>-0.005146</td>\n      <td>-0.002375</td>\n      <td>0.0</td>\n      <td>0.0</td>\n      <td>0.0</td>\n      <td>0.0</td>\n      <td>0.0</td>\n      <td>...</td>\n      <td>0.0</td>\n      <td>0.0</td>\n      <td>0.0</td>\n      <td>0.0</td>\n      <td>0.0</td>\n      <td>0.0</td>\n      <td>0.0</td>\n      <td>0.0</td>\n      <td>0.0</td>\n      <td>0.0</td>\n    </tr>\n    <tr>\n      <th>1</th>\n      <td>Tuna Bar</td>\n      <td>-0.070262</td>\n      <td>-0.061950</td>\n      <td>-0.044730</td>\n      <td>-0.031667</td>\n      <td>0.0</td>\n      <td>0.0</td>\n      <td>0.0</td>\n      <td>0.0</td>\n      <td>0.0</td>\n      <td>...</td>\n      <td>0.0</td>\n      <td>0.0</td>\n      <td>0.0</td>\n      <td>0.0</td>\n      <td>0.0</td>\n      <td>0.0</td>\n      <td>0.0</td>\n      <td>0.0</td>\n      <td>0.0</td>\n      <td>0.0</td>\n    </tr>\n    <tr>\n      <th>2</th>\n      <td>BAP</td>\n      <td>-0.391687</td>\n      <td>-0.339832</td>\n      <td>-0.247204</td>\n      <td>-0.155764</td>\n      <td>0.0</td>\n      <td>0.0</td>\n      <td>0.0</td>\n      <td>0.0</td>\n      <td>0.0</td>\n      <td>...</td>\n      <td>0.0</td>\n      <td>0.0</td>\n      <td>0.0</td>\n      <td>0.0</td>\n      <td>0.0</td>\n      <td>0.0</td>\n      <td>0.0</td>\n      <td>0.0</td>\n      <td>0.0</td>\n      <td>0.0</td>\n    </tr>\n    <tr>\n      <th>3</th>\n      <td>Bar One</td>\n      <td>-0.008115</td>\n      <td>-0.009104</td>\n      <td>-0.007323</td>\n      <td>-0.003761</td>\n      <td>0.0</td>\n      <td>0.0</td>\n      <td>0.0</td>\n      <td>0.0</td>\n      <td>0.0</td>\n      <td>...</td>\n      <td>0.0</td>\n      <td>0.0</td>\n      <td>0.0</td>\n      <td>0.0</td>\n      <td>0.0</td>\n      <td>0.0</td>\n      <td>0.0</td>\n      <td>0.0</td>\n      <td>0.0</td>\n      <td>0.0</td>\n    </tr>\n    <tr>\n      <th>4</th>\n      <td>DeSandro on Main</td>\n      <td>-0.374468</td>\n      <td>-0.419396</td>\n      <td>-0.211776</td>\n      <td>-0.139931</td>\n      <td>0.0</td>\n      <td>0.0</td>\n      <td>0.0</td>\n      <td>0.0</td>\n      <td>0.0</td>\n      <td>...</td>\n      <td>0.0</td>\n      <td>0.0</td>\n      <td>0.0</td>\n      <td>0.0</td>\n      <td>0.0</td>\n      <td>0.0</td>\n      <td>0.0</td>\n      <td>0.0</td>\n      <td>0.0</td>\n      <td>0.0</td>\n    </tr>\n    <tr>\n      <th>...</th>\n      <td>...</td>\n      <td>...</td>\n      <td>...</td>\n      <td>...</td>\n      <td>...</td>\n      <td>...</td>\n      <td>...</td>\n      <td>...</td>\n      <td>...</td>\n      <td>...</td>\n      <td>...</td>\n      <td>...</td>\n      <td>...</td>\n      <td>...</td>\n      <td>...</td>\n      <td>...</td>\n      <td>...</td>\n      <td>...</td>\n      <td>...</td>\n      <td>...</td>\n      <td>...</td>\n    </tr>\n    <tr>\n      <th>5047</th>\n      <td>Stina Pizzeria</td>\n      <td>-0.098367</td>\n      <td>-0.114201</td>\n      <td>-0.068085</td>\n      <td>-0.032063</td>\n      <td>0.0</td>\n      <td>0.0</td>\n      <td>0.0</td>\n      <td>0.0</td>\n      <td>0.0</td>\n      <td>...</td>\n      <td>0.0</td>\n      <td>0.0</td>\n      <td>0.0</td>\n      <td>0.0</td>\n      <td>0.0</td>\n      <td>0.0</td>\n      <td>0.0</td>\n      <td>0.0</td>\n      <td>0.0</td>\n      <td>0.0</td>\n    </tr>\n    <tr>\n      <th>5048</th>\n      <td>Flip-N-Pizza</td>\n      <td>-0.010688</td>\n      <td>-0.008313</td>\n      <td>-0.004552</td>\n      <td>-0.002771</td>\n      <td>0.0</td>\n      <td>0.0</td>\n      <td>0.0</td>\n      <td>0.0</td>\n      <td>0.0</td>\n      <td>...</td>\n      <td>0.0</td>\n      <td>0.0</td>\n      <td>0.0</td>\n      <td>0.0</td>\n      <td>0.0</td>\n      <td>0.0</td>\n      <td>0.0</td>\n      <td>0.0</td>\n      <td>0.0</td>\n      <td>0.0</td>\n    </tr>\n    <tr>\n      <th>5049</th>\n      <td>Ali Baba Magic Food</td>\n      <td>-0.047699</td>\n      <td>-0.039386</td>\n      <td>-0.024542</td>\n      <td>-0.017615</td>\n      <td>0.0</td>\n      <td>0.0</td>\n      <td>0.0</td>\n      <td>0.0</td>\n      <td>0.0</td>\n      <td>...</td>\n      <td>0.0</td>\n      <td>0.0</td>\n      <td>0.0</td>\n      <td>0.0</td>\n      <td>0.0</td>\n      <td>0.0</td>\n      <td>0.0</td>\n      <td>0.0</td>\n      <td>0.0</td>\n      <td>0.0</td>\n    </tr>\n    <tr>\n      <th>5050</th>\n      <td>Tata Cafe</td>\n      <td>-0.717269</td>\n      <td>-0.600891</td>\n      <td>-0.399208</td>\n      <td>-0.272340</td>\n      <td>0.0</td>\n      <td>0.0</td>\n      <td>0.0</td>\n      <td>0.0</td>\n      <td>0.0</td>\n      <td>...</td>\n      <td>0.0</td>\n      <td>0.0</td>\n      <td>0.0</td>\n      <td>0.0</td>\n      <td>0.0</td>\n      <td>0.0</td>\n      <td>0.0</td>\n      <td>0.0</td>\n      <td>0.0</td>\n      <td>0.0</td>\n    </tr>\n    <tr>\n      <th>5051</th>\n      <td>Adelita Taqueria &amp; Restaurant</td>\n      <td>-0.015042</td>\n      <td>-0.011875</td>\n      <td>-0.007917</td>\n      <td>-0.004552</td>\n      <td>0.0</td>\n      <td>0.0</td>\n      <td>0.0</td>\n      <td>0.0</td>\n      <td>0.0</td>\n      <td>...</td>\n      <td>0.0</td>\n      <td>0.0</td>\n      <td>0.0</td>\n      <td>0.0</td>\n      <td>0.0</td>\n      <td>0.0</td>\n      <td>0.0</td>\n      <td>0.0</td>\n      <td>0.0</td>\n      <td>0.0</td>\n    </tr>\n  </tbody>\n</table>\n<p>5052 rows × 10001 columns</p>\n</div>"
     },
     "execution_count": 2,
     "metadata": {},
     "output_type": "execute_result"
    }
   ],
   "source": [
    "data = pd.read_csv(\"top_tf_idf_matrix.csv\")\n",
    "data"
   ],
   "metadata": {
    "collapsed": false,
    "ExecuteTime": {
     "start_time": "2023-04-23T19:06:39.635129Z",
     "end_time": "2023-04-23T19:07:03.005818Z"
    }
   }
  },
  {
   "cell_type": "code",
   "execution_count": 17,
   "outputs": [],
   "source": [
    "restaurants = data[\"name\"]"
   ],
   "metadata": {
    "collapsed": false,
    "ExecuteTime": {
     "start_time": "2023-04-23T19:34:05.346043Z",
     "end_time": "2023-04-23T19:34:05.367683Z"
    }
   }
  },
  {
   "cell_type": "code",
   "execution_count": 33,
   "outputs": [],
   "source": [
    "matrix = data.drop([\"name\"], axis=1).to_numpy()"
   ],
   "metadata": {
    "collapsed": false,
    "ExecuteTime": {
     "start_time": "2023-04-23T20:10:22.943647Z",
     "end_time": "2023-04-23T20:10:23.689771Z"
    }
   }
  },
  {
   "cell_type": "code",
   "execution_count": 35,
   "outputs": [],
   "source": [
    "scaler = StandardScaler()\n",
    "scaled_matrix = scaler.fit_transform(matrix)"
   ],
   "metadata": {
    "collapsed": false,
    "ExecuteTime": {
     "start_time": "2023-04-23T20:10:27.285928Z",
     "end_time": "2023-04-23T20:10:29.126683Z"
    }
   }
  },
  {
   "cell_type": "code",
   "execution_count": 39,
   "outputs": [
    {
     "data": {
      "text/plain": "array([[-8.28130083e-02, -6.15956083e-02, -5.49238551e-02, ...,\n        -4.10128358e-20, -2.68608642e-18, -1.56365759e-20],\n       [-6.04872633e-02, -4.51005226e-02, -4.10661231e-02, ...,\n        -1.15985411e-19,  3.33641001e-18, -5.91261277e-20],\n       [ 5.34679067e-02,  3.93888809e-02,  3.01807943e-02, ...,\n         3.32641623e-22,  1.98772512e-21,  2.32196608e-22],\n       ...,\n       [-6.94451023e-02, -5.17401692e-02, -4.66120949e-02, ...,\n        -2.63724320e-18, -1.01611900e-19, -4.53860555e-19],\n       [ 1.67124341e-01,  1.24515935e-01,  1.03009860e-01, ...,\n         3.32641623e-22,  1.98772512e-21,  2.32196608e-22],\n       [-8.02348847e-02, -5.97092779e-02, -5.33186621e-02, ...,\n        -5.68714734e-19, -4.76488928e-19, -3.24863452e-19]])"
     },
     "execution_count": 39,
     "metadata": {},
     "output_type": "execute_result"
    }
   ],
   "source": [
    "pca_test = PCA()\n",
    "pca_test.fit_transform(matrix)"
   ],
   "metadata": {
    "collapsed": false,
    "ExecuteTime": {
     "start_time": "2023-04-23T20:11:27.842196Z",
     "end_time": "2023-04-23T20:13:35.296453Z"
    }
   }
  },
  {
   "cell_type": "code",
   "execution_count": 42,
   "outputs": [
    {
     "data": {
      "text/plain": "<AxesSubplot:>"
     },
     "execution_count": 42,
     "metadata": {},
     "output_type": "execute_result"
    },
    {
     "data": {
      "text/plain": "<Figure size 640x480 with 1 Axes>",
      "image/png": "[encoded data removed]"
     },
     "metadata": {},
     "output_type": "display_data"
    }
   ],
   "source": [
    "sns.lineplot(pca_test.explained_variance_ratio_.cumsum())"
   ],
   "metadata": {
    "collapsed": false,
    "ExecuteTime": {
     "start_time": "2023-04-23T20:14:17.338265Z",
     "end_time": "2023-04-23T20:14:17.645664Z"
    }
   }
  },
  {
   "cell_type": "code",
   "execution_count": 77,
   "outputs": [
    {
     "data": {
      "text/plain": "array([[-0.08282633, -0.06163396, -0.05499983, ..., -0.08418789,\n         0.07517281,  0.01901118],\n       [-0.06049686, -0.04512812, -0.04112337, ..., -0.05884146,\n         0.05312684,  0.01404112],\n       [ 0.05347868,  0.03942135,  0.0302245 , ...,  0.07673917,\n        -0.06545719, -0.01274177],\n       ...,\n       [-0.06945619, -0.05177208, -0.04667687, ..., -0.06900958,\n         0.0619569 ,  0.01602872],\n       [ 0.16715741,  0.12461628,  0.10316793, ...,  0.21882954,\n        -0.19156979, -0.04185675],\n       [-0.08024778, -0.05974638, -0.05339248, ..., -0.0812645 ,\n         0.07262332,  0.01843243]])"
     },
     "execution_count": 77,
     "metadata": {},
     "output_type": "execute_result"
    }
   ],
   "source": [
    "pca = PCA(n_components=10)\n",
    "pca_matrix = pca.fit_transform(matrix)\n",
    "pca_matrix"
   ],
   "metadata": {
    "collapsed": false,
    "ExecuteTime": {
     "start_time": "2023-04-23T20:25:08.201155Z",
     "end_time": "2023-04-23T20:25:12.551076Z"
    }
   }
  },
  {
   "cell_type": "code",
   "execution_count": 78,
   "outputs": [
    {
     "name": "stderr",
     "output_type": "stream",
     "text": [
      "100%|██████████| 28/28 [00:06<00:00,  4.54it/s]\n"
     ]
    }
   ],
   "source": [
    "\n",
    "# kmeans = KMeans(n_clusters=8).fit_transform(pca_matrix)\n",
    "# kmeans\n",
    "k_vals = [x for x in range(2, 30)]\n",
    "score = []\n",
    "for k in tqdm(k_vals):\n",
    "    kmeans = KMeans(n_clusters=k).fit(pca_matrix)\n",
    "    score.append(kmeans.inertia_)"
   ],
   "metadata": {
    "collapsed": false,
    "ExecuteTime": {
     "start_time": "2023-04-23T20:25:12.512735Z",
     "end_time": "2023-04-23T20:25:18.728858Z"
    }
   }
  },
  {
   "cell_type": "code",
   "execution_count": 79,
   "outputs": [
    {
     "data": {
      "text/plain": "<AxesSubplot:>"
     },
     "execution_count": 79,
     "metadata": {},
     "output_type": "execute_result"
    },
    {
     "data": {
      "text/plain": "<Figure size 640x480 with 1 Axes>",
      "image/png": "[encoded data removed]"
     },
     "metadata": {},
     "output_type": "display_data"
    }
   ],
   "source": [
    "sns.lineplot(x=k_vals, y=score)"
   ],
   "metadata": {
    "collapsed": false,
    "ExecuteTime": {
     "start_time": "2023-04-23T20:25:18.698800Z",
     "end_time": "2023-04-23T20:25:19.021481Z"
    }
   }
  },
  {
   "cell_type": "code",
   "execution_count": 80,
   "outputs": [
    {
     "data": {
      "text/plain": "(array([0, 1, 2, 3, 4, 5], dtype=int32),\n array([5047,    1,    1,    1,    1,    1]))"
     },
     "execution_count": 80,
     "metadata": {},
     "output_type": "execute_result"
    }
   ],
   "source": [
    "kmeans = KMeans(n_clusters=6).fit(pca_matrix)\n",
    "np.unique(kmeans.labels_, return_counts=True)"
   ],
   "metadata": {
    "collapsed": false,
    "ExecuteTime": {
     "start_time": "2023-04-23T20:25:20.534226Z",
     "end_time": "2023-04-23T20:25:20.678030Z"
    }
   }
  },
  {
   "cell_type": "code",
   "execution_count": 75,
   "outputs": [
    {
     "data": {
      "text/plain": "KMeans(n_clusters=6)"
     },
     "execution_count": 75,
     "metadata": {},
     "output_type": "execute_result"
    }
   ],
   "source": [
    "kmeans"
   ],
   "metadata": {
    "collapsed": false,
    "ExecuteTime": {
     "start_time": "2023-04-23T20:24:31.921711Z",
     "end_time": "2023-04-23T20:24:32.010476Z"
    }
   }
  },
  {
   "cell_type": "code",
   "execution_count": 56,
   "outputs": [
    {
     "data": {
      "text/plain": "0                  St Honore Pastries\n1                            Tuna Bar\n2                                 BAP\n3                             Bar One\n4                    DeSandro on Main\n                    ...              \n5047                   Stina Pizzeria\n5048                     Flip-N-Pizza\n5049              Ali Baba Magic Food\n5050                        Tata Cafe\n5051    Adelita Taqueria & Restaurant\nName: name, Length: 5052, dtype: object"
     },
     "execution_count": 56,
     "metadata": {},
     "output_type": "execute_result"
    }
   ],
   "source": [
    "restaurants"
   ],
   "metadata": {
    "collapsed": false,
    "ExecuteTime": {
     "start_time": "2023-04-23T20:20:54.507154Z",
     "end_time": "2023-04-23T20:20:54.518790Z"
    }
   }
  },
  {
   "cell_type": "code",
   "execution_count": null,
   "outputs": [],
   "source": [],
   "metadata": {
    "collapsed": false
   }
  }
 ],
 "metadata": {
  "kernelspec": {
   "display_name": "Python 3",
   "language": "python",
   "name": "python3"
  },
  "language_info": {
   "codemirror_mode": {
    "name": "ipython",
    "version": 2
   },
   "file_extension": ".py",
   "mimetype": "text/x-python",
   "name": "python",
   "nbconvert_exporter": "python",
   "pygments_lexer": "ipython2",
   "version": "2.7.6"
  }
 },
 "nbformat": 4,
 "nbformat_minor": 0
}
