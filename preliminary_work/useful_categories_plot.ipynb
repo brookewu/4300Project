{
 "cells": [
  {
   "cell_type": "code",
   "execution_count": 2,
   "metadata": {},
   "outputs": [
    {
     "name": "stdout",
     "output_type": "stream",
     "text": [
      "Collecting seaborn\n",
      "  Using cached seaborn-0.12.2-py3-none-any.whl (293 kB)\n",
      "Requirement already satisfied: numpy!=1.24.0,>=1.17 in c:\\users\\bzw10\\school\\sp23\\cs4300\\lib\\site-packages (from seaborn) (1.18.1)\n",
      "Requirement already satisfied: matplotlib!=3.6.1,>=3.1 in c:\\users\\bzw10\\school\\sp23\\cs4300\\lib\\site-packages (from seaborn) (3.1.2)\n",
      "Requirement already satisfied: typing_extensions in c:\\users\\bzw10\\school\\sp23\\cs4300\\lib\\site-packages (from seaborn) (4.5.0)\n",
      "Requirement already satisfied: pandas>=0.25 in c:\\users\\bzw10\\school\\sp23\\cs4300\\lib\\site-packages (from seaborn) (1.3.5)\n",
      "Requirement already satisfied: cycler>=0.10 in c:\\users\\bzw10\\school\\sp23\\cs4300\\lib\\site-packages (from matplotlib!=3.6.1,>=3.1->seaborn) (0.10.0)\n",
      "Requirement already satisfied: python-dateutil>=2.1 in c:\\users\\bzw10\\school\\sp23\\cs4300\\lib\\site-packages (from matplotlib!=3.6.1,>=3.1->seaborn) (2.8.2)\n",
      "Requirement already satisfied: kiwisolver>=1.0.1 in c:\\users\\bzw10\\school\\sp23\\cs4300\\lib\\site-packages (from matplotlib!=3.6.1,>=3.1->seaborn) (1.3.1)\n",
      "Requirement already satisfied: pyparsing!=2.0.4,!=2.1.2,!=2.1.6,>=2.0.1 in c:\\users\\bzw10\\school\\sp23\\cs4300\\lib\\site-packages (from matplotlib!=3.6.1,>=3.1->seaborn) (2.2.0)\n",
      "Requirement already satisfied: pytz>=2017.3 in c:\\users\\bzw10\\school\\sp23\\cs4300\\lib\\site-packages (from pandas>=0.25->seaborn) (2017.3)\n",
      "Requirement already satisfied: six in c:\\users\\bzw10\\school\\sp23\\cs4300\\lib\\site-packages (from cycler>=0.10->matplotlib!=3.6.1,>=3.1->seaborn) (1.11.0)\n",
      "Installing collected packages: seaborn\n",
      "Successfully installed seaborn-0.12.2\n",
      "Note: you may need to restart the kernel to use updated packages.\n"
     ]
    },
    {
     "name": "stderr",
     "output_type": "stream",
     "text": [
      "\n",
      "[notice] A new release of pip available: 22.3.1 -> 23.0.1\n",
      "[notice] To update, run: C:\\Users\\bzw10\\School\\SP23\\CS4300\\python.exe -m pip install --upgrade pip\n"
     ]
    }
   ],
   "source": [
    "#%pip install seaborn"
   ]
  },
  {
   "cell_type": "code",
   "execution_count": 3,
   "metadata": {
    "scrolled": true
   },
   "outputs": [],
   "source": [
    "import pandas as pd\n",
    "import json\n",
    "from tqdm.notebook import tqdm\n",
    "import matplotlib.pyplot as plt\n",
    "import seaborn as sns\n"
   ]
  },
  {
   "cell_type": "code",
   "execution_count": 4,
   "metadata": {
    "scrolled": true
   },
   "outputs": [],
   "source": [
    "df = pd.read_csv(\"sample.csv\")"
   ]
  },
  {
   "cell_type": "code",
   "execution_count": 5,
   "metadata": {},
   "outputs": [
    {
     "name": "stdout",
     "output_type": "stream",
     "text": [
      "Index(['Unnamed: 0', 'stars_review', 'useful', 'funny', 'cool', 'text', 'date',\n",
      "       'name', 'address', 'city', 'state', 'postal_code', 'latitude',\n",
      "       'longitude', 'stars_business', 'review_count', 'is_open', 'attributes',\n",
      "       'categories', 'hours', 'name_user', 'review_count_user',\n",
      "       'yelping_since', 'useful_user', 'funny_user', 'cool_user', 'elite',\n",
      "       'friends', 'fans', 'average_stars', 'compliment_hot', 'compliment_more',\n",
      "       'compliment_profile', 'compliment_cute', 'compliment_list',\n",
      "       'compliment_note', 'compliment_plain', 'compliment_cool',\n",
      "       'compliment_funny', 'compliment_writer', 'compliment_photos'],\n",
      "      dtype='object')\n",
      "                                             categories  \\\n",
      "0     Sandwiches, Cafes, Coffee & Tea, Restaurants, ...   \n",
      "1     American (Traditional), Steakhouses, Nightlife...   \n",
      "2     American (New), Restaurants, Tacos, Mexican, L...   \n",
      "3     Coffee & Tea, Food, Japanese, Restaurants, Chi...   \n",
      "4          Restaurants, French, Italian, American (New)   \n",
      "...                                                 ...   \n",
      "1495  Pubs, Sports Bars, Nightlife, Restaurants, Bar...   \n",
      "1496                                      Grocery, Food   \n",
      "1497  American (New), Nightlife, Greek, Cocktail Bar...   \n",
      "1498             Desserts, Food, Custom Cakes, Bakeries   \n",
      "1499  Burgers, American (New), Restaurants, Breakfas...   \n",
      "\n",
      "                            name  useful  \n",
      "0                  Cafe La Maude       0  \n",
      "1       Marmont Steakhouse & Bar       0  \n",
      "2                  La Mula Terca       0  \n",
      "3                      Café Soho       2  \n",
      "4                         Russet       2  \n",
      "...                          ...     ...  \n",
      "1495       The Bayou Bar & Grill       1  \n",
      "1496  The Fresh Grocer of Walnut       1  \n",
      "1497                     Valanni       0  \n",
      "1498            Whipped Bakeshop       4  \n",
      "1499                        Fork       0  \n",
      "\n",
      "[1500 rows x 3 columns]\n"
     ]
    }
   ],
   "source": [
    "print(df.columns)\n",
    "categories_and_useful = df.loc[:, [\"categories\", \"name\", \"useful\"]]\n",
    "print(categories_and_useful)\n",
    "# df.columns"
   ]
  },
  {
   "cell_type": "code",
   "execution_count": 46,
   "metadata": {},
   "outputs": [],
   "source": [
    "categories_and_useful = categories_and_useful.dropna()\n",
    "\n",
    "accum = {}\n",
    "counts = {}\n",
    "seen_restaurants = set()\n",
    "\n",
    "for index, row in categories_and_useful.iterrows():\n",
    "    categories = row[\"categories\"]\n",
    "    score = row[\"useful\"]\n",
    "    restaurant = row[\"name\"]\n",
    "    categories = categories.split(\", \")\n",
    "    \n",
    "    # go through each category for the restaurant\n",
    "    for category in set(categories):\n",
    "        # if category not seen, add it to accum and counts\n",
    "        if category not in accum.keys():\n",
    "            accum[category] = 0\n",
    "            counts[category] = 0\n",
    "        # increment the score for the category\n",
    "        accum[category] += score\n",
    "        # if the restaurant is not a repeat or if the category count is empty, increment\n",
    "        if restaurant not in seen_restaurants or counts[category] == 0: \n",
    "            counts[category] += 1\n",
    "\n",
    "    # mark restaurant as visited\n",
    "    if restaurant not in seen_restaurants: \n",
    "        seen_restaurants.add(restaurant) \n",
    "    \n",
    "\n",
    "# print(counts)\n",
    "# categories_score_dict = {key: float(accum[key])/counts[key] for key in counts}\n",
    "# print(categories_score_dict)\n",
    "# categories_avg_usefulness = pd.DataFrame.from_dict(categories_score_dict, orient=\"index\", columns=[\"useful\"])\n",
    "# print(categories_avg_usefulness)\n",
    "# print(categories_avg_usefulness.columns)"
   ]
  },
  {
   "cell_type": "code",
   "execution_count": 54,
   "metadata": {},
   "outputs": [
    {
     "name": "stdout",
     "output_type": "stream",
     "text": [
      "                               counts  scores\n",
      "Coffee & Tea                       78     115\n",
      "Sandwiches                        106     155\n",
      "Mediterranean                      27      58\n",
      "American (New)                    144     224\n",
      "Restaurants                       728    1100\n",
      "...                               ...     ...\n",
      "Photography Stores & Services       1       0\n",
      "Self Storage                        1       7\n",
      "Polish                              1       0\n",
      "Barre Classes                       1       0\n",
      "Pilates                             1       0\n",
      "\n",
      "[503 rows x 2 columns]\n"
     ]
    }
   ],
   "source": [
    "categories_counts = pd.DataFrame.from_dict(counts, orient=\"index\", columns=[\"counts\"])\n",
    "\n",
    "\n",
    "# print(categories_counts)\n",
    "\n",
    "# print(categories_counts.index)\n",
    "\n",
    "categories_scores = pd.DataFrame.from_dict(accum, orient=\"index\", columns=[\"scores\"])\n",
    "# print(categories_scores)\n",
    "\n",
    "joined_counts_scores = categories_counts.join(categories_scores)\n",
    "\n",
    "print(joined_counts_scores)\n",
    "top_30_categories = joined_counts_scores.sort_values(by=['counts'], ascending=False).head(30)\n",
    "# top_30_categories = categories_counts.head(30)"
   ]
  },
  {
   "cell_type": "code",
   "execution_count": 58,
   "metadata": {},
   "outputs": [
    {
     "data": {
      "image/png": "[encoded data removed]",
      "text/plain": [
       "<Figure size 432x288 with 1 Axes>"
      ]
     },
     "metadata": {
      "needs_background": "light"
     },
     "output_type": "display_data"
    }
   ],
   "source": [
    "# joined.plot(kind='bar')\n",
    "avg_scores = top_30_categories[\"scores\"]/top_30_categories[\"counts\"]\n",
    "\n",
    "avg_scores = avg_scores.sort_values(ascending=False)\n",
    "# print(avg_scores.sort_values(ascending=False))\n",
    "\n",
    "sns.barplot(x=avg_scores.index, y=avg_scores.values)\n",
    "plt.xticks(rotation=90)\n",
    "plt.title(\"Average usefulness of reviews per category\")\n",
    "sns.despine()\n",
    "plt.show()"
   ]
  },
  {
   "cell_type": "code",
   "execution_count": null,
   "metadata": {},
   "outputs": [],
   "source": [
    "temp = []\n",
    "file = open(\"yelp_academic_dataset_review.json\", \"r\")\n",
    "for line in tqdm(file.readlines()):\n",
    "    temp.append(json.loads(line))\n",
    "review_df = pd.DataFrame(temp)\n",
    "review_df"
   ]
  },
  {
   "cell_type": "code",
   "execution_count": null,
   "metadata": {},
   "outputs": [],
   "source": [
    "review_df.to_csv(\"reviews.csv\")"
   ]
  },
  {
   "cell_type": "code",
   "execution_count": null,
   "metadata": {},
   "outputs": [],
   "source": [
    "temp = []\n",
    "file = open(\"yelp_academic_dataset_business.json\", \"r\")\n",
    "for line in tqdm(file.readlines()):\n",
    "    temp.append(json.loads(line))\n",
    "business_df = pd.DataFrame(temp)\n",
    "business_df"
   ]
  },
  {
   "cell_type": "code",
   "execution_count": null,
   "metadata": {},
   "outputs": [],
   "source": [
    "business_df.to_csv(\"business.csv\")"
   ]
  },
  {
   "cell_type": "code",
   "execution_count": null,
   "metadata": {},
   "outputs": [],
   "source": [
    "phl_business = business_df[business_df[\"city\"] == \"Philadelphia\"]\n",
    "phl_business"
   ]
  },
  {
   "cell_type": "code",
   "execution_count": null,
   "metadata": {},
   "outputs": [],
   "source": [
    "b_r_df = pd.merge(review_df, phl_business, on=\"business_id\", suffixes=(\"_review\", \"_business\"))\n",
    "b_r_df"
   ]
  },
  {
   "cell_type": "code",
   "execution_count": null,
   "metadata": {},
   "outputs": [],
   "source": [
    "temp = []\n",
    "file = open(\"yelp_academic_dataset_user.json\", \"r\")\n",
    "for line in tqdm(file.readlines()):\n",
    "    temp.append(json.loads(line))\n",
    "user_df = pd.DataFrame(temp)\n",
    "user_df"
   ]
  },
  {
   "cell_type": "code",
   "execution_count": null,
   "metadata": {},
   "outputs": [],
   "source": [
    "user_df.to_csv(\"users.csv\")"
   ]
  },
  {
   "cell_type": "code",
   "execution_count": null,
   "metadata": {},
   "outputs": [],
   "source": [
    "b_r_u_df = pd.merge(b_r_df, user_df, on=\"user_id\", suffixes=(\"_user\", \"\"))\n",
    "b_r_u_df"
   ]
  },
  {
   "cell_type": "code",
   "execution_count": null,
   "metadata": {},
   "outputs": [],
   "source": [
    "final_cleaned = b_r_u_df.drop([\"business_id\", \"user_id\", \"review_id\"], axis=1)\n",
    "final_cleaned"
   ]
  },
  {
   "cell_type": "code",
   "execution_count": null,
   "metadata": {},
   "outputs": [],
   "source": [
    "final_cleaned.to_csv(\"data.csv\")"
   ]
  },
  {
   "cell_type": "code",
   "execution_count": null,
   "metadata": {},
   "outputs": [],
   "source": [
    "sample = final_cleaned.sample(1500)\n",
    "sample"
   ]
  },
  {
   "cell_type": "code",
   "execution_count": null,
   "metadata": {},
   "outputs": [],
   "source": [
    "sample.to_csv(\"sample.csv\")"
   ]
  },
  {
   "cell_type": "code",
   "execution_count": null,
   "metadata": {},
   "outputs": [],
   "source": []
  }
 ],
 "metadata": {
  "kernelspec": {
   "display_name": "cs4300-env",
   "language": "python",
   "name": "cs4300-env"
  },
  "language_info": {
   "codemirror_mode": {
    "name": "ipython",
    "version": 3
   },
   "file_extension": ".py",
   "mimetype": "text/x-python",
   "name": "python",
   "nbconvert_exporter": "python",
   "pygments_lexer": "ipython3",
   "version": "3.7.6"
  }
 },
 "nbformat": 4,
 "nbformat_minor": 1
}
