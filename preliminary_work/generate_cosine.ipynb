{
 "cells": [
  {
   "cell_type": "code",
   "execution_count": 104,
   "metadata": {
    "collapsed": true,
    "ExecuteTime": {
     "start_time": "2023-04-25T10:39:54.415932Z",
     "end_time": "2023-04-25T10:39:54.424766Z"
    }
   },
   "outputs": [],
   "source": [
    "import pandas as pd\n",
    "from tqdm.notebook import tqdm\n",
    "import nltk\n",
    "from nltk.tokenize import word_tokenize\n",
    "from nltk.stem import porter\n",
    "import ssl\n",
    "\n",
    "import numpy as np\n",
    "import matplotlib.pyplot as plt\n",
    "\n",
    "from sklearn.feature_extraction.text import TfidfVectorizer\n",
    "# try:\n",
    "#     _create_unverified_https_context = ssl._create_unverified_context\n",
    "# except AttributeError:\n",
    "#     pass\n",
    "# else:\n",
    "#     ssl._create_default_https_context = _create_unverified_https_context\n",
    "# nltk.download(\"punkt\")"
   ]
  },
  {
   "cell_type": "code",
   "execution_count": 120,
   "outputs": [
    {
     "data": {
      "text/plain": "        Unnamed: 0  stars_review  useful  funny  cool  \\\n0                0           5.0       1      0     1   \n1                1           5.0       0      0     0   \n2                2           1.0       3      1     0   \n3                3           5.0       0      0     0   \n4                4           5.0       0      0     0   \n...            ...           ...     ...    ...   ...   \n967545      967545           5.0       2      0     0   \n967546      967546           5.0       2      0     0   \n967547      967547           1.0       0      0     0   \n967548      967548           1.0       2      0     0   \n967549      967549           1.0       3      0     0   \n\n                                                     text  \\\n0       I've taken a lot of spin classes over the year...   \n1       Welcome to the neighborhood, Sweet Life Bakesh...   \n2       We decided to give the Barrel House another sh...   \n3       These guys were fantastic! They moved my grand...   \n4       I've been going to Body Cycle for about a year...   \n...                                                   ...   \n967545  Amazing customer experience. Locksmith was the...   \n967546  My tenant was locked out and I called Shay for...   \n967547  These two guys showed up to look at the roof o...   \n967548  Jim repaired our leaking roof, and guaranteed ...   \n967549  Jim does not like to write anything down. He m...   \n\n                       date                            name  \\\n0       2012-01-03 15:28:18      Body Cycle Spinning Studio   \n1       2015-04-16 16:34:29         The Sweet Life Bakeshop   \n2       2016-04-11 12:37:22  Bainbridge Street Barrel House   \n3       2018-11-07 15:17:25              Ivy Student Movers   \n4       2012-08-16 12:49:05      Body Cycle Spinning Studio   \n...                     ...                             ...   \n967545  2017-04-12 00:31:36   AMPM Locksmith - Philadelphia   \n967546  2018-06-26 13:20:26   AMPM Locksmith - Philadelphia   \n967547  2019-09-04 14:43:07       Katona James A Sr Roofing   \n967548  2018-02-11 16:45:38       Katona James A Sr Roofing   \n967549  2018-12-18 04:27:52       Katona James A Sr Roofing   \n\n                         address          city  ... compliment_more  \\\n0       1923 Chestnut St, 2nd Fl  Philadelphia  ...               0   \n1                   740 South St  Philadelphia  ...               0   \n2                625-27 S 6th St  Philadelphia  ...               0   \n3                            NaN  Philadelphia  ...               0   \n4       1923 Chestnut St, 2nd Fl  Philadelphia  ...               0   \n...                          ...           ...  ...             ...   \n967545              621 N 2nd St  Philadelphia  ...               0   \n967546              621 N 2nd St  Philadelphia  ...               0   \n967547         4384 Manayunk Ave  Philadelphia  ...               0   \n967548         4384 Manayunk Ave  Philadelphia  ...               0   \n967549         4384 Manayunk Ave  Philadelphia  ...               0   \n\n        compliment_profile  compliment_cute  compliment_list  compliment_note  \\\n0                        0                0                0                0   \n1                        0                0                0                0   \n2                        0                0                0                0   \n3                        0                0                0                0   \n4                        0                0                0                0   \n...                    ...              ...              ...              ...   \n967545                   0                0                0                0   \n967546                   0                0                0                0   \n967547                   0                0                0                0   \n967548                   0                0                0                0   \n967549                   0                0                0                0   \n\n        compliment_plain  compliment_cool compliment_funny compliment_writer  \\\n0                      0                0                0                 0   \n1                      0                0                0                 0   \n2                      0                0                0                 0   \n3                      0                0                0                 0   \n4                      0                0                0                 0   \n...                  ...              ...              ...               ...   \n967545                 0                0                0                 0   \n967546                 0                0                0                 0   \n967547                 0                0                0                 0   \n967548                 0                0                0                 0   \n967549                 1                0                0                 0   \n\n       compliment_photos  \n0                      0  \n1                      0  \n2                      0  \n3                      0  \n4                      0  \n...                  ...  \n967545                 0  \n967546                 0  \n967547                 0  \n967548                 0  \n967549                 0  \n\n[967550 rows x 41 columns]",
      "text/html": "<div>\n<style scoped>\n    .dataframe tbody tr th:only-of-type {\n        vertical-align: middle;\n    }\n\n    .dataframe tbody tr th {\n        vertical-align: top;\n    }\n\n    .dataframe thead th {\n        text-align: right;\n    }\n</style>\n<table border=\"1\" class=\"dataframe\">\n  <thead>\n    <tr style=\"text-align: right;\">\n      <th></th>\n      <th>Unnamed: 0</th>\n      <th>stars_review</th>\n      <th>useful</th>\n      <th>funny</th>\n      <th>cool</th>\n      <th>text</th>\n      <th>date</th>\n      <th>name</th>\n      <th>address</th>\n      <th>city</th>\n      <th>...</th>\n      <th>compliment_more</th>\n      <th>compliment_profile</th>\n      <th>compliment_cute</th>\n      <th>compliment_list</th>\n      <th>compliment_note</th>\n      <th>compliment_plain</th>\n      <th>compliment_cool</th>\n      <th>compliment_funny</th>\n      <th>compliment_writer</th>\n      <th>compliment_photos</th>\n    </tr>\n  </thead>\n  <tbody>\n    <tr>\n      <th>0</th>\n      <td>0</td>\n      <td>5.0</td>\n      <td>1</td>\n      <td>0</td>\n      <td>1</td>\n      <td>I've taken a lot of spin classes over the year...</td>\n      <td>2012-01-03 15:28:18</td>\n      <td>Body Cycle Spinning Studio</td>\n      <td>1923 Chestnut St, 2nd Fl</td>\n      <td>Philadelphia</td>\n      <td>...</td>\n      <td>0</td>\n      <td>0</td>\n      <td>0</td>\n      <td>0</td>\n      <td>0</td>\n      <td>0</td>\n      <td>0</td>\n      <td>0</td>\n      <td>0</td>\n      <td>0</td>\n    </tr>\n    <tr>\n      <th>1</th>\n      <td>1</td>\n      <td>5.0</td>\n      <td>0</td>\n      <td>0</td>\n      <td>0</td>\n      <td>Welcome to the neighborhood, Sweet Life Bakesh...</td>\n      <td>2015-04-16 16:34:29</td>\n      <td>The Sweet Life Bakeshop</td>\n      <td>740 South St</td>\n      <td>Philadelphia</td>\n      <td>...</td>\n      <td>0</td>\n      <td>0</td>\n      <td>0</td>\n      <td>0</td>\n      <td>0</td>\n      <td>0</td>\n      <td>0</td>\n      <td>0</td>\n      <td>0</td>\n      <td>0</td>\n    </tr>\n    <tr>\n      <th>2</th>\n      <td>2</td>\n      <td>1.0</td>\n      <td>3</td>\n      <td>1</td>\n      <td>0</td>\n      <td>We decided to give the Barrel House another sh...</td>\n      <td>2016-04-11 12:37:22</td>\n      <td>Bainbridge Street Barrel House</td>\n      <td>625-27 S 6th St</td>\n      <td>Philadelphia</td>\n      <td>...</td>\n      <td>0</td>\n      <td>0</td>\n      <td>0</td>\n      <td>0</td>\n      <td>0</td>\n      <td>0</td>\n      <td>0</td>\n      <td>0</td>\n      <td>0</td>\n      <td>0</td>\n    </tr>\n    <tr>\n      <th>3</th>\n      <td>3</td>\n      <td>5.0</td>\n      <td>0</td>\n      <td>0</td>\n      <td>0</td>\n      <td>These guys were fantastic! They moved my grand...</td>\n      <td>2018-11-07 15:17:25</td>\n      <td>Ivy Student Movers</td>\n      <td>NaN</td>\n      <td>Philadelphia</td>\n      <td>...</td>\n      <td>0</td>\n      <td>0</td>\n      <td>0</td>\n      <td>0</td>\n      <td>0</td>\n      <td>0</td>\n      <td>0</td>\n      <td>0</td>\n      <td>0</td>\n      <td>0</td>\n    </tr>\n    <tr>\n      <th>4</th>\n      <td>4</td>\n      <td>5.0</td>\n      <td>0</td>\n      <td>0</td>\n      <td>0</td>\n      <td>I've been going to Body Cycle for about a year...</td>\n      <td>2012-08-16 12:49:05</td>\n      <td>Body Cycle Spinning Studio</td>\n      <td>1923 Chestnut St, 2nd Fl</td>\n      <td>Philadelphia</td>\n      <td>...</td>\n      <td>0</td>\n      <td>0</td>\n      <td>0</td>\n      <td>0</td>\n      <td>0</td>\n      <td>0</td>\n      <td>0</td>\n      <td>0</td>\n      <td>0</td>\n      <td>0</td>\n    </tr>\n    <tr>\n      <th>...</th>\n      <td>...</td>\n      <td>...</td>\n      <td>...</td>\n      <td>...</td>\n      <td>...</td>\n      <td>...</td>\n      <td>...</td>\n      <td>...</td>\n      <td>...</td>\n      <td>...</td>\n      <td>...</td>\n      <td>...</td>\n      <td>...</td>\n      <td>...</td>\n      <td>...</td>\n      <td>...</td>\n      <td>...</td>\n      <td>...</td>\n      <td>...</td>\n      <td>...</td>\n      <td>...</td>\n    </tr>\n    <tr>\n      <th>967545</th>\n      <td>967545</td>\n      <td>5.0</td>\n      <td>2</td>\n      <td>0</td>\n      <td>0</td>\n      <td>Amazing customer experience. Locksmith was the...</td>\n      <td>2017-04-12 00:31:36</td>\n      <td>AMPM Locksmith - Philadelphia</td>\n      <td>621 N 2nd St</td>\n      <td>Philadelphia</td>\n      <td>...</td>\n      <td>0</td>\n      <td>0</td>\n      <td>0</td>\n      <td>0</td>\n      <td>0</td>\n      <td>0</td>\n      <td>0</td>\n      <td>0</td>\n      <td>0</td>\n      <td>0</td>\n    </tr>\n    <tr>\n      <th>967546</th>\n      <td>967546</td>\n      <td>5.0</td>\n      <td>2</td>\n      <td>0</td>\n      <td>0</td>\n      <td>My tenant was locked out and I called Shay for...</td>\n      <td>2018-06-26 13:20:26</td>\n      <td>AMPM Locksmith - Philadelphia</td>\n      <td>621 N 2nd St</td>\n      <td>Philadelphia</td>\n      <td>...</td>\n      <td>0</td>\n      <td>0</td>\n      <td>0</td>\n      <td>0</td>\n      <td>0</td>\n      <td>0</td>\n      <td>0</td>\n      <td>0</td>\n      <td>0</td>\n      <td>0</td>\n    </tr>\n    <tr>\n      <th>967547</th>\n      <td>967547</td>\n      <td>1.0</td>\n      <td>0</td>\n      <td>0</td>\n      <td>0</td>\n      <td>These two guys showed up to look at the roof o...</td>\n      <td>2019-09-04 14:43:07</td>\n      <td>Katona James A Sr Roofing</td>\n      <td>4384 Manayunk Ave</td>\n      <td>Philadelphia</td>\n      <td>...</td>\n      <td>0</td>\n      <td>0</td>\n      <td>0</td>\n      <td>0</td>\n      <td>0</td>\n      <td>0</td>\n      <td>0</td>\n      <td>0</td>\n      <td>0</td>\n      <td>0</td>\n    </tr>\n    <tr>\n      <th>967548</th>\n      <td>967548</td>\n      <td>1.0</td>\n      <td>2</td>\n      <td>0</td>\n      <td>0</td>\n      <td>Jim repaired our leaking roof, and guaranteed ...</td>\n      <td>2018-02-11 16:45:38</td>\n      <td>Katona James A Sr Roofing</td>\n      <td>4384 Manayunk Ave</td>\n      <td>Philadelphia</td>\n      <td>...</td>\n      <td>0</td>\n      <td>0</td>\n      <td>0</td>\n      <td>0</td>\n      <td>0</td>\n      <td>0</td>\n      <td>0</td>\n      <td>0</td>\n      <td>0</td>\n      <td>0</td>\n    </tr>\n    <tr>\n      <th>967549</th>\n      <td>967549</td>\n      <td>1.0</td>\n      <td>3</td>\n      <td>0</td>\n      <td>0</td>\n      <td>Jim does not like to write anything down. He m...</td>\n      <td>2018-12-18 04:27:52</td>\n      <td>Katona James A Sr Roofing</td>\n      <td>4384 Manayunk Ave</td>\n      <td>Philadelphia</td>\n      <td>...</td>\n      <td>0</td>\n      <td>0</td>\n      <td>0</td>\n      <td>0</td>\n      <td>0</td>\n      <td>1</td>\n      <td>0</td>\n      <td>0</td>\n      <td>0</td>\n      <td>0</td>\n    </tr>\n  </tbody>\n</table>\n<p>967550 rows × 41 columns</p>\n</div>"
     },
     "execution_count": 120,
     "metadata": {},
     "output_type": "execute_result"
    }
   ],
   "source": [
    "data = pd.read_csv(\"data.csv\")\n",
    "data"
   ],
   "metadata": {
    "collapsed": false,
    "ExecuteTime": {
     "start_time": "2023-04-25T11:30:01.807907Z",
     "end_time": "2023-04-25T11:30:51.433435Z"
    }
   }
  },
  {
   "cell_type": "code",
   "execution_count": 121,
   "outputs": [
    {
     "data": {
      "text/plain": "      Unnamed: 0                           name              address  \\\n0              0             St Honore Pastries          935 Race St   \n1              1                       Tuna Bar          205 Race St   \n2              2                            BAP        1224 South St   \n3              3                        Bar One         767 S 9th St   \n4              4               DeSandro on Main         4105 Main St   \n...          ...                            ...                  ...   \n5047        5047                 Stina Pizzeria      1705 Snyder Ave   \n5048        5048                   Flip-N-Pizza    1308 W Girard Ave   \n5049        5049            Ali Baba Magic Food      37TH And Walnut   \n5050        5050                      Tata Cafe  7201 Germantown Ave   \n5051        5051  Adelita Taqueria & Restaurant        1108 S 9th St   \n\n      postal_code  stars                                         categories  \\\n0         19107.0    4.0  Restaurants, Food, Bubble Tea, Coffee & Tea, B...   \n1         19106.0    4.0                  Sushi Bars, Restaurants, Japanese   \n2         19147.0    4.5                                Korean, Restaurants   \n3         19147.0    4.0  Cocktail Bars, Bars, Italian, Nightlife, Resta...   \n4         19127.0    3.0                    Pizza, Restaurants, Salad, Soup   \n...           ...    ...                                                ...   \n5047      19145.0    4.5                  Pizza, Restaurants, Mediterranean   \n5048      19123.0    4.0  Restaurants, American (Traditional), Chicken W...   \n5049      19104.0    4.0                           Restaurants, Food Stands   \n5050      19119.0    4.0                   Sandwiches, Restaurants, Italian   \n5051      19147.0    4.5                               Restaurants, Mexican   \n\n                                          useful_review  useful_count  \n0     I really enjoyed my brief visit to St.Honore P...            35  \n1     Finally got a chance to check this place out f...            32  \n2     I've been told I have nice BAPs. I have no ide...            14  \n3     $6.50 for a Kenzinger and the bartender didn't...             7  \n4     Secura? Sacada? I'm not sure. But you know who...             3  \n...                                                 ...           ...  \n5047  Stina is without a doubt worthy all the hype!!...            23  \n5048  I ordered through Uber Eats. The food was prep...             3  \n5049  Free taste.\\nStill don't know what it was.\\nIt...             2  \n5050  Neighborhood gem!  \\n\\nWe appreciate the promp...             3  \n5051  Love, love, love Adelita's! Wandered\\nIn after...             4  \n\n[5052 rows x 8 columns]",
      "text/html": "<div>\n<style scoped>\n    .dataframe tbody tr th:only-of-type {\n        vertical-align: middle;\n    }\n\n    .dataframe tbody tr th {\n        vertical-align: top;\n    }\n\n    .dataframe thead th {\n        text-align: right;\n    }\n</style>\n<table border=\"1\" class=\"dataframe\">\n  <thead>\n    <tr style=\"text-align: right;\">\n      <th></th>\n      <th>Unnamed: 0</th>\n      <th>name</th>\n      <th>address</th>\n      <th>postal_code</th>\n      <th>stars</th>\n      <th>categories</th>\n      <th>useful_review</th>\n      <th>useful_count</th>\n    </tr>\n  </thead>\n  <tbody>\n    <tr>\n      <th>0</th>\n      <td>0</td>\n      <td>St Honore Pastries</td>\n      <td>935 Race St</td>\n      <td>19107.0</td>\n      <td>4.0</td>\n      <td>Restaurants, Food, Bubble Tea, Coffee &amp; Tea, B...</td>\n      <td>I really enjoyed my brief visit to St.Honore P...</td>\n      <td>35</td>\n    </tr>\n    <tr>\n      <th>1</th>\n      <td>1</td>\n      <td>Tuna Bar</td>\n      <td>205 Race St</td>\n      <td>19106.0</td>\n      <td>4.0</td>\n      <td>Sushi Bars, Restaurants, Japanese</td>\n      <td>Finally got a chance to check this place out f...</td>\n      <td>32</td>\n    </tr>\n    <tr>\n      <th>2</th>\n      <td>2</td>\n      <td>BAP</td>\n      <td>1224 South St</td>\n      <td>19147.0</td>\n      <td>4.5</td>\n      <td>Korean, Restaurants</td>\n      <td>I've been told I have nice BAPs. I have no ide...</td>\n      <td>14</td>\n    </tr>\n    <tr>\n      <th>3</th>\n      <td>3</td>\n      <td>Bar One</td>\n      <td>767 S 9th St</td>\n      <td>19147.0</td>\n      <td>4.0</td>\n      <td>Cocktail Bars, Bars, Italian, Nightlife, Resta...</td>\n      <td>$6.50 for a Kenzinger and the bartender didn't...</td>\n      <td>7</td>\n    </tr>\n    <tr>\n      <th>4</th>\n      <td>4</td>\n      <td>DeSandro on Main</td>\n      <td>4105 Main St</td>\n      <td>19127.0</td>\n      <td>3.0</td>\n      <td>Pizza, Restaurants, Salad, Soup</td>\n      <td>Secura? Sacada? I'm not sure. But you know who...</td>\n      <td>3</td>\n    </tr>\n    <tr>\n      <th>...</th>\n      <td>...</td>\n      <td>...</td>\n      <td>...</td>\n      <td>...</td>\n      <td>...</td>\n      <td>...</td>\n      <td>...</td>\n      <td>...</td>\n    </tr>\n    <tr>\n      <th>5047</th>\n      <td>5047</td>\n      <td>Stina Pizzeria</td>\n      <td>1705 Snyder Ave</td>\n      <td>19145.0</td>\n      <td>4.5</td>\n      <td>Pizza, Restaurants, Mediterranean</td>\n      <td>Stina is without a doubt worthy all the hype!!...</td>\n      <td>23</td>\n    </tr>\n    <tr>\n      <th>5048</th>\n      <td>5048</td>\n      <td>Flip-N-Pizza</td>\n      <td>1308 W Girard Ave</td>\n      <td>19123.0</td>\n      <td>4.0</td>\n      <td>Restaurants, American (Traditional), Chicken W...</td>\n      <td>I ordered through Uber Eats. The food was prep...</td>\n      <td>3</td>\n    </tr>\n    <tr>\n      <th>5049</th>\n      <td>5049</td>\n      <td>Ali Baba Magic Food</td>\n      <td>37TH And Walnut</td>\n      <td>19104.0</td>\n      <td>4.0</td>\n      <td>Restaurants, Food Stands</td>\n      <td>Free taste.\\nStill don't know what it was.\\nIt...</td>\n      <td>2</td>\n    </tr>\n    <tr>\n      <th>5050</th>\n      <td>5050</td>\n      <td>Tata Cafe</td>\n      <td>7201 Germantown Ave</td>\n      <td>19119.0</td>\n      <td>4.0</td>\n      <td>Sandwiches, Restaurants, Italian</td>\n      <td>Neighborhood gem!  \\n\\nWe appreciate the promp...</td>\n      <td>3</td>\n    </tr>\n    <tr>\n      <th>5051</th>\n      <td>5051</td>\n      <td>Adelita Taqueria &amp; Restaurant</td>\n      <td>1108 S 9th St</td>\n      <td>19147.0</td>\n      <td>4.5</td>\n      <td>Restaurants, Mexican</td>\n      <td>Love, love, love Adelita's! Wandered\\nIn after...</td>\n      <td>4</td>\n    </tr>\n  </tbody>\n</table>\n<p>5052 rows × 8 columns</p>\n</div>"
     },
     "execution_count": 121,
     "metadata": {},
     "output_type": "execute_result"
    }
   ],
   "source": [
    "restaurants = pd.read_csv(\"business_attributes_old.csv\")\n",
    "restaurants"
   ],
   "metadata": {
    "collapsed": false,
    "ExecuteTime": {
     "start_time": "2023-04-25T11:30:51.434806Z",
     "end_time": "2023-04-25T11:30:51.790683Z"
    }
   }
  },
  {
   "cell_type": "code",
   "execution_count": 122,
   "outputs": [
    {
     "data": {
      "text/plain": "        Unnamed: 0_x  stars_review  useful  funny  cool  \\\n0                  2           1.0       3      1     0   \n1               1247           3.0       3      1     1   \n2               5924           4.0       1      0     0   \n3               5925           4.0       4      0     3   \n4               6021           1.0       3      1     0   \n...              ...           ...     ...    ...   ...   \n687030        847851           2.0       0      0     0   \n687031        879615           1.0       0      0     0   \n687032        947170           5.0       0      0     0   \n687033        947171           1.0       0      0     1   \n687034        947172           1.0       2      1     0   \n\n                                                     text  \\\n0       We decided to give the Barrel House another sh...   \n1       A quick gander at my face as I was ogling the ...   \n2       Update for Happy Hour:\\n\\nIf you like craft be...   \n3       I have been here twice, and I had good experie...   \n4       I ventured here on opening night with a party ...   \n...                                                   ...   \n687030  The food is tasty. I had a delivery today, I o...   \n687031  Food is just horrible, the food is never fresh...   \n687032  I can't speak on past reviews, but I have just...   \n687033  VERY disappointing! I spent so much on a large...   \n687034  SAVE YOURSELF! If I could give them ZERO I wou...   \n\n                       date                            name        address_x  \\\n0       2016-04-11 12:37:22  Bainbridge Street Barrel House  625-27 S 6th St   \n1       2014-12-05 16:35:37  Bainbridge Street Barrel House  625-27 S 6th St   \n2       2014-02-15 23:25:27  Bainbridge Street Barrel House  625-27 S 6th St   \n3       2012-11-18 23:01:37  Bainbridge Street Barrel House  625-27 S 6th St   \n4       2012-12-13 03:08:34  Bainbridge Street Barrel House  625-27 S 6th St   \n...                     ...                             ...              ...   \n687030  2020-04-28 00:16:16  Ajw Jamaican and American Food  4507 N Broad St   \n687031  2018-07-21 02:52:56  Ajw Jamaican and American Food  4507 N Broad St   \n687032  2019-09-19 04:05:22  Ajw Jamaican and American Food  4507 N Broad St   \n687033  2020-11-24 04:35:19  Ajw Jamaican and American Food  4507 N Broad St   \n687034  2019-03-03 02:56:57  Ajw Jamaican and American Food  4507 N Broad St   \n\n                city  ... compliment_funny  compliment_writer  \\\n0       Philadelphia  ...                0                  0   \n1       Philadelphia  ...              129                103   \n2       Philadelphia  ...               71                 27   \n3       Philadelphia  ...               71                 27   \n4       Philadelphia  ...                2                  3   \n...              ...  ...              ...                ...   \n687030  Philadelphia  ...                0                  0   \n687031  Philadelphia  ...                0                  0   \n687032  Philadelphia  ...                0                  0   \n687033  Philadelphia  ...                0                  0   \n687034  Philadelphia  ...                0                  0   \n\n        compliment_photos  Unnamed: 0_y        address_y  postal_code_y  \\\n0                       0          4271  625-27 S 6th St        19147.0   \n1                      19          4271  625-27 S 6th St        19147.0   \n2                       3          4271  625-27 S 6th St        19147.0   \n3                       3          4271  625-27 S 6th St        19147.0   \n4                       0          4271  625-27 S 6th St        19147.0   \n...                   ...           ...              ...            ...   \n687030                  0          4344  4507 N Broad St        19140.0   \n687031                  0          4344  4507 N Broad St        19140.0   \n687032                  0          4344  4507 N Broad St        19140.0   \n687033                  0          4344  4507 N Broad St        19140.0   \n687034                  0          4344  4507 N Broad St        19140.0   \n\n        stars                                       categories_y  \\\n0         3.0  Food, Breweries, Nightlife, Pubs, Sandwiches, ...   \n1         3.0  Food, Breweries, Nightlife, Pubs, Sandwiches, ...   \n2         3.0  Food, Breweries, Nightlife, Pubs, Sandwiches, ...   \n3         3.0  Food, Breweries, Nightlife, Pubs, Sandwiches, ...   \n4         3.0  Food, Breweries, Nightlife, Pubs, Sandwiches, ...   \n...       ...                                                ...   \n687030    2.0         Breakfast & Brunch, Caribbean, Restaurants   \n687031    2.0         Breakfast & Brunch, Caribbean, Restaurants   \n687032    2.0         Breakfast & Brunch, Caribbean, Restaurants   \n687033    2.0         Breakfast & Brunch, Caribbean, Restaurants   \n687034    2.0         Breakfast & Brunch, Caribbean, Restaurants   \n\n                                            useful_review useful_count  \n0       3.5 Stars. Unfortunately our first experience ...           19  \n1       3.5 Stars. Unfortunately our first experience ...           19  \n2       3.5 Stars. Unfortunately our first experience ...           19  \n3       3.5 Stars. Unfortunately our first experience ...           19  \n4       3.5 Stars. Unfortunately our first experience ...           19  \n...                                                   ...          ...  \n687030  SAVE YOURSELF! If I could give them ZERO I wou...            2  \n687031  SAVE YOURSELF! If I could give them ZERO I wou...            2  \n687032  SAVE YOURSELF! If I could give them ZERO I wou...            2  \n687033  SAVE YOURSELF! If I could give them ZERO I wou...            2  \n687034  SAVE YOURSELF! If I could give them ZERO I wou...            2  \n\n[687035 rows x 48 columns]",
      "text/html": "<div>\n<style scoped>\n    .dataframe tbody tr th:only-of-type {\n        vertical-align: middle;\n    }\n\n    .dataframe tbody tr th {\n        vertical-align: top;\n    }\n\n    .dataframe thead th {\n        text-align: right;\n    }\n</style>\n<table border=\"1\" class=\"dataframe\">\n  <thead>\n    <tr style=\"text-align: right;\">\n      <th></th>\n      <th>Unnamed: 0_x</th>\n      <th>stars_review</th>\n      <th>useful</th>\n      <th>funny</th>\n      <th>cool</th>\n      <th>text</th>\n      <th>date</th>\n      <th>name</th>\n      <th>address_x</th>\n      <th>city</th>\n      <th>...</th>\n      <th>compliment_funny</th>\n      <th>compliment_writer</th>\n      <th>compliment_photos</th>\n      <th>Unnamed: 0_y</th>\n      <th>address_y</th>\n      <th>postal_code_y</th>\n      <th>stars</th>\n      <th>categories_y</th>\n      <th>useful_review</th>\n      <th>useful_count</th>\n    </tr>\n  </thead>\n  <tbody>\n    <tr>\n      <th>0</th>\n      <td>2</td>\n      <td>1.0</td>\n      <td>3</td>\n      <td>1</td>\n      <td>0</td>\n      <td>We decided to give the Barrel House another sh...</td>\n      <td>2016-04-11 12:37:22</td>\n      <td>Bainbridge Street Barrel House</td>\n      <td>625-27 S 6th St</td>\n      <td>Philadelphia</td>\n      <td>...</td>\n      <td>0</td>\n      <td>0</td>\n      <td>0</td>\n      <td>4271</td>\n      <td>625-27 S 6th St</td>\n      <td>19147.0</td>\n      <td>3.0</td>\n      <td>Food, Breweries, Nightlife, Pubs, Sandwiches, ...</td>\n      <td>3.5 Stars. Unfortunately our first experience ...</td>\n      <td>19</td>\n    </tr>\n    <tr>\n      <th>1</th>\n      <td>1247</td>\n      <td>3.0</td>\n      <td>3</td>\n      <td>1</td>\n      <td>1</td>\n      <td>A quick gander at my face as I was ogling the ...</td>\n      <td>2014-12-05 16:35:37</td>\n      <td>Bainbridge Street Barrel House</td>\n      <td>625-27 S 6th St</td>\n      <td>Philadelphia</td>\n      <td>...</td>\n      <td>129</td>\n      <td>103</td>\n      <td>19</td>\n      <td>4271</td>\n      <td>625-27 S 6th St</td>\n      <td>19147.0</td>\n      <td>3.0</td>\n      <td>Food, Breweries, Nightlife, Pubs, Sandwiches, ...</td>\n      <td>3.5 Stars. Unfortunately our first experience ...</td>\n      <td>19</td>\n    </tr>\n    <tr>\n      <th>2</th>\n      <td>5924</td>\n      <td>4.0</td>\n      <td>1</td>\n      <td>0</td>\n      <td>0</td>\n      <td>Update for Happy Hour:\\n\\nIf you like craft be...</td>\n      <td>2014-02-15 23:25:27</td>\n      <td>Bainbridge Street Barrel House</td>\n      <td>625-27 S 6th St</td>\n      <td>Philadelphia</td>\n      <td>...</td>\n      <td>71</td>\n      <td>27</td>\n      <td>3</td>\n      <td>4271</td>\n      <td>625-27 S 6th St</td>\n      <td>19147.0</td>\n      <td>3.0</td>\n      <td>Food, Breweries, Nightlife, Pubs, Sandwiches, ...</td>\n      <td>3.5 Stars. Unfortunately our first experience ...</td>\n      <td>19</td>\n    </tr>\n    <tr>\n      <th>3</th>\n      <td>5925</td>\n      <td>4.0</td>\n      <td>4</td>\n      <td>0</td>\n      <td>3</td>\n      <td>I have been here twice, and I had good experie...</td>\n      <td>2012-11-18 23:01:37</td>\n      <td>Bainbridge Street Barrel House</td>\n      <td>625-27 S 6th St</td>\n      <td>Philadelphia</td>\n      <td>...</td>\n      <td>71</td>\n      <td>27</td>\n      <td>3</td>\n      <td>4271</td>\n      <td>625-27 S 6th St</td>\n      <td>19147.0</td>\n      <td>3.0</td>\n      <td>Food, Breweries, Nightlife, Pubs, Sandwiches, ...</td>\n      <td>3.5 Stars. Unfortunately our first experience ...</td>\n      <td>19</td>\n    </tr>\n    <tr>\n      <th>4</th>\n      <td>6021</td>\n      <td>1.0</td>\n      <td>3</td>\n      <td>1</td>\n      <td>0</td>\n      <td>I ventured here on opening night with a party ...</td>\n      <td>2012-12-13 03:08:34</td>\n      <td>Bainbridge Street Barrel House</td>\n      <td>625-27 S 6th St</td>\n      <td>Philadelphia</td>\n      <td>...</td>\n      <td>2</td>\n      <td>3</td>\n      <td>0</td>\n      <td>4271</td>\n      <td>625-27 S 6th St</td>\n      <td>19147.0</td>\n      <td>3.0</td>\n      <td>Food, Breweries, Nightlife, Pubs, Sandwiches, ...</td>\n      <td>3.5 Stars. Unfortunately our first experience ...</td>\n      <td>19</td>\n    </tr>\n    <tr>\n      <th>...</th>\n      <td>...</td>\n      <td>...</td>\n      <td>...</td>\n      <td>...</td>\n      <td>...</td>\n      <td>...</td>\n      <td>...</td>\n      <td>...</td>\n      <td>...</td>\n      <td>...</td>\n      <td>...</td>\n      <td>...</td>\n      <td>...</td>\n      <td>...</td>\n      <td>...</td>\n      <td>...</td>\n      <td>...</td>\n      <td>...</td>\n      <td>...</td>\n      <td>...</td>\n      <td>...</td>\n    </tr>\n    <tr>\n      <th>687030</th>\n      <td>847851</td>\n      <td>2.0</td>\n      <td>0</td>\n      <td>0</td>\n      <td>0</td>\n      <td>The food is tasty. I had a delivery today, I o...</td>\n      <td>2020-04-28 00:16:16</td>\n      <td>Ajw Jamaican and American Food</td>\n      <td>4507 N Broad St</td>\n      <td>Philadelphia</td>\n      <td>...</td>\n      <td>0</td>\n      <td>0</td>\n      <td>0</td>\n      <td>4344</td>\n      <td>4507 N Broad St</td>\n      <td>19140.0</td>\n      <td>2.0</td>\n      <td>Breakfast &amp; Brunch, Caribbean, Restaurants</td>\n      <td>SAVE YOURSELF! If I could give them ZERO I wou...</td>\n      <td>2</td>\n    </tr>\n    <tr>\n      <th>687031</th>\n      <td>879615</td>\n      <td>1.0</td>\n      <td>0</td>\n      <td>0</td>\n      <td>0</td>\n      <td>Food is just horrible, the food is never fresh...</td>\n      <td>2018-07-21 02:52:56</td>\n      <td>Ajw Jamaican and American Food</td>\n      <td>4507 N Broad St</td>\n      <td>Philadelphia</td>\n      <td>...</td>\n      <td>0</td>\n      <td>0</td>\n      <td>0</td>\n      <td>4344</td>\n      <td>4507 N Broad St</td>\n      <td>19140.0</td>\n      <td>2.0</td>\n      <td>Breakfast &amp; Brunch, Caribbean, Restaurants</td>\n      <td>SAVE YOURSELF! If I could give them ZERO I wou...</td>\n      <td>2</td>\n    </tr>\n    <tr>\n      <th>687032</th>\n      <td>947170</td>\n      <td>5.0</td>\n      <td>0</td>\n      <td>0</td>\n      <td>0</td>\n      <td>I can't speak on past reviews, but I have just...</td>\n      <td>2019-09-19 04:05:22</td>\n      <td>Ajw Jamaican and American Food</td>\n      <td>4507 N Broad St</td>\n      <td>Philadelphia</td>\n      <td>...</td>\n      <td>0</td>\n      <td>0</td>\n      <td>0</td>\n      <td>4344</td>\n      <td>4507 N Broad St</td>\n      <td>19140.0</td>\n      <td>2.0</td>\n      <td>Breakfast &amp; Brunch, Caribbean, Restaurants</td>\n      <td>SAVE YOURSELF! If I could give them ZERO I wou...</td>\n      <td>2</td>\n    </tr>\n    <tr>\n      <th>687033</th>\n      <td>947171</td>\n      <td>1.0</td>\n      <td>0</td>\n      <td>0</td>\n      <td>1</td>\n      <td>VERY disappointing! I spent so much on a large...</td>\n      <td>2020-11-24 04:35:19</td>\n      <td>Ajw Jamaican and American Food</td>\n      <td>4507 N Broad St</td>\n      <td>Philadelphia</td>\n      <td>...</td>\n      <td>0</td>\n      <td>0</td>\n      <td>0</td>\n      <td>4344</td>\n      <td>4507 N Broad St</td>\n      <td>19140.0</td>\n      <td>2.0</td>\n      <td>Breakfast &amp; Brunch, Caribbean, Restaurants</td>\n      <td>SAVE YOURSELF! If I could give them ZERO I wou...</td>\n      <td>2</td>\n    </tr>\n    <tr>\n      <th>687034</th>\n      <td>947172</td>\n      <td>1.0</td>\n      <td>2</td>\n      <td>1</td>\n      <td>0</td>\n      <td>SAVE YOURSELF! If I could give them ZERO I wou...</td>\n      <td>2019-03-03 02:56:57</td>\n      <td>Ajw Jamaican and American Food</td>\n      <td>4507 N Broad St</td>\n      <td>Philadelphia</td>\n      <td>...</td>\n      <td>0</td>\n      <td>0</td>\n      <td>0</td>\n      <td>4344</td>\n      <td>4507 N Broad St</td>\n      <td>19140.0</td>\n      <td>2.0</td>\n      <td>Breakfast &amp; Brunch, Caribbean, Restaurants</td>\n      <td>SAVE YOURSELF! If I could give them ZERO I wou...</td>\n      <td>2</td>\n    </tr>\n  </tbody>\n</table>\n<p>687035 rows × 48 columns</p>\n</div>"
     },
     "execution_count": 122,
     "metadata": {},
     "output_type": "execute_result"
    }
   ],
   "source": [
    "data = pd.merge(data, restaurants, left_on=\"name\", right_on=\"name\")\n",
    "data"
   ],
   "metadata": {
    "collapsed": false,
    "ExecuteTime": {
     "start_time": "2023-04-25T11:30:51.586498Z",
     "end_time": "2023-04-25T11:30:56.137458Z"
    }
   }
  },
  {
   "cell_type": "code",
   "execution_count": 123,
   "outputs": [
    {
     "data": {
      "text/plain": "  0%|          | 0/687035 [00:00<?, ?it/s]",
      "application/vnd.jupyter.widget-view+json": {
       "version_major": 2,
       "version_minor": 0,
       "model_id": "dde8b1c770a041dd986e23d42728a782"
      }
     },
     "metadata": {},
     "output_type": "display_data"
    }
   ],
   "source": [
    "review_texts = {}\n",
    "for i in tqdm(range(len(data))):\n",
    "    row = data.iloc[i]\n",
    "    if row[\"name\"] not in review_texts:\n",
    "        review_texts[row[\"name\"]] = \"\"\n",
    "    review_texts[row[\"name\"]] += \"\\n\" + row[\"text\"].lower()\n"
   ],
   "metadata": {
    "collapsed": false,
    "ExecuteTime": {
     "start_time": "2023-04-25T11:30:56.792652Z",
     "end_time": "2023-04-25T11:35:40.445180Z"
    }
   }
  },
  {
   "cell_type": "code",
   "execution_count": 124,
   "outputs": [
    {
     "data": {
      "text/plain": "                                  name  \\\n0       Bainbridge Street Barrel House   \n1                        Farmer's Keep   \n2               Kaufman's Delicatessen   \n3                    The Night Kitchen   \n4                               Jansen   \n...                                ...   \n5047             Istanbul Grill & Cafe   \n5048  Bocci's Steakhouse & Comedy Cafe   \n5049                     Montego Grill   \n5050             Angelina's Panini Bar   \n5051    Ajw Jamaican and American Food   \n\n                                                reviews  \n0     \\nwe decided to give the barrel house another ...  \n1     \\nbig fan. i think this is probably a big lunc...  \n2     \\ni love 4th st deli.  i was so happy when the...  \n3     \\nthe customer service sucks! the employees tr...  \n4     \\nloved all my selections: very fresh & crisp ...  \n...                                                 ...  \n5047  \\ndo not patronize this restaurant. a close fr...  \n5048  \\nthis is the absolute worse place to eat! the...  \n5049  \\nit's nasty. nothing i got form the jerk chic...  \n5050  \\noh goodness. avoid avoid avoid. they're not ...  \n5051  \\nthe food is tasty. i had a delivery today, i...  \n\n[5052 rows x 2 columns]",
      "text/html": "<div>\n<style scoped>\n    .dataframe tbody tr th:only-of-type {\n        vertical-align: middle;\n    }\n\n    .dataframe tbody tr th {\n        vertical-align: top;\n    }\n\n    .dataframe thead th {\n        text-align: right;\n    }\n</style>\n<table border=\"1\" class=\"dataframe\">\n  <thead>\n    <tr style=\"text-align: right;\">\n      <th></th>\n      <th>name</th>\n      <th>reviews</th>\n    </tr>\n  </thead>\n  <tbody>\n    <tr>\n      <th>0</th>\n      <td>Bainbridge Street Barrel House</td>\n      <td>\\nwe decided to give the barrel house another ...</td>\n    </tr>\n    <tr>\n      <th>1</th>\n      <td>Farmer's Keep</td>\n      <td>\\nbig fan. i think this is probably a big lunc...</td>\n    </tr>\n    <tr>\n      <th>2</th>\n      <td>Kaufman's Delicatessen</td>\n      <td>\\ni love 4th st deli.  i was so happy when the...</td>\n    </tr>\n    <tr>\n      <th>3</th>\n      <td>The Night Kitchen</td>\n      <td>\\nthe customer service sucks! the employees tr...</td>\n    </tr>\n    <tr>\n      <th>4</th>\n      <td>Jansen</td>\n      <td>\\nloved all my selections: very fresh &amp; crisp ...</td>\n    </tr>\n    <tr>\n      <th>...</th>\n      <td>...</td>\n      <td>...</td>\n    </tr>\n    <tr>\n      <th>5047</th>\n      <td>Istanbul Grill &amp; Cafe</td>\n      <td>\\ndo not patronize this restaurant. a close fr...</td>\n    </tr>\n    <tr>\n      <th>5048</th>\n      <td>Bocci's Steakhouse &amp; Comedy Cafe</td>\n      <td>\\nthis is the absolute worse place to eat! the...</td>\n    </tr>\n    <tr>\n      <th>5049</th>\n      <td>Montego Grill</td>\n      <td>\\nit's nasty. nothing i got form the jerk chic...</td>\n    </tr>\n    <tr>\n      <th>5050</th>\n      <td>Angelina's Panini Bar</td>\n      <td>\\noh goodness. avoid avoid avoid. they're not ...</td>\n    </tr>\n    <tr>\n      <th>5051</th>\n      <td>Ajw Jamaican and American Food</td>\n      <td>\\nthe food is tasty. i had a delivery today, i...</td>\n    </tr>\n  </tbody>\n</table>\n<p>5052 rows × 2 columns</p>\n</div>"
     },
     "execution_count": 124,
     "metadata": {},
     "output_type": "execute_result"
    }
   ],
   "source": [
    "restaurant_reviews = pd.DataFrame(review_texts.items())\n",
    "restaurant_reviews.columns = [\"name\", \"reviews\"]\n",
    "restaurant_reviews"
   ],
   "metadata": {
    "collapsed": false,
    "ExecuteTime": {
     "start_time": "2023-04-25T11:35:52.761561Z",
     "end_time": "2023-04-25T11:35:52.788514Z"
    }
   }
  },
  {
   "cell_type": "code",
   "execution_count": 125,
   "outputs": [
    {
     "data": {
      "text/plain": "<5052x3631 sparse matrix of type '<class 'numpy.float64'>'\n\twith 5253996 stored elements in Compressed Sparse Row format>"
     },
     "execution_count": 125,
     "metadata": {},
     "output_type": "execute_result"
    }
   ],
   "source": [
    "vectorizer = TfidfVectorizer(\n",
    "    min_df=0.1,\n",
    "    max_df=0.9\n",
    ")\n",
    "tf_idf = vectorizer.fit_transform(restaurant_reviews[\"reviews\"])\n",
    "tf_idf"
   ],
   "metadata": {
    "collapsed": false,
    "ExecuteTime": {
     "start_time": "2023-04-25T11:35:58.796545Z",
     "end_time": "2023-04-25T11:37:13.031212Z"
    }
   }
  },
  {
   "cell_type": "code",
   "execution_count": 126,
   "outputs": [],
   "source": [
    "# review_words = {}\n",
    "# for k, v in tqdm(review_texts.items()):\n",
    "#     review_words[k] = word_tokenize(v)\n",
    "# reviews_stemmed = {}\n",
    "# stemmer = porter.PorterStemmer()\n",
    "# for k, v in tqdm(review_words.items()):\n",
    "#     reviews_stemmed[k] = []\n",
    "#     for word in v:\n",
    "#         reviews_stemmed[k].append(stemmer.stem(word))\n",
    "# terms = set()\n",
    "# for k, v in tqdm(reviews_stemmed.items()):\n",
    "#     terms.update(v)\n",
    "#\n",
    "# terms = list(terms)\n",
    "# terms.sort()\n",
    "# word_to_index = {}\n",
    "# for i in range(len(terms)):\n",
    "#     word_to_index[terms[i]] = i\n",
    "restaurant_to_index = {}\n",
    "r = list(restaurant_reviews[\"name\"])\n",
    "r.sort()\n",
    "for i in range(len(r)):\n",
    "    restaurant_to_index[r[i]] = i\n",
    "# word_count = {}\n",
    "# for k, v in tqdm(reviews_stemmed.items()):\n",
    "#     for word in v:\n",
    "#         if word not in word_count:\n",
    "#             word_count[word] = 0\n",
    "#         word_count[word] += 1\n",
    "# word_count_df = pd.DataFrame(word_count.items())\n",
    "# tf_matrix = np.zeros((len(restaurants), len(terms)))\n",
    "# for k, v in tqdm(reviews_stemmed.items()):\n",
    "#     for word in v:\n",
    "#         tf_matrix[restaurant_to_index[k], word_to_index[word]] += 1\n",
    "# df_matrix = np.zeros((len(restaurants), len(terms)))\n",
    "# for k, v in tqdm(reviews_stemmed.items()):\n",
    "#     for word in v:\n",
    "#         df_matrix[restaurant_to_index[k], word_to_index[word]] = 1\n",
    "# df = df_matrix.sum(axis=0)\n",
    "# idf = np.log(len(restaurants) / (1 + df))\n",
    "# tf_idf_scores = tf_matrix * idf"
   ],
   "metadata": {
    "collapsed": false,
    "ExecuteTime": {
     "start_time": "2023-04-25T11:37:13.053400Z",
     "end_time": "2023-04-25T11:37:13.111181Z"
    }
   }
  },
  {
   "cell_type": "code",
   "execution_count": 127,
   "outputs": [],
   "source": [
    "avg_tf_idf = tf_idf.sum(axis=0)\n",
    "avg_tf_idf = [avg_tf_idf[0, x] for x in range(avg_tf_idf.shape[1])]"
   ],
   "metadata": {
    "collapsed": false,
    "ExecuteTime": {
     "start_time": "2023-04-25T11:37:13.080418Z",
     "end_time": "2023-04-25T11:37:13.111894Z"
    }
   }
  },
  {
   "cell_type": "code",
   "execution_count": 128,
   "outputs": [
    {
     "data": {
      "text/plain": "[<matplotlib.lines.Line2D at 0x7fcaf4100ad0>]"
     },
     "execution_count": 128,
     "metadata": {},
     "output_type": "execute_result"
    },
    {
     "data": {
      "text/plain": "<Figure size 640x480 with 1 Axes>",
      "image/png": "[encoded data removed]"
     },
     "metadata": {},
     "output_type": "display_data"
    }
   ],
   "source": [
    "plt.plot(sorted(avg_tf_idf, reverse=True)[:])"
   ],
   "metadata": {
    "collapsed": false,
    "ExecuteTime": {
     "start_time": "2023-04-25T11:37:13.123586Z",
     "end_time": "2023-04-25T11:37:13.582667Z"
    }
   }
  },
  {
   "cell_type": "code",
   "execution_count": 129,
   "outputs": [
    {
     "data": {
      "text/plain": "{'做的的牛仔骨也不熟都是血',\n 'crabcake',\n 'gatos',\n 'accesibility',\n 'fatassed',\n 'unzipped',\n 'coofee',\n 'pizzafusion',\n 'musles',\n 'lemonpepperwings',\n 'suckage',\n 'jbm',\n 'allegretto',\n '102029',\n 'sabzi',\n 'dayyyys',\n 'taka',\n 'clothier',\n 'nativity',\n 'cafetria',\n 'kombucha',\n 'pannier',\n 'blop',\n 'curveball',\n 'aramingo',\n 'unfortunley',\n 'ambulances',\n 'avos',\n 'beefy',\n 'lahim',\n 'reroute',\n 'dumpstered',\n 'keynote',\n 'inox',\n 'paraît',\n 'kelsee',\n 'montreux',\n 'goood',\n 'umeshisho',\n 'skooled',\n 'apologizes',\n 'owed',\n 'bagettes',\n 'tripling',\n 'entitlements',\n 'tgiving',\n 'taffers',\n 'tjat',\n 'aicha',\n 'chichi',\n 'somolian',\n 'sprayer',\n 'tastewas',\n 'melagrano',\n 'mufungo',\n 'spooge',\n 'buildings',\n 'prefunk',\n 'preager',\n 'detcted',\n 'chaa',\n 'unexceptional',\n 'kip',\n 'martens',\n 'erickson',\n 'accelerating',\n 'yourhands',\n '6ish',\n 'breadrcumbs',\n 'chintan',\n 'vedalia',\n 'morirsonando',\n 'guidilla',\n 'quarted',\n 'iml',\n 'grumbled',\n 'lampooned',\n 'guindon',\n 'falsetto',\n 'chantily',\n 'xiong',\n 'hipcityranch',\n 'amazingggggggggg',\n 'frousin',\n 'pastellios',\n 'ivoine',\n 'cydonia',\n 'gangplank',\n 'konkan',\n 'myfirst',\n 'funkadelic',\n 'jewknowamsayin',\n 'equanimity',\n 'desinegrated',\n 'nod',\n '总之体验一般',\n 'dge',\n 'gateaux',\n 'préparez',\n 'comung',\n 'isiyaki',\n 'verte',\n 'daivas',\n 'carpetbagger',\n 'abruptness',\n 'peopleeee',\n 'tastelessat',\n 'italiano',\n 'fiti',\n 'blowdrier',\n 'maxwells',\n 'kibbees',\n 'sto',\n 'shurmur',\n 'colloquialisms',\n 'lemons',\n 'densley',\n 'beepy',\n 'spearing',\n 'castelmagno',\n '5nashville',\n 'blackasnight',\n 'qarters',\n 'appeitizers',\n 'worsening',\n 'unerring',\n 'overcloying',\n 'buccatani',\n 'spork',\n 'unimitable',\n 'koozeedoo',\n 'wowowowowowow',\n 'btl',\n 'gotnavs',\n 'pelpada',\n 'patches',\n 'deuvers',\n 'penis',\n 'phact',\n 'blahhhh',\n 'facie',\n 'manifold',\n '88th',\n 'gwhs',\n 'miami',\n 'splitable',\n 'outfoor',\n 'shtetl',\n 'jouet',\n 'thisp',\n 'choral',\n 'preshredded',\n 'invites',\n 'haramo',\n 'whaaa',\n 'captives',\n 'fredas',\n 'nocando',\n 'envying',\n 'londons',\n 'zza',\n 'northerner',\n 'weaseley',\n 'duce',\n 'stomped',\n 'restarunt',\n 'mujedra',\n 'consistentcy',\n 'colabs',\n 'ivana',\n 'lyonnaise',\n 'groundbreaking',\n 'kasih',\n 'accoustic',\n 'ristretto',\n 'demoralizing',\n 'rigatone',\n 'xèo',\n 'caressss',\n 'yawl',\n 'reveived',\n 'liugi',\n 'scaillon',\n 'phx',\n 'hepped',\n 'picniceats',\n 'smaaaall',\n 'swweeeeeet',\n 'predicessor',\n 'galactic',\n 'replications',\n 'chiperones',\n 'linguica',\n 'worste',\n 'bientôt',\n 'luciano',\n 'venmo',\n 'parills',\n 'menupages',\n 'constipated',\n 'heplful',\n 'dellvery',\n 'bdays',\n 'natasia',\n 'bonkers',\n '朋友强烈推荐的',\n 'epiphany',\n 'squidly',\n 'yamashire',\n 'digestif',\n 'mcgreaserson',\n 'proofread',\n '00n',\n 'greatg',\n 'rotie',\n 'nafeesahuniquebites',\n 'coulture',\n 'interlocking',\n 'emmmmm',\n 'mapa',\n '201',\n 'bombbbb',\n 'confessions',\n 'jeeeeezus',\n 'sylvester',\n 'childcare',\n 'lbs',\n 'uncared',\n 'restin',\n 'pako',\n 'jaeyookbokkeum',\n 'contracting',\n 'beque',\n 'gerbil',\n 'solider',\n 'narroa',\n 'hhs',\n 'vacuumed',\n 'rabbit',\n 'discerning',\n 'shakerado',\n 'anayunk',\n 'blitzkrieg',\n 'lovey',\n 'jdb6zaeuguxrgyu5zjibzg',\n 'migardises',\n '7oclock',\n 'lodi',\n 'geographics',\n 'summaries',\n 'roxbourogh',\n 'cui',\n 'mindholes',\n 'heavyset',\n 'aleworks',\n 'ofered',\n 'inadvertently',\n 'befinden',\n 'immediateely',\n 'cornbread',\n 'buts',\n 'tbe',\n 'stahl',\n 'fdr',\n 'hsyterical',\n 'fopd',\n 'dubliner',\n 'luffa',\n 'precondition',\n 'tufulio',\n 'bassa',\n 'molcahetes',\n 'armo',\n 'philadelphianites',\n 'lacoste',\n 'nessum',\n 'opinions',\n 'unwrapped',\n 'hooch',\n 'bocconcini',\n 'cryazy',\n 'jerusalam',\n 'vomited',\n 'unneccasry',\n 'cheekily',\n 'kadampadonks',\n 'effervescently',\n 'vernacki',\n 'qality',\n 'anna',\n 'veggieasaurus',\n 'sacre',\n 'richmonds',\n 'str8s',\n 'suffices',\n 'ruts',\n 'carmelitta',\n 'airish',\n 'accomapained',\n 'yyyyyy',\n 'chata',\n 'wollinsky',\n 'bauernbrot',\n 'escovich',\n 'greecy',\n 'hollands',\n 'etka',\n 'exported',\n 'rutgers',\n '5塊',\n 'atrium',\n 'teleur',\n 'bienvenue',\n 'hammock',\n 'swandwich',\n 'paperbags',\n 'lavazza',\n 'amazeeee',\n 'embarquement',\n 'gainfrancos',\n 'dogwalking',\n 'torrija',\n 'glitching',\n 'tryout',\n 'visually',\n 'oishikatta',\n 'novella',\n 'tasked',\n 'lunchgoers',\n 'orgasmica',\n 'defineltly',\n 'tosseled',\n 'proscutti',\n 'frazzled',\n 'lifelong',\n 'pepperless',\n 'cocote',\n 'contiued',\n 'credential',\n 'onlyyyy',\n 'farmosa',\n 'prohibitionary',\n 'environent',\n 'multifarious',\n 'brötchen',\n 'convent',\n 'containerful',\n 'prpeared',\n 'cages',\n 'tcm',\n 'putty',\n 'cartoonized',\n 'detectible',\n 'kickbacks',\n 'nnot',\n 'honeyyyy',\n 'windex',\n 'shola_vs_blatstein_the_saga_of_the_city_s_most_mysterious_chef',\n 'nieghborhoof',\n 'mothball',\n 'skat',\n 'refreezing',\n 'donavon',\n 'silence',\n 'snickerdoodles',\n 'dimmers',\n 'spinnin',\n 'suffirait',\n 'perfeclty',\n '5701',\n 'mexcian',\n 'waxier',\n 'fency',\n 'rejoice',\n 'conjee',\n 'suv',\n 'maitr',\n 'calores',\n 'momand',\n 'amies',\n 'elderlies',\n '20ish',\n 'uncomprising',\n 'circ',\n 'ampersand',\n 'armeninan',\n 'blushed',\n 'injure',\n 'mori',\n 'helloooooo',\n '我们来了一阵了想问排队的事儿不理会我们',\n 'riducouly',\n 'julliene',\n 'kalbitang',\n 'はじめはコース',\n 'enfrijolada',\n 'peaky',\n 'maafe',\n 'lolwut',\n 'mannyhanny',\n 'mt',\n 'shifted',\n 'acalaides',\n 'outstanstanding',\n 'tatts',\n 'modavi',\n 'budinno',\n 'househunting',\n 'bittenballen',\n 'southgate',\n 'stockes',\n 'buzzfed',\n 'chouffemas',\n 'inbedded',\n 'teamdiesel',\n 'hk',\n 'pinehople',\n 'tastless',\n 'happer',\n 'funniest',\n 'favorful',\n 'eyecatcher',\n 'angelene',\n 'byocash',\n 'tuny',\n 'farmica',\n '93rd',\n 'chambersburg',\n 'medici',\n 'jerseys',\n 'gray',\n '同是中国人',\n 'ilegal',\n 'gauntlets',\n 'lifeblood',\n 'particulierement',\n 'starsssssss',\n 'drowing',\n 'atkin',\n 'cratered',\n '70lbs',\n 'unforgettably',\n 'misses',\n 'barley',\n 'nxt',\n 'boondi',\n 'rivalries',\n 'reconfigure',\n 'tacitos',\n 'blauburgunder',\n 'workmanship',\n 'tfaced',\n 'alllllll',\n 'butora',\n 'teardrop',\n 'spealizies',\n 'grindage',\n 'citaaay',\n 'goldendoodle',\n 'bougatsa',\n 'pancaking',\n 'crepe',\n 'the1600',\n 'shochu',\n 'transcends',\n 'googlness',\n 'zuchhini',\n 'achrai',\n 'ussr',\n 'ammaazzzing',\n 'microbraids',\n 'cambiamos',\n 'cheapsest',\n '142',\n 'decibals',\n '42060',\n 'hottub',\n 'kalomata',\n 'butterthat',\n 'somtum',\n 'soppresate',\n 'neato',\n 'unregretable',\n 'propagates',\n 'ipuddo',\n 'moretti',\n 'milkcraft',\n 'suckie',\n 'vets',\n '63rd',\n 'startd',\n 'palled',\n 'betterthan',\n 'sess',\n 'freshn',\n 'estadio',\n 'stashing',\n 'wast',\n '540',\n 'undivided',\n 'andechs',\n 'chincy',\n 'baggett',\n 'cheats',\n 'paisano',\n 'truckathon',\n 'murgatroyd',\n 'egb',\n 'feigned',\n 'touchdown',\n 'peptic',\n 'homemafe',\n 'aaaandddd',\n 'debatably',\n 'asains',\n 'junky',\n 'pourring',\n 'speciats',\n 'nocturnum',\n 'rabid',\n 'nutbag',\n 'karimah',\n 'defines',\n 'cobraman',\n 'wird',\n 'abstained',\n 'xochilt',\n 'ogled',\n 'schall',\n 'buchi',\n 'loooonger',\n 'huckelberries',\n 'boulaibaiisse',\n 'vball',\n 'uhuh',\n 'untar',\n 'wherin',\n 'maggs',\n 'featureless',\n 'kelce',\n 'notify',\n 'headfing',\n 'perennial',\n 'bushman',\n 'tourism',\n 'standers',\n 'elassadnro',\n 'recorder',\n 'catcha',\n 'oaxaqueno',\n 'vanessa',\n 'josephine',\n 'afeccionado',\n 'misho',\n 'yakitory',\n 'hardway',\n 'cpcu',\n 'debut',\n 'winwin',\n 'yelpsters',\n 'willnot',\n 'ideology',\n 'csn',\n 'satanic',\n 'etcetera',\n 'newtown',\n 'plowshare',\n 'sorryyyyyy',\n 'espanole',\n 'tetley',\n 'mucosa',\n 'tayhim',\n 'bringbackthesaucebar',\n 'thepricey',\n 'kew',\n 'looooveeee',\n '小籠包的價錢是不貴',\n 'duckers',\n 'llok',\n 'crutches',\n 'keel',\n 'thorpe',\n 'yeeessssss',\n 'dumploings',\n 'zong',\n 'medialunas',\n 'hairworms',\n 'ides',\n 'quesadillo',\n 'summarily',\n 'uday',\n 'pinpoint',\n 'counterintuitive',\n 'candor',\n 'negrita',\n 'apprehended',\n 'dinkleberries',\n 'souffl',\n 'remoulaude',\n 'kassem',\n 'lingkar',\n 'faaaaaaaaaantastic',\n 'serbice',\n 'shishkabob',\n 'coasts',\n 'whitening',\n 'swatter',\n 'birkenstock',\n 'twine',\n 'underfilled',\n 'palmies',\n 'shikari',\n 'foxtrot',\n 'littly',\n 'maket',\n 'highlyyy',\n 'susage',\n 'pasarlo',\n 'schuyler',\n 'fellowship',\n 'aunthentic',\n 'conshocken',\n 'imitri',\n 'jugglers',\n 'saxophonist',\n 'globular',\n 'unhealthily',\n 'averagely',\n 'phrohok',\n 'poindexter',\n 'beefier',\n 'evermore',\n 'snappiness',\n 'moysan',\n 'reprints',\n 'whistlin',\n 'petes',\n 'excelnte',\n 'porkbone',\n 'weeping',\n 'waitoutside',\n 'pasrty',\n 'cuffed',\n 'allsorts',\n 'headline',\n 'toasting',\n 'pheoebe',\n 'laker',\n 'allied',\n 'fataya',\n 'avacoto',\n 'huuuuuge',\n 'acrooss',\n 'balanceof',\n 'chimichangas',\n 'malasyian',\n '牛肉夾餅',\n 'watchful',\n 'aproximatly',\n 'pymt',\n 'wingo',\n 'blackberries',\n 'toofer',\n 'borbon',\n 'bade',\n 'senegal',\n 'cuuuuuuuuuuup',\n 'lolipop',\n 'incumbency',\n 'tribute',\n 'apertif',\n 'lovvvve',\n 'propriety',\n 'grimaldis',\n '希望以后会更好',\n 'alfado',\n 'ludes',\n 'mescallen',\n 'jrwdj7',\n 'snapchating',\n 'yardbirds',\n 'golobki',\n 'aaaannnyyyway',\n 'brothless',\n 'shiftless',\n 'amazingnessity',\n 'glenny',\n 'pinata',\n 'brussetta',\n '649',\n 'cheltenhem',\n 'deepdish',\n 'enewsletter',\n 'tonget',\n 'placer',\n 'pureee',\n 'outsells',\n 'demos',\n 'mannouchee',\n 'migo',\n 'mairritze',\n '手写在被子上经常发生没给topping或者就是说了不要冰还加冰',\n '6month',\n 'kedeki',\n 'unsatisfactorily',\n 'awe',\n 'enya',\n 'mignonettes',\n 'rennet',\n 'dinnette',\n 'yuuumm',\n 'tings',\n 'dunham',\n 'caramalized',\n 'mishandles',\n 'soooogood',\n 'runnnnnnn',\n 'superballs',\n 'rootbear',\n 'plare',\n '糖油粑粑',\n 'oftouristy',\n 'nightly',\n 'rumpled',\n 'fractionally',\n 'primanti',\n 'confines',\n 'ope',\n 'ehhhggccck',\n 'complemetary',\n 'umfasst',\n 'gelo',\n 'diovola',\n 'casuella',\n 'jettison',\n 'scattershot',\n 'mathematic',\n 'fhu8yrvgft9dlrnubaslba',\n 'wingtip',\n 'overreach',\n 'caperberries',\n 'pointillism',\n 'ugly',\n 'waitre',\n 'gooddd',\n 'matches',\n 'navin',\n 'beekh',\n 'sout',\n 'brewers',\n 'couldhave',\n 'effusive',\n 'reggeton',\n 'excerpt',\n 'ribiola',\n 'dopey',\n 'xiaogui',\n 'shisito',\n 'miatake',\n 'madagascar',\n 'frenchm',\n 'crammy',\n 'brauerbund',\n 'stinching',\n 'palourdes',\n 'wrth',\n 'vegetairian',\n 'chiche',\n 'puratory',\n 'bananabread',\n 'twitchy',\n 'mogiana',\n 'byotequlia',\n 'apperizer',\n 'doughie',\n 'ohmagaaawwd',\n 'digiourno',\n 'gina',\n 'undwhelming',\n '1215pm',\n 'nastasi',\n 'lodges',\n 'arugūa',\n 'joardan',\n 'tubful',\n 'goooaal',\n 'demanding',\n '两个人吃了',\n 'preach',\n 'ques',\n 'mispoke',\n 'coasting',\n 'boos',\n 'signed',\n 'lebaneh',\n 'chocolatecake',\n 'wowoowowoowowoow',\n 'bellei',\n 'immeadiatly',\n 'haring',\n 'touchanything',\n 'hoss',\n 'skate',\n 'bonnchon',\n 'pepps',\n 'genreal',\n 'palovar',\n 'parmsan',\n 'surgically',\n 'locat',\n 'minscule',\n 'chauvinist',\n 'cheifly',\n 'contractually',\n 'purchace',\n '292',\n 'gipp',\n 'speciaty',\n 'litres',\n 'accosting',\n 'mindlessly',\n 'roof',\n 'americana',\n 'cheesetake',\n 'deepfryer',\n 'restraunt',\n 'linguistics',\n 'granddad',\n 'relaxxx',\n 'complaines',\n 'mekle',\n 'inserting',\n 'havishams',\n 'pinky',\n 'friendcrush',\n 'prissy',\n 'adornments',\n 'ordrered',\n 'ect',\n 'butterbean',\n 'upstrairs',\n 'akon',\n 'carbonade',\n 'excatly',\n 'lemonado',\n '1549',\n 'berkley',\n 'splashings',\n 'marsalas',\n 'carcasses',\n 'brahhhh',\n 'creators',\n 'dang',\n 'resituate',\n 'jamais',\n 'kenyon',\n 'mifi',\n 'würsts',\n 'lyrics',\n 'madhatters',\n 'tikkaa',\n 'records',\n 'opportunivarian',\n 'cogs',\n 'gaurav',\n 'slays',\n 'dimensionality',\n 'complet',\n 'tinyish',\n 'pieice',\n 'dams',\n 'ammans',\n 'downpour',\n 'daaannnkkk',\n 'lovvvvved',\n 'robbery',\n 'achieving',\n 'turisto',\n 'alvarez',\n '给你送他的新菜发明',\n 'hams',\n 'contributes',\n 'awwwesome',\n 'desperation',\n 'whodathunk',\n 'freakiiinn',\n 'explainable',\n 'panetta',\n 'oagie',\n 'pennywort',\n 'clustered',\n 'aaaalllllll',\n 'salomi',\n 'surrealims',\n 'mavi',\n 'truley',\n 'moliterno',\n 'unbalanced',\n 'pong',\n 'expelling',\n 'painkillers',\n 'roselena',\n 'smashed',\n 'describes',\n 'wayyyyyyyyy',\n 'poppppping',\n 'loathing',\n 'seatbacks',\n 'fending',\n 'accessorizing',\n 'starchtastic',\n 'geum',\n 'varías',\n 'ely',\n 'looke',\n '比如亲耳听到一位服务员无故说了一声shit',\n 'worki',\n 'greezy',\n 'compte',\n 'minister',\n 'mousies',\n 'stash',\n 'brands',\n 'verbatim',\n 'lizzies',\n 'habia',\n 'k34',\n 'plexiglassed',\n 'soundboard',\n 'pandebono',\n 'barbajuan',\n 'agedashitofu',\n 'bergdorffs',\n 'peviously',\n 'bilgogi',\n 'mispronounces',\n 'membrillo',\n 'apres',\n 'expressmenus',\n 'hedger',\n 'operandi',\n 'physiques',\n 'pollock',\n '100feet',\n 'bessssttttt',\n 'rancidy',\n 'zagats',\n 'extroverts',\n 'megaplex',\n 'hilltop',\n 'grammarian',\n 'nashta',\n 'resee',\n 'udom',\n 'reykjavík',\n 'tuba',\n 'hhhhmmmmmmm',\n 'babbles',\n 'slussies',\n 'onebite',\n 'osteopathic',\n 'terminator',\n '可以顺便看看电影',\n 'punched',\n 'brynna',\n 'festivale',\n 'cravinggg',\n 'proffessional',\n 'untrendy',\n 'scratchin',\n 'fince',\n 'caribbeans',\n 'witoski',\n 'squarecup',\n 'wephil',\n 'nojitos',\n 'toddling',\n 'severy',\n 'grugel',\n 'perriers',\n 'capponata',\n 'livings',\n 'watied',\n 'squre',\n 'vaya',\n 'upstages',\n 'gradevole',\n 'bh',\n '牛肉非常赞',\n 'wingman',\n 'menopausal',\n 'fallser',\n '但考慮到價錢',\n 'overextending',\n 'levelled',\n 'padawans',\n 'grtiz',\n 'mmmmmmmmmmmmmmm',\n 'racetrack',\n 'bubbakoos',\n ...}"
     },
     "execution_count": 129,
     "metadata": {},
     "output_type": "execute_result"
    }
   ],
   "source": [
    "vectorizer.stop_words_"
   ],
   "metadata": {
    "collapsed": false,
    "ExecuteTime": {
     "start_time": "2023-04-25T11:37:13.588416Z",
     "end_time": "2023-04-25T11:37:13.620594Z"
    }
   }
  },
  {
   "cell_type": "code",
   "execution_count": 130,
   "outputs": [],
   "source": [
    "# tf_idf_threshold = 10000\n",
    "# sorted_index = np.argsort(avg_tf_idf)[:tf_idf_threshold]\n",
    "\n",
    "\n",
    "# for i in tqdm(range(len(terms))):\n",
    "#     if sorted_index[i] < tf_idf_threshold:\n",
    "# top_tf_idf = tf_idf_scores[:,sorted_index]"
   ],
   "metadata": {
    "collapsed": false,
    "ExecuteTime": {
     "start_time": "2023-04-25T11:37:13.612935Z",
     "end_time": "2023-04-25T11:37:13.620881Z"
    }
   }
  },
  {
   "cell_type": "code",
   "execution_count": 131,
   "outputs": [],
   "source": [
    "tf_idf_matrix = tf_idf.todense()"
   ],
   "metadata": {
    "collapsed": false,
    "ExecuteTime": {
     "start_time": "2023-04-25T11:37:13.620506Z",
     "end_time": "2023-04-25T11:37:13.806430Z"
    }
   }
  },
  {
   "cell_type": "code",
   "execution_count": 132,
   "outputs": [],
   "source": [
    "top_tf_idf_df = pd.DataFrame(tf_idf)\n",
    "top_tf_idf_df.index = restaurant_reviews[\"name\"]"
   ],
   "metadata": {
    "collapsed": false,
    "ExecuteTime": {
     "start_time": "2023-04-25T11:37:13.799924Z",
     "end_time": "2023-04-25T11:37:14.641628Z"
    }
   }
  },
  {
   "cell_type": "code",
   "execution_count": 133,
   "outputs": [],
   "source": [
    "top_tf_idf_df.to_csv(\"tf_idf_matrix_2.csv\")"
   ],
   "metadata": {
    "collapsed": false,
    "ExecuteTime": {
     "start_time": "2023-04-25T11:37:14.615179Z",
     "end_time": "2023-04-25T11:37:16.204343Z"
    }
   }
  },
  {
   "cell_type": "code",
   "execution_count": 134,
   "outputs": [
    {
     "data": {
      "text/plain": "{'decided': 881,\n 'give': 1399,\n 'house': 1603,\n 'another': 171,\n 'shot': 2833,\n 'live': 1858,\n 'neighborhood': 2090,\n 'took': 3281,\n 'our': 2201,\n 'friends': 1346,\n 'young': 3622,\n 'daughter': 866,\n 'slow': 2893,\n 'never': 2094,\n 'drinks': 1024,\n 'forever': 1311,\n 'come': 687,\n 'asked': 233,\n 'check': 585,\n 'said': 2690,\n 'down': 1003,\n 'delay': 895,\n 'sure': 3134,\n 'why': 3542,\n 'couldn': 782,\n 'offered': 2153,\n 'information': 1669,\n 'earlier': 1048,\n 'top': 3283,\n 'off': 2151,\n 'entire': 1113,\n 'party': 2262,\n 'sick': 2846,\n 'after': 110,\n 'dinner': 956,\n 'ate': 245,\n 'same': 2700,\n 'thing': 3228,\n 'needless': 2086,\n 'say': 2728,\n 'll': 1863,\n 'quick': 2498,\n 'face': 1188,\n 'nachos': 2066,\n 'dining': 955,\n 'wait': 3453,\n 'see': 2765,\n 'how': 1604,\n 'rate': 2514,\n 'spot': 2995,\n 'know': 1767,\n 'says': 2730,\n 'once': 2172,\n 'twice': 3344,\n 'before': 337,\n 'beer': 333,\n 'events': 1135,\n 'truly': 3329,\n 'impressed': 1641,\n 'tend': 3196,\n 'super': 3125,\n 'hype': 1620,\n 'something': 2932,\n 'sour': 2955,\n 'tap': 3173,\n 'then': 3222,\n 'arrive': 223,\n 'four': 1324,\n 'people': 2292,\n 'enough': 1106,\n 'staff': 3008,\n 'room': 2657,\n 'list': 1851,\n 'normally': 2119,\n 'stick': 3053,\n 'around': 220,\n 'single': 2865,\n 'call': 503,\n 'night': 2103,\n 'happened': 1494,\n 'visit': 3443,\n 'figured': 1248,\n 'hey': 1547,\n 'eats': 1065,\n 'three': 3242,\n 'us': 3404,\n 'head': 1511,\n 'over': 2210,\n 'two': 3346,\n 'girlfriends': 1397,\n 'drink': 1021,\n 'nothing': 2128,\n 'fancy': 1205,\n 'enjoyed': 1102,\n 'split': 2988,\n 'chili': 611,\n 'sweet': 3145,\n 'potato': 2400,\n 'pretty': 2429,\n 'fast': 1212,\n 'front': 1349,\n 'though': 3238,\n 'music': 2061,\n 'loud': 1886,\n 'could': 781,\n 'hardly': 1502,\n 'hear': 1518,\n 'each': 1045,\n 'talk': 3168,\n 'surprising': 3138,\n 'tuesday': 3334,\n '8pm': 44,\n 'wasn': 3485,\n 'terribly': 3203,\n 'crowded': 827,\n 'made': 1912,\n 'volume': 3449,\n 'situation': 2872,\n 'worse': 3585,\n 'arrived': 224,\n 'loaded': 1866,\n 'initially': 1676,\n 'exciting': 1156,\n 'alas': 129,\n 'pushed': 2487,\n 'noticed': 2130,\n 'fairly': 1195,\n 'toppings': 3286,\n 'pet': 2308,\n 'hunt': 1616,\n 'philly': 2313,\n 'warm': 3476,\n 'shame': 2810,\n 'server': 2792,\n 'kind': 1756,\n 'little': 1857,\n 'still': 3057,\n 'conversation': 764,\n 'he': 1510,\n 'eventually': 1136,\n 'delicious': 899,\n 'meaty': 1965,\n 'hearty': 1522,\n 'serving': 2796,\n 'bad': 277,\n 'either': 1079,\n 'used': 3406,\n 'sauce': 2717,\n 'texture': 3208,\n 'point': 2376,\n 'think': 3230,\n 'biggest': 362,\n 'feeling': 1234,\n 'definitely': 892,\n 'ok': 2163,\n 'city': 638,\n 'full': 1359,\n 'amazing': 156,\n 'isn': 1705,\n 'going': 1414,\n 'bring': 443,\n 'hurry': 1617,\n 'heard': 1519,\n 'fried': 1341,\n 'pickles': 2324,\n 'insane': 1678,\n 'do': 986,\n 'make': 1919,\n 'first': 1268,\n 'choice': 621,\n 'update': 3393,\n 'happy': 1499,\n 'hour': 1601,\n 'craft': 803,\n 'draft': 1011,\n 'minus': 2015,\n 'hand': 1482,\n '20': 14,\n 'beers': 334,\n 'half': 1477,\n '30': 25,\n 'yes': 3616,\n 'early': 1049,\n 'side': 2847,\n 'awesome': 269,\n 'way': 3500,\n 'those': 3237,\n 'might': 1998,\n 'otherwise': 2200,\n 'wine': 3552,\n 'experiences': 1170,\n 'both': 410,\n 'times': 3259,\n 'monday': 2038,\n 'ended': 1093,\n 'long': 1875,\n 'take': 3163,\n 'okay': 2164,\n 'fries': 1347,\n 'table': 3156,\n 'portions': 2393,\n 'weren': 3523,\n 'huge': 1609,\n 'didn': 940,\n 'big': 360,\n 'problem': 2447,\n 'awhile': 271,\n 'everyone': 1141,\n 'started': 3023,\n 'eating': 1064,\n 'soup': 2953,\n 'day': 867,\n 'cheese': 592,\n 'mac': 1908,\n 'loved': 1891,\n 'creamy': 814,\n 'pieces': 2332,\n 'thought': 3239,\n 'touch': 3293,\n 'meatballs': 1963,\n 'sandwich': 2707,\n 'size': 2874,\n 'fish': 1269,\n 'tiny': 3261,\n 'previous': 2430,\n 'reviewer': 2625,\n 'mentioned': 1982,\n 'salads': 2693,\n 'burger': 475,\n 'liked': 1839,\n 'went': 3522,\n 'again': 113,\n 'sunday': 3122,\n '12': 5,\n 'brunch': 455,\n 'honestly': 1580,\n 'every': 1138,\n 'leave': 1812,\n 'being': 344,\n 'omelet': 2169,\n 'onion': 2174,\n 'sausage': 2720,\n 'came': 509,\n 'apple': 204,\n '11': 4,\n '50': 34,\n 'regular': 2569,\n '10': 1,\n 'build': 467,\n 'own': 2224,\n 'variety': 3418,\n 'tasty': 3183,\n 'plenty': 2371,\n 'chunks': 632,\n 'lamb': 1785,\n 'poached': 2374,\n 'egg': 1074,\n 'potatoes': 2401,\n 'smaller': 2897,\n 'looked': 1878,\n 'salmon': 2695,\n 'cream': 813,\n 'charge': 572,\n 'coffee': 672,\n 'several': 2806,\n 'cups': 841,\n 'bloody': 383,\n 'mary': 1942,\n 'blown': 386,\n 'away': 268,\n 'solid': 2927,\n 'manager': 1928,\n 'everything': 1142,\n 'perfect': 2297,\n 'ventured': 3431,\n 'opening': 2180,\n 'others': 2199,\n 'extremely': 1184,\n 'excited': 1155,\n 'new': 2096,\n 'looking': 1879,\n 'favorite': 1221,\n 'ran': 2505,\n 'past': 2268,\n 'few': 1243,\n 'while': 3532,\n 'under': 3364,\n 'than': 3211,\n 'open': 2178,\n 'probably': 2446,\n 'should': 2835,\n 'cool': 773,\n 'menu': 1984,\n 'nowhere': 2132,\n 'found': 1322,\n 'guys': 1472,\n 'put': 2488,\n 'name': 2067,\n 'hostess': 1598,\n 'told': 3272,\n 'him': 1557,\n '45': 31,\n 'minute': 2016,\n 'willing': 3547,\n 'bar': 295,\n 'extensive': 1180,\n 'cocktails': 669,\n 'snacks': 2913,\n 'forward': 1321,\n 'meal': 1954,\n 'waited': 3454,\n 'almost': 144,\n 'hours': 1602,\n 'gone': 1417,\n 'since': 2863,\n 'frustrated': 1353,\n 'mostly': 2045,\n 'disappointment': 969,\n 'hunger': 1614,\n 'overly': 2217,\n 'yet': 3618,\n 'approached': 209,\n 'let': 1826,\n 'leaving': 1814,\n 'particular': 2257,\n 'basically': 306,\n 'tired': 3265,\n 'hearing': 1520,\n 'complaints': 715,\n 'totally': 3292,\n 'planning': 2353,\n 'coming': 694,\n 'until': 3390,\n 'run': 2678,\n 'such': 3105,\n 'quality': 2492,\n 'corner': 776,\n 'area': 214,\n 'love': 1890,\n 'atmosphere': 247,\n 'friendly': 1345,\n 'course': 790,\n 'finally': 1255,\n 'finished': 1263,\n 'couple': 787,\n 'where': 3530,\n 'cocktail': 668,\n 'points': 2378,\n 'salad': 2692,\n 'sample': 2701,\n 'brought': 453,\n 're': 2525,\n 'vegan': 3422,\n 'breakfast': 433,\n 'reasonable': 2537,\n 'many': 1933,\n 'plates': 2358,\n 'compared': 706,\n 'nearby': 2079,\n 'tea': 3185,\n 'places': 2348,\n 'limited': 1846,\n 'vegetarian': 3426,\n 'options': 2190,\n 'trying': 3332,\n 'further': 1364,\n 'enjoying': 1103,\n 'friend': 1342,\n 'last': 1791,\n 'week': 3509,\n 'during': 1042,\n 'requested': 2601,\n 'outside': 2207,\n 'seating': 2758,\n 'host': 1597,\n 'special': 2968,\n 'brew': 438,\n 'water': 3493,\n 'actually': 80,\n 'received': 2543,\n 'much': 2054,\n 'flavor': 1280,\n 'tasted': 3177,\n 'cucumbers': 836,\n 'taste': 3175,\n 'pickle': 2322,\n 'based': 304,\n 'experience': 1168,\n 'stars': 3021,\n 'want': 3472,\n 'given': 1400,\n 'shots': 2834,\n 'unfortunately': 3376,\n 'street': 3079,\n 'most': 2044,\n 'recent': 2545,\n 'specifically': 2972,\n 'old': 2165,\n 'school': 2737,\n 'game': 1369,\n 'group': 1459,\n 'phillies': 2312,\n 'bartender': 301,\n 'hook': 1584,\n 'system': 3154,\n 'ten': 3195,\n 'minutes': 2017,\n 'post': 2397,\n 'busy': 487,\n 'policy': 2380,\n 'happens': 1496,\n 'fine': 1258,\n 'rather': 2516,\n 'decide': 880,\n 'myself': 2065,\n 'whether': 3531,\n 'patrons': 2280,\n 'plus': 2372,\n 'sitting': 2871,\n 'high': 1550,\n 'tables': 3157,\n 'large': 1789,\n 'available': 261,\n 'handling': 1487,\n 'rest': 2613,\n 'restaurant': 2614,\n 'mood': 2042,\n 'gin': 1393,\n 'infused': 1672,\n 'cucumber': 835,\n 'bit': 366,\n 'st': 3007,\n 'flat': 1279,\n 'she': 2818,\n 'similar': 2859,\n 'club': 661,\n 'tasting': 3182,\n 'despite': 931,\n 'door': 997,\n 'hot': 1599,\n 'inside': 1680,\n 'air': 125,\n 'ac': 55,\n 'uncomfortable': 3363,\n 'second': 2760,\n 'did': 939,\n 'enjoy': 1100,\n 'evening': 1133,\n 'servers': 2793,\n 'wouldn': 3589,\n 'opposed': 2185,\n 'grabbing': 1430,\n 'bite': 367,\n 'won': 3566,\n 'expecting': 1166,\n 'experienced': 1169,\n 'benefit': 349,\n 'doubt': 1000,\n 'tad': 3160,\n 'south': 2956,\n 'spring': 2998,\n 'things': 3229,\n 'may': 1951,\n 'different': 946,\n 'any': 176,\n 'maybe': 1952,\n 'seated': 2757,\n 'quickly': 2499,\n 'downhill': 1004,\n 'absolutely': 53,\n 'lunch': 1905,\n 'offer': 2152,\n 'items': 1710,\n 'interested': 1691,\n 'brews': 439,\n 'decent': 878,\n 'selection': 2776,\n 'killed': 1754,\n 'roll': 2651,\n 'eyes': 1186,\n 'waiter': 3455,\n 'wanted': 3473,\n 'right': 2639,\n 'hungry': 1615,\n 'exactly': 1146,\n 'obviously': 2142,\n 'spend': 2976,\n 'money': 2039,\n 'deal': 872,\n 'upset': 3400,\n 'turn': 3337,\n 'fun': 1361,\n 'sat': 2710,\n 'slowly': 2895,\n 'bringing': 444,\n 'idea': 1625,\n 'next': 2099,\n 'guy': 1471,\n 'orders': 2193,\n 'find': 1256,\n 'ready': 2530,\n 'bill': 364,\n 'including': 1653,\n 'waiting': 3457,\n 'roast': 2647,\n 'pork': 2390,\n 'rolls': 2654,\n 'toasted': 3267,\n 'mussels': 2062,\n 'bland': 375,\n 'veggie': 3428,\n 'alright': 149,\n 'funny': 1363,\n 'chips': 619,\n 'vinegar': 3442,\n 'serve': 2790,\n 'chip': 617,\n 'brussels': 457,\n 'platter': 2359,\n 'complain': 711,\n 'plated': 2357,\n 'beautifully': 326,\n 'double': 999,\n 'hummus': 1612,\n 'instead': 1685,\n 'goat': 1411,\n 'done': 994,\n 'medium': 1967,\n 'rare': 2511,\n 'noisy': 2108,\n 'horrible': 1593,\n 'word': 3574,\n 'describe': 916,\n 'neat': 2081,\n 'light': 1834,\n 'tops': 3287,\n 'outdoor': 2204,\n 'windows': 3551,\n 'allowing': 141,\n 'breeze': 437,\n 'lively': 1860,\n 'crowd': 826,\n 'personally': 2306,\n 'perhaps': 2300,\n 'am': 154,\n 'reviewing': 2627,\n 'popped': 2387,\n 'into': 1695,\n 'possibly': 2396,\n 'add': 81,\n 'star': 3019,\n 'stay': 3036,\n 'superb': 3126,\n 'eaten': 1059,\n 'far': 1208,\n 'who': 3537,\n 'fan': 1204,\n 'wrong': 3599,\n 'yeah': 3606,\n 'making': 1921,\n 'comment': 695,\n 'stand': 3011,\n 'statement': 3031,\n 'crispy': 823,\n 'golden': 1416,\n 'seasoned': 2753,\n 'perfectly': 2299,\n 'eat': 1058,\n 'person': 2302,\n 'tried': 3320,\n 'profile': 2455,\n 'built': 469,\n 'heat': 1523,\n 'sauces': 2718,\n 'home': 1576,\n 'speak': 2965,\n 'deliciousness': 901,\n 'pickled': 2323,\n 'squash': 3002,\n 'damn': 858,\n 'barely': 298,\n 'month': 2040,\n 'chances': 565,\n 'wow': 3591,\n 'getting': 1388,\n 'together': 3270,\n 'takes': 3166,\n 'always': 153,\n 'seem': 2769,\n 'least': 1811,\n 'understanding': 3370,\n 'industry': 1664,\n 'important': 1637,\n 'support': 3129,\n 'local': 1868,\n 'business': 484,\n 'friday': 1339,\n 'better': 352,\n 'nicer': 2101,\n 'meat': 1961,\n 'actual': 79,\n 'correctly': 778,\n 'cooked': 768,\n 'hard': 1500,\n 'real': 2531,\n 'originally': 2198,\n 'temp': 3192,\n 'sent': 2785,\n 'without': 3563,\n 'complaint': 714,\n 'batch': 312,\n 'prompt': 2459,\n 'gave': 1376,\n 'cheap': 582,\n 'pour': 2404,\n '14': 7,\n 'bourbon': 418,\n 'notice': 2129,\n 'bacon': 276,\n 'strips': 3085,\n 'neither': 2092,\n 'tomato': 3273,\n 'unless': 3382,\n 'option': 2189,\n 'drenched': 1016,\n 'dressing': 1019,\n 'bucket': 460,\n 'salt': 2697,\n '75': 41,\n 'less': 1824,\n 'please': 2366,\n 'window': 3550,\n 'sits': 2870,\n 'directly': 963,\n 'crazy': 812,\n 'makes': 1920,\n 'ring': 2640,\n 'agreed': 120,\n 'mention': 1981,\n 'hoped': 1588,\n 'sort': 2946,\n 'straight': 3074,\n 'vibe': 3436,\n 'village': 3440,\n 'credit': 819,\n 'knows': 1773,\n 'its': 1711,\n 'customer': 847,\n 'packed': 2235,\n 'ambience': 159,\n 'feel': 1233,\n 'granted': 1438,\n 'short': 2831,\n 'period': 2301,\n 'apologies': 188,\n 'repeatedly': 2593,\n 'ask': 232,\n 'beverages': 355,\n 'disappointed': 967,\n 'hopes': 1590,\n 'entree': 1116,\n 'strictly': 3082,\n 'small': 2896,\n 'adults': 97,\n 'reason': 2536,\n 'sad': 2687,\n 'quite': 2501,\n 'terrible': 3202,\n 'simple': 2861,\n 'miss': 2019,\n 'bites': 368,\n 'grilled': 1454,\n 'french': 1332,\n 'safe': 2689,\n 'understand': 3368,\n 'mess': 1986,\n 'dry': 1036,\n 'bread': 428,\n 'bizarre': 371,\n 'topped': 3284,\n 'plate': 2356,\n 'ever': 1137,\n 'ice': 1621,\n 'strawberry': 3078,\n 'vanilla': 3415,\n 'mix': 2025,\n 'scoop': 2738,\n 'whatever': 3526,\n 'likely': 1840,\n 'returning': 2622,\n 'unfortunate': 3375,\n 'specials': 2969,\n 'groups': 1460,\n 'especially': 1125,\n 'warmer': 3478,\n 'weather': 3505,\n 'sit': 2868,\n 'chicken': 608,\n 'aioli': 124,\n 'pros': 2464,\n 'comfortable': 690,\n 'fantastic': 1207,\n 'interesting': 1692,\n 'prepared': 2421,\n 'cons': 739,\n 'pleasant': 2364,\n 'unbelievably': 3362,\n 'kitchen': 1762,\n 'overall': 2211,\n 'man': 1924,\n 'pleased': 2367,\n 'left': 1816,\n 'weekend': 3512,\n 'slice': 2886,\n 'toast': 3266,\n 'slices': 2888,\n 'although': 151,\n 'satisfied': 2712,\n 'english': 1099,\n 'muffin': 2055,\n 'usually': 3410,\n 'comes': 688,\n 'price': 2432,\n 'mon': 2037,\n 'additionally': 88,\n 'walked': 3462,\n 'craving': 810,\n 'literally': 1856,\n 'happen': 1493,\n 'included': 1651,\n 'strange': 3075,\n 'ham': 1480,\n 'beets': 336,\n 'olives': 2168,\n 'herbs': 1542,\n 'wtf': 3601,\n 'location': 1872,\n 'lacking': 1779,\n 'today': 3268,\n 'lame': 1786,\n 'knew': 1763,\n 'her': 1540,\n 'recommendation': 2551,\n 'beyond': 357,\n 'need': 2084,\n 'someone': 2931,\n 'wants': 3475,\n 'listen': 1853,\n 'life': 1833,\n 'story': 3073,\n 'awkward': 272,\n 'poor': 2384,\n 'fashion': 1210,\n 'choices': 622,\n 'having': 1509,\n 'aside': 231,\n 'intense': 1688,\n 'orange': 2191,\n 'color': 677,\n 'smokey': 2907,\n 'afternoon': 111,\n 'lackluster': 1780,\n 'waitress': 3458,\n 'seemed': 2770,\n 'thrilled': 3244,\n 'fact': 1190,\n 'anywhere': 184,\n 'bed': 331,\n 'rude': 2671,\n 'certainly': 558,\n 'charming': 577,\n 'spilled': 2985,\n 'laughed': 1799,\n 'checking': 587,\n 'filling': 1252,\n 'glasses': 1407,\n 'etc': 1131,\n 'generally': 1379,\n 'realized': 2534,\n 'planned': 2352,\n 'ordering': 2192,\n 'basket': 310,\n 'bartenders': 302,\n 'hung': 1613,\n 'floor': 1288,\n 'working': 3580,\n 'constantly': 749,\n 'phones': 2315,\n 'completely': 719,\n 'anything': 180,\n 'related': 2573,\n 'part': 2256,\n 'does': 987,\n 'prefer': 2414,\n 'spots': 2996,\n 'cheers': 591,\n 'par': 2249,\n 'cold': 674,\n 'excellent': 1149,\n 'improvement': 1646,\n 'attentive': 255,\n 'draw': 1013,\n 'pricy': 2438,\n 'worth': 3587,\n 'seems': 2772,\n 'avoid': 266,\n 'months': 2041,\n 'ago': 118,\n 'visited': 3444,\n 'burgers': 476,\n 'rush': 2682,\n 'drinker': 1022,\n 'showed': 2839,\n 'lot': 1884,\n 'finishing': 1264,\n 'menus': 1985,\n 'nearly': 2080,\n 'empty': 1089,\n 'continued': 757,\n 'feet': 1237,\n 'stood': 3065,\n 'chatting': 581,\n 'row': 2669,\n 'booths': 403,\n 'traffic': 3304,\n 'patient': 2276,\n 'patron': 2278,\n 'world': 3582,\n 'mark': 1939,\n '95': 46,\n 'now': 2131,\n 'annoyed': 169,\n 'job': 1722,\n 'thanks': 3215,\n 'confused': 735,\n 'sorry': 2945,\n 'looks': 1880,\n 'sadly': 2688,\n 'restaurants': 2615,\n 'works': 3581,\n 'ain': 123,\n 'recently': 2546,\n 'somewhat': 2935,\n 'able': 50,\n 'easily': 1054,\n 'yelp': 3613,\n 'lean': 1808,\n 'savory': 2726,\n 'hit': 1565,\n 'syrup': 3153,\n 'waffle': 3451,\n 'waffles': 3452,\n 'seek': 2768,\n 'event': 1134,\n 'schedule': 2736,\n 'trip': 3322,\n 'across': 75,\n 'quiet': 2500,\n 'preferred': 2416,\n 'allowed': 140,\n 'bf': 358,\n 'mad': 1911,\n 'felt': 1240,\n 'appropriate': 210,\n 'season': 2751,\n 'substitute': 3100,\n 'slower': 2894,\n 'toward': 3298,\n 'end': 1092,\n 'inattentive': 1647,\n 'board': 390,\n 'rotating': 2661,\n 'calamari': 501,\n 'brussel': 456,\n 'sprouts': 3000,\n 'average': 264,\n 'proceeded': 2449,\n 'entrees': 1117,\n 'wings': 3555,\n 'these': 3224,\n 'dishes': 978,\n 'glad': 1403,\n 'chorizo': 628,\n 'quesadilla': 2495,\n 'suggestions': 3116,\n 'sampled': 2702,\n 'rotation': 2662,\n 'continue': 756,\n 'impress': 1640,\n 'keeping': 1743,\n 'frequent': 1333,\n 'celebrate': 549,\n 'anniversary': 168,\n 'gf': 1389,\n 'hill': 1556,\n 'dance': 859,\n 'private': 2443,\n 'afterwards': 112,\n 'stop': 3067,\n 'closed': 656,\n 'blocks': 381,\n 'west': 3524,\n 'upon': 3396,\n 'addition': 86,\n 'providing': 2471,\n '13': 6,\n 'oz': 2229,\n 'blend': 377,\n 'la': 1776,\n 'ground': 1458,\n 'beef': 332,\n 'fresh': 1335,\n 'mushrooms': 2059,\n 'red': 2556,\n 'onions': 2175,\n 'greens': 1448,\n 'somewhere': 2936,\n 'luckily': 1901,\n 'nicely': 2100,\n 'juicy': 1734,\n 'helped': 1535,\n 'create': 815,\n 'sesame': 2798,\n 'held': 1531,\n 'notes': 2127,\n 'accompanying': 68,\n 'belly': 347,\n 'saw': 2727,\n 'dish': 977,\n 'green': 1447,\n 'eggs': 1076,\n 'thinly': 3233,\n 'sliced': 2887,\n 'mustard': 2064,\n 'seeds': 2766,\n 'pop': 2386,\n 'hash': 1503,\n 'fruit': 1351,\n 'palate': 2242,\n 'inviting': 1700,\n 'advertised': 103,\n 'starting': 3026,\n '30pm': 26,\n 'games': 1370,\n 'began': 339,\n 'closer': 657,\n 'incredibly': 1658,\n 'buffalo': 465,\n 'cider': 634,\n 'honey': 1581,\n 'start': 3022,\n 'pig': 2334,\n 'freshly': 1337,\n 'covered': 795,\n 'smoky': 2909,\n 'spice': 2979,\n 'battered': 316,\n 'whiskey': 3535,\n 'key': 1747,\n 'chewy': 604,\n 'batter': 315,\n 'coating': 667,\n 'fryer': 1356,\n '17': 10,\n 'flaky': 1278,\n 'crisp': 822,\n 'sharp': 2816,\n 'provolone': 2472,\n 'mayo': 1953,\n 'moist': 2033,\n 'lost': 1883,\n 'decently': 879,\n 'share': 2813,\n 'diet': 943,\n 'case': 534,\n 'reviews': 2628,\n 'adequate': 91,\n 'hefty': 1530,\n 'portion': 2391,\n 'grown': 1462,\n 'caramelized': 520,\n 'whipped': 3534,\n 'added': 82,\n 'turned': 3338,\n 'lol': 1874,\n 'opted': 2188,\n 'watering': 3495,\n 'hole': 1573,\n 'prior': 2442,\n 'interior': 1693,\n 'lots': 1885,\n 'wood': 3572,\n 'natural': 2075,\n 'lighting': 1836,\n 'larger': 1790,\n 'giving': 1402,\n 'ample': 166,\n 'view': 3439,\n 'impressive': 1643,\n 'his': 1563,\n ...}"
     },
     "execution_count": 134,
     "metadata": {},
     "output_type": "execute_result"
    }
   ],
   "source": [
    "vectorizer.vocabulary_"
   ],
   "metadata": {
    "collapsed": false,
    "ExecuteTime": {
     "start_time": "2023-04-25T11:37:16.243557Z",
     "end_time": "2023-04-25T11:37:16.256691Z"
    }
   }
  },
  {
   "cell_type": "code",
   "execution_count": 137,
   "outputs": [
    {
     "data": {
      "text/plain": "  0%|          | 0/5052 [00:00<?, ?it/s]",
      "application/vnd.jupyter.widget-view+json": {
       "version_major": 2,
       "version_minor": 0,
       "model_id": "e987033d850a49bc8ccb43476835e756"
      }
     },
     "metadata": {},
     "output_type": "display_data"
    }
   ],
   "source": [
    "norms = []\n",
    "for x in tqdm(range(5052)):\n",
    "    norms.append(np.linalg.norm(tf_idf_matrix[x]))"
   ],
   "metadata": {
    "collapsed": false,
    "ExecuteTime": {
     "start_time": "2023-04-25T11:38:47.885057Z",
     "end_time": "2023-04-25T11:38:48.047118Z"
    }
   }
  },
  {
   "cell_type": "code",
   "execution_count": 138,
   "outputs": [
    {
     "data": {
      "text/plain": "  0%|          | 0/5052 [00:00<?, ?it/s]",
      "application/vnd.jupyter.widget-view+json": {
       "version_major": 2,
       "version_minor": 0,
       "model_id": "c3fa112ccf0c46438a357428f958cdd6"
      }
     },
     "metadata": {},
     "output_type": "display_data"
    }
   ],
   "source": [
    "cosine_sim_matrix = np.zeros((5052, 5052))\n",
    "\n",
    "for x in tqdm(range(5052)):\n",
    "    for y in range(5052):\n",
    "        if cosine_sim_matrix[y, x] != 0:\n",
    "            cosine_sim_matrix[x, y] = cosine_sim_matrix[y, x]\n",
    "        else:\n",
    "            cosine_sim_matrix[x, y] = np.dot(tf_idf_matrix[x], tf_idf_matrix[y].T) / (norms[x] * norms[y])"
   ],
   "metadata": {
    "collapsed": false,
    "ExecuteTime": {
     "start_time": "2023-04-25T11:38:48.990588Z",
     "end_time": "2023-04-25T11:43:42.585821Z"
    }
   }
  },
  {
   "cell_type": "code",
   "execution_count": 139,
   "outputs": [
    {
     "data": {
      "text/plain": "array([[1.        , 0.40638444, 0.39433245, ..., 0.19477965, 0.14631217,\n        0.13884625],\n       [0.40638444, 1.        , 0.35563206, ..., 0.1862003 , 0.11522172,\n        0.14789908],\n       [0.39433245, 0.35563206, 1.        , ..., 0.15519965, 0.15933088,\n        0.12920692],\n       ...,\n       [0.19477965, 0.1862003 , 0.15519965, ..., 1.        , 0.03113104,\n        0.3190272 ],\n       [0.14631217, 0.11522172, 0.15933088, ..., 0.03113104, 1.        ,\n        0.04497648],\n       [0.13884625, 0.14789908, 0.12920692, ..., 0.3190272 , 0.04497648,\n        1.        ]])"
     },
     "execution_count": 139,
     "metadata": {},
     "output_type": "execute_result"
    }
   ],
   "source": [
    "cosine_sim_matrix"
   ],
   "metadata": {
    "collapsed": false,
    "ExecuteTime": {
     "start_time": "2023-04-25T11:43:56.477885Z",
     "end_time": "2023-04-25T11:43:56.494511Z"
    }
   }
  },
  {
   "cell_type": "code",
   "execution_count": 140,
   "outputs": [
    {
     "data": {
      "text/plain": "          0         1         2         3         4         5         6     \\\n0     1.000000  0.406384  0.394332  0.251993  0.560358  0.687767  0.490753   \n1     0.406384  1.000000  0.355632  0.185242  0.413575  0.441015  0.225621   \n2     0.394332  0.355632  1.000000  0.222785  0.394292  0.403380  0.206609   \n3     0.251993  0.185242  0.222785  1.000000  0.327533  0.296772  0.129428   \n4     0.560358  0.413575  0.394292  0.327533  1.000000  0.719866  0.315084   \n...        ...       ...       ...       ...       ...       ...       ...   \n5047  0.236595  0.196599  0.193185  0.103495  0.234099  0.273991  0.123409   \n5048  0.275210  0.138435  0.157799  0.104350  0.205754  0.258150  0.129280   \n5049  0.194780  0.186200  0.155200  0.120428  0.206024  0.215150  0.103859   \n5050  0.146312  0.115222  0.159331  0.052973  0.108437  0.147082  0.077350   \n5051  0.138846  0.147899  0.129207  0.071088  0.154065  0.177276  0.078563   \n\n          7         8         9     ...      5042      5043      5044  \\\n0     0.299859  0.433945  0.762384  ...  0.178822  0.174171  0.175216   \n1     0.289724  0.502330  0.547347  ...  0.127014  0.140372  0.129205   \n2     0.252128  0.359791  0.506022  ...  0.103816  0.124721  0.132174   \n3     0.140714  0.192370  0.284676  ...  0.092714  0.083155  0.067709   \n4     0.338123  0.374299  0.628801  ...  0.226122  0.126240  0.128892   \n...        ...       ...       ...  ...       ...       ...       ...   \n5047  0.162574  0.182043  0.286912  ...  0.081979  0.122516  0.106127   \n5048  0.122965  0.150529  0.289391  ...  0.057790  0.097734  0.080486   \n5049  0.161734  0.166869  0.218685  ...  0.066793  0.102701  0.087627   \n5050  0.063061  0.142070  0.193286  ...  0.035593  0.073212  0.070529   \n5051  0.133211  0.128610  0.161288  ...  0.056471  0.065020  0.057593   \n\n          5045      5046      5047      5048      5049      5050      5051  \n0     0.196545  0.238368  0.236595  0.275210  0.194780  0.146312  0.138846  \n1     0.149161  0.151239  0.196599  0.138435  0.186200  0.115222  0.147899  \n2     0.131393  0.185316  0.193185  0.157799  0.155200  0.159331  0.129207  \n3     0.081509  0.121513  0.103495  0.104350  0.120428  0.052973  0.071088  \n4     0.158534  0.243787  0.234099  0.205754  0.206024  0.108437  0.154065  \n...        ...       ...       ...       ...       ...       ...       ...  \n5047  0.094446  0.101821  1.000000  0.117144  0.089817  0.118007  0.141605  \n5048  0.154397  0.177671  0.117144  1.000000  0.103216  0.071756  0.066792  \n5049  0.078326  0.123981  0.089817  0.103216  1.000000  0.031131  0.319027  \n5050  0.066551  0.059234  0.118007  0.071756  0.031131  1.000000  0.044976  \n5051  0.041200  0.077171  0.141605  0.066792  0.319027  0.044976  1.000000  \n\n[5052 rows x 5052 columns]",
      "text/html": "<div>\n<style scoped>\n    .dataframe tbody tr th:only-of-type {\n        vertical-align: middle;\n    }\n\n    .dataframe tbody tr th {\n        vertical-align: top;\n    }\n\n    .dataframe thead th {\n        text-align: right;\n    }\n</style>\n<table border=\"1\" class=\"dataframe\">\n  <thead>\n    <tr style=\"text-align: right;\">\n      <th></th>\n      <th>0</th>\n      <th>1</th>\n      <th>2</th>\n      <th>3</th>\n      <th>4</th>\n      <th>5</th>\n      <th>6</th>\n      <th>7</th>\n      <th>8</th>\n      <th>9</th>\n      <th>...</th>\n      <th>5042</th>\n      <th>5043</th>\n      <th>5044</th>\n      <th>5045</th>\n      <th>5046</th>\n      <th>5047</th>\n      <th>5048</th>\n      <th>5049</th>\n      <th>5050</th>\n      <th>5051</th>\n    </tr>\n  </thead>\n  <tbody>\n    <tr>\n      <th>0</th>\n      <td>1.000000</td>\n      <td>0.406384</td>\n      <td>0.394332</td>\n      <td>0.251993</td>\n      <td>0.560358</td>\n      <td>0.687767</td>\n      <td>0.490753</td>\n      <td>0.299859</td>\n      <td>0.433945</td>\n      <td>0.762384</td>\n      <td>...</td>\n      <td>0.178822</td>\n      <td>0.174171</td>\n      <td>0.175216</td>\n      <td>0.196545</td>\n      <td>0.238368</td>\n      <td>0.236595</td>\n      <td>0.275210</td>\n      <td>0.194780</td>\n      <td>0.146312</td>\n      <td>0.138846</td>\n    </tr>\n    <tr>\n      <th>1</th>\n      <td>0.406384</td>\n      <td>1.000000</td>\n      <td>0.355632</td>\n      <td>0.185242</td>\n      <td>0.413575</td>\n      <td>0.441015</td>\n      <td>0.225621</td>\n      <td>0.289724</td>\n      <td>0.502330</td>\n      <td>0.547347</td>\n      <td>...</td>\n      <td>0.127014</td>\n      <td>0.140372</td>\n      <td>0.129205</td>\n      <td>0.149161</td>\n      <td>0.151239</td>\n      <td>0.196599</td>\n      <td>0.138435</td>\n      <td>0.186200</td>\n      <td>0.115222</td>\n      <td>0.147899</td>\n    </tr>\n    <tr>\n      <th>2</th>\n      <td>0.394332</td>\n      <td>0.355632</td>\n      <td>1.000000</td>\n      <td>0.222785</td>\n      <td>0.394292</td>\n      <td>0.403380</td>\n      <td>0.206609</td>\n      <td>0.252128</td>\n      <td>0.359791</td>\n      <td>0.506022</td>\n      <td>...</td>\n      <td>0.103816</td>\n      <td>0.124721</td>\n      <td>0.132174</td>\n      <td>0.131393</td>\n      <td>0.185316</td>\n      <td>0.193185</td>\n      <td>0.157799</td>\n      <td>0.155200</td>\n      <td>0.159331</td>\n      <td>0.129207</td>\n    </tr>\n    <tr>\n      <th>3</th>\n      <td>0.251993</td>\n      <td>0.185242</td>\n      <td>0.222785</td>\n      <td>1.000000</td>\n      <td>0.327533</td>\n      <td>0.296772</td>\n      <td>0.129428</td>\n      <td>0.140714</td>\n      <td>0.192370</td>\n      <td>0.284676</td>\n      <td>...</td>\n      <td>0.092714</td>\n      <td>0.083155</td>\n      <td>0.067709</td>\n      <td>0.081509</td>\n      <td>0.121513</td>\n      <td>0.103495</td>\n      <td>0.104350</td>\n      <td>0.120428</td>\n      <td>0.052973</td>\n      <td>0.071088</td>\n    </tr>\n    <tr>\n      <th>4</th>\n      <td>0.560358</td>\n      <td>0.413575</td>\n      <td>0.394292</td>\n      <td>0.327533</td>\n      <td>1.000000</td>\n      <td>0.719866</td>\n      <td>0.315084</td>\n      <td>0.338123</td>\n      <td>0.374299</td>\n      <td>0.628801</td>\n      <td>...</td>\n      <td>0.226122</td>\n      <td>0.126240</td>\n      <td>0.128892</td>\n      <td>0.158534</td>\n      <td>0.243787</td>\n      <td>0.234099</td>\n      <td>0.205754</td>\n      <td>0.206024</td>\n      <td>0.108437</td>\n      <td>0.154065</td>\n    </tr>\n    <tr>\n      <th>...</th>\n      <td>...</td>\n      <td>...</td>\n      <td>...</td>\n      <td>...</td>\n      <td>...</td>\n      <td>...</td>\n      <td>...</td>\n      <td>...</td>\n      <td>...</td>\n      <td>...</td>\n      <td>...</td>\n      <td>...</td>\n      <td>...</td>\n      <td>...</td>\n      <td>...</td>\n      <td>...</td>\n      <td>...</td>\n      <td>...</td>\n      <td>...</td>\n      <td>...</td>\n      <td>...</td>\n    </tr>\n    <tr>\n      <th>5047</th>\n      <td>0.236595</td>\n      <td>0.196599</td>\n      <td>0.193185</td>\n      <td>0.103495</td>\n      <td>0.234099</td>\n      <td>0.273991</td>\n      <td>0.123409</td>\n      <td>0.162574</td>\n      <td>0.182043</td>\n      <td>0.286912</td>\n      <td>...</td>\n      <td>0.081979</td>\n      <td>0.122516</td>\n      <td>0.106127</td>\n      <td>0.094446</td>\n      <td>0.101821</td>\n      <td>1.000000</td>\n      <td>0.117144</td>\n      <td>0.089817</td>\n      <td>0.118007</td>\n      <td>0.141605</td>\n    </tr>\n    <tr>\n      <th>5048</th>\n      <td>0.275210</td>\n      <td>0.138435</td>\n      <td>0.157799</td>\n      <td>0.104350</td>\n      <td>0.205754</td>\n      <td>0.258150</td>\n      <td>0.129280</td>\n      <td>0.122965</td>\n      <td>0.150529</td>\n      <td>0.289391</td>\n      <td>...</td>\n      <td>0.057790</td>\n      <td>0.097734</td>\n      <td>0.080486</td>\n      <td>0.154397</td>\n      <td>0.177671</td>\n      <td>0.117144</td>\n      <td>1.000000</td>\n      <td>0.103216</td>\n      <td>0.071756</td>\n      <td>0.066792</td>\n    </tr>\n    <tr>\n      <th>5049</th>\n      <td>0.194780</td>\n      <td>0.186200</td>\n      <td>0.155200</td>\n      <td>0.120428</td>\n      <td>0.206024</td>\n      <td>0.215150</td>\n      <td>0.103859</td>\n      <td>0.161734</td>\n      <td>0.166869</td>\n      <td>0.218685</td>\n      <td>...</td>\n      <td>0.066793</td>\n      <td>0.102701</td>\n      <td>0.087627</td>\n      <td>0.078326</td>\n      <td>0.123981</td>\n      <td>0.089817</td>\n      <td>0.103216</td>\n      <td>1.000000</td>\n      <td>0.031131</td>\n      <td>0.319027</td>\n    </tr>\n    <tr>\n      <th>5050</th>\n      <td>0.146312</td>\n      <td>0.115222</td>\n      <td>0.159331</td>\n      <td>0.052973</td>\n      <td>0.108437</td>\n      <td>0.147082</td>\n      <td>0.077350</td>\n      <td>0.063061</td>\n      <td>0.142070</td>\n      <td>0.193286</td>\n      <td>...</td>\n      <td>0.035593</td>\n      <td>0.073212</td>\n      <td>0.070529</td>\n      <td>0.066551</td>\n      <td>0.059234</td>\n      <td>0.118007</td>\n      <td>0.071756</td>\n      <td>0.031131</td>\n      <td>1.000000</td>\n      <td>0.044976</td>\n    </tr>\n    <tr>\n      <th>5051</th>\n      <td>0.138846</td>\n      <td>0.147899</td>\n      <td>0.129207</td>\n      <td>0.071088</td>\n      <td>0.154065</td>\n      <td>0.177276</td>\n      <td>0.078563</td>\n      <td>0.133211</td>\n      <td>0.128610</td>\n      <td>0.161288</td>\n      <td>...</td>\n      <td>0.056471</td>\n      <td>0.065020</td>\n      <td>0.057593</td>\n      <td>0.041200</td>\n      <td>0.077171</td>\n      <td>0.141605</td>\n      <td>0.066792</td>\n      <td>0.319027</td>\n      <td>0.044976</td>\n      <td>1.000000</td>\n    </tr>\n  </tbody>\n</table>\n<p>5052 rows × 5052 columns</p>\n</div>"
     },
     "execution_count": 140,
     "metadata": {},
     "output_type": "execute_result"
    }
   ],
   "source": [
    "cosine_sim_df = pd.DataFrame(cosine_sim_matrix)\n",
    "cosine_sim_df"
   ],
   "metadata": {
    "collapsed": false,
    "ExecuteTime": {
     "start_time": "2023-04-25T11:43:56.509958Z",
     "end_time": "2023-04-25T11:43:56.557986Z"
    }
   }
  },
  {
   "cell_type": "code",
   "execution_count": 141,
   "outputs": [],
   "source": [
    "cosine_sim_df.to_csv(\"cosine_matrix_2.csv\")"
   ],
   "metadata": {
    "collapsed": false,
    "ExecuteTime": {
     "start_time": "2023-04-25T11:43:56.564572Z",
     "end_time": "2023-04-25T11:44:44.436776Z"
    }
   }
  },
  {
   "cell_type": "code",
   "execution_count": 142,
   "outputs": [
    {
     "data": {
      "text/plain": "        Unnamed: 0                     x                           y     score\n0                0  $5 Fresh Burger Stop         Ali Baba Magic Food  0.666667\n1                1  $5 Fresh Burger Stop         Mike's Hot Dog Cart  0.666667\n2                2  $5 Fresh Burger Stop  Rangoon Burmese Restaurant  0.666667\n3                3  $5 Fresh Burger Stop           Fruit Salad Truck  0.666667\n4                4  $5 Fresh Burger Stop                     Yumtown  0.666667\n...            ...                   ...                         ...       ...\n252595      252595               ¡Juice!               Burrito Elito  0.500000\n252596      252596               ¡Juice!      Nifty Fifty's Fishtown  0.500000\n252597      252597               ¡Juice!                     Nourish  0.500000\n252598      252598               ¡Juice!             Grindcore House  0.500000\n252599      252599               ¡Juice!                  Panda Cafe  0.500000\n\n[252600 rows x 4 columns]",
      "text/html": "<div>\n<style scoped>\n    .dataframe tbody tr th:only-of-type {\n        vertical-align: middle;\n    }\n\n    .dataframe tbody tr th {\n        vertical-align: top;\n    }\n\n    .dataframe thead th {\n        text-align: right;\n    }\n</style>\n<table border=\"1\" class=\"dataframe\">\n  <thead>\n    <tr style=\"text-align: right;\">\n      <th></th>\n      <th>Unnamed: 0</th>\n      <th>x</th>\n      <th>y</th>\n      <th>score</th>\n    </tr>\n  </thead>\n  <tbody>\n    <tr>\n      <th>0</th>\n      <td>0</td>\n      <td>$5 Fresh Burger Stop</td>\n      <td>Ali Baba Magic Food</td>\n      <td>0.666667</td>\n    </tr>\n    <tr>\n      <th>1</th>\n      <td>1</td>\n      <td>$5 Fresh Burger Stop</td>\n      <td>Mike's Hot Dog Cart</td>\n      <td>0.666667</td>\n    </tr>\n    <tr>\n      <th>2</th>\n      <td>2</td>\n      <td>$5 Fresh Burger Stop</td>\n      <td>Rangoon Burmese Restaurant</td>\n      <td>0.666667</td>\n    </tr>\n    <tr>\n      <th>3</th>\n      <td>3</td>\n      <td>$5 Fresh Burger Stop</td>\n      <td>Fruit Salad Truck</td>\n      <td>0.666667</td>\n    </tr>\n    <tr>\n      <th>4</th>\n      <td>4</td>\n      <td>$5 Fresh Burger Stop</td>\n      <td>Yumtown</td>\n      <td>0.666667</td>\n    </tr>\n    <tr>\n      <th>...</th>\n      <td>...</td>\n      <td>...</td>\n      <td>...</td>\n      <td>...</td>\n    </tr>\n    <tr>\n      <th>252595</th>\n      <td>252595</td>\n      <td>¡Juice!</td>\n      <td>Burrito Elito</td>\n      <td>0.500000</td>\n    </tr>\n    <tr>\n      <th>252596</th>\n      <td>252596</td>\n      <td>¡Juice!</td>\n      <td>Nifty Fifty's Fishtown</td>\n      <td>0.500000</td>\n    </tr>\n    <tr>\n      <th>252597</th>\n      <td>252597</td>\n      <td>¡Juice!</td>\n      <td>Nourish</td>\n      <td>0.500000</td>\n    </tr>\n    <tr>\n      <th>252598</th>\n      <td>252598</td>\n      <td>¡Juice!</td>\n      <td>Grindcore House</td>\n      <td>0.500000</td>\n    </tr>\n    <tr>\n      <th>252599</th>\n      <td>252599</td>\n      <td>¡Juice!</td>\n      <td>Panda Cafe</td>\n      <td>0.500000</td>\n    </tr>\n  </tbody>\n</table>\n<p>252600 rows × 4 columns</p>\n</div>"
     },
     "execution_count": 142,
     "metadata": {},
     "output_type": "execute_result"
    }
   ],
   "source": [
    "jaccard = pd.read_csv(\"../top_jaccard_better.csv\")\n",
    "jaccard"
   ],
   "metadata": {
    "collapsed": false,
    "ExecuteTime": {
     "start_time": "2023-04-25T11:44:44.443906Z",
     "end_time": "2023-04-25T11:44:44.680350Z"
    }
   }
  },
  {
   "cell_type": "code",
   "execution_count": 143,
   "outputs": [
    {
     "data": {
      "text/plain": "                           x                           y  jaccard_score\n0       $5 Fresh Burger Stop         Ali Baba Magic Food       0.666667\n1       $5 Fresh Burger Stop         Mike's Hot Dog Cart       0.666667\n2       $5 Fresh Burger Stop  Rangoon Burmese Restaurant       0.666667\n3       $5 Fresh Burger Stop           Fruit Salad Truck       0.666667\n4       $5 Fresh Burger Stop                     Yumtown       0.666667\n...                      ...                         ...            ...\n252595               ¡Juice!               Burrito Elito       0.500000\n252596               ¡Juice!      Nifty Fifty's Fishtown       0.500000\n252597               ¡Juice!                     Nourish       0.500000\n252598               ¡Juice!             Grindcore House       0.500000\n252599               ¡Juice!                  Panda Cafe       0.500000\n\n[252600 rows x 3 columns]",
      "text/html": "<div>\n<style scoped>\n    .dataframe tbody tr th:only-of-type {\n        vertical-align: middle;\n    }\n\n    .dataframe tbody tr th {\n        vertical-align: top;\n    }\n\n    .dataframe thead th {\n        text-align: right;\n    }\n</style>\n<table border=\"1\" class=\"dataframe\">\n  <thead>\n    <tr style=\"text-align: right;\">\n      <th></th>\n      <th>x</th>\n      <th>y</th>\n      <th>jaccard_score</th>\n    </tr>\n  </thead>\n  <tbody>\n    <tr>\n      <th>0</th>\n      <td>$5 Fresh Burger Stop</td>\n      <td>Ali Baba Magic Food</td>\n      <td>0.666667</td>\n    </tr>\n    <tr>\n      <th>1</th>\n      <td>$5 Fresh Burger Stop</td>\n      <td>Mike's Hot Dog Cart</td>\n      <td>0.666667</td>\n    </tr>\n    <tr>\n      <th>2</th>\n      <td>$5 Fresh Burger Stop</td>\n      <td>Rangoon Burmese Restaurant</td>\n      <td>0.666667</td>\n    </tr>\n    <tr>\n      <th>3</th>\n      <td>$5 Fresh Burger Stop</td>\n      <td>Fruit Salad Truck</td>\n      <td>0.666667</td>\n    </tr>\n    <tr>\n      <th>4</th>\n      <td>$5 Fresh Burger Stop</td>\n      <td>Yumtown</td>\n      <td>0.666667</td>\n    </tr>\n    <tr>\n      <th>...</th>\n      <td>...</td>\n      <td>...</td>\n      <td>...</td>\n    </tr>\n    <tr>\n      <th>252595</th>\n      <td>¡Juice!</td>\n      <td>Burrito Elito</td>\n      <td>0.500000</td>\n    </tr>\n    <tr>\n      <th>252596</th>\n      <td>¡Juice!</td>\n      <td>Nifty Fifty's Fishtown</td>\n      <td>0.500000</td>\n    </tr>\n    <tr>\n      <th>252597</th>\n      <td>¡Juice!</td>\n      <td>Nourish</td>\n      <td>0.500000</td>\n    </tr>\n    <tr>\n      <th>252598</th>\n      <td>¡Juice!</td>\n      <td>Grindcore House</td>\n      <td>0.500000</td>\n    </tr>\n    <tr>\n      <th>252599</th>\n      <td>¡Juice!</td>\n      <td>Panda Cafe</td>\n      <td>0.500000</td>\n    </tr>\n  </tbody>\n</table>\n<p>252600 rows × 3 columns</p>\n</div>"
     },
     "execution_count": 143,
     "metadata": {},
     "output_type": "execute_result"
    }
   ],
   "source": [
    "jaccard[\"jaccard_score\"] = jaccard[\"score\"]\n",
    "jaccard = jaccard.drop([\"score\", \"Unnamed: 0\"], axis=1)\n",
    "jaccard"
   ],
   "metadata": {
    "collapsed": false,
    "ExecuteTime": {
     "start_time": "2023-04-25T11:44:44.693767Z",
     "end_time": "2023-04-25T11:44:44.917143Z"
    }
   }
  },
  {
   "cell_type": "code",
   "execution_count": 144,
   "outputs": [
    {
     "data": {
      "text/plain": "  0%|          | 0/252600 [00:00<?, ?it/s]",
      "application/vnd.jupyter.widget-view+json": {
       "version_major": 2,
       "version_minor": 0,
       "model_id": "5f526e6272914ef18671a95207d20fa1"
      }
     },
     "metadata": {},
     "output_type": "display_data"
    }
   ],
   "source": [
    "cosine_scores = []\n",
    "for i in tqdm(range(len(jaccard))):\n",
    "    row = jaccard.iloc[i]\n",
    "    x = restaurant_to_index[row[\"x\"]]\n",
    "    y = restaurant_to_index[row[\"y\"]]\n",
    "    cosine_scores.append(cosine_sim_matrix[x, y])"
   ],
   "metadata": {
    "collapsed": false,
    "ExecuteTime": {
     "start_time": "2023-04-25T11:44:44.735352Z",
     "end_time": "2023-04-25T11:45:24.583661Z"
    }
   }
  },
  {
   "cell_type": "code",
   "execution_count": 145,
   "outputs": [],
   "source": [
    "jaccard[\"cosine_score\"] = pd.Series(cosine_scores)"
   ],
   "metadata": {
    "collapsed": false,
    "ExecuteTime": {
     "start_time": "2023-04-25T11:45:24.588968Z",
     "end_time": "2023-04-25T11:45:24.662406Z"
    }
   }
  },
  {
   "cell_type": "code",
   "execution_count": 146,
   "outputs": [
    {
     "data": {
      "text/plain": "                           x                           y  jaccard_score  \\\n0       $5 Fresh Burger Stop         Ali Baba Magic Food       0.666667   \n1       $5 Fresh Burger Stop         Mike's Hot Dog Cart       0.666667   \n2       $5 Fresh Burger Stop  Rangoon Burmese Restaurant       0.666667   \n3       $5 Fresh Burger Stop           Fruit Salad Truck       0.666667   \n4       $5 Fresh Burger Stop                     Yumtown       0.666667   \n...                      ...                         ...            ...   \n252595               ¡Juice!               Burrito Elito       0.500000   \n252596               ¡Juice!      Nifty Fifty's Fishtown       0.500000   \n252597               ¡Juice!                     Nourish       0.500000   \n252598               ¡Juice!             Grindcore House       0.500000   \n252599               ¡Juice!                  Panda Cafe       0.500000   \n\n        cosine_score  \n0           0.678742  \n1           0.420132  \n2           0.166091  \n3           0.681521  \n4           0.152132  \n...              ...  \n252595      0.113760  \n252596      0.127970  \n252597      0.213761  \n252598      0.123951  \n252599      0.128452  \n\n[252600 rows x 4 columns]",
      "text/html": "<div>\n<style scoped>\n    .dataframe tbody tr th:only-of-type {\n        vertical-align: middle;\n    }\n\n    .dataframe tbody tr th {\n        vertical-align: top;\n    }\n\n    .dataframe thead th {\n        text-align: right;\n    }\n</style>\n<table border=\"1\" class=\"dataframe\">\n  <thead>\n    <tr style=\"text-align: right;\">\n      <th></th>\n      <th>x</th>\n      <th>y</th>\n      <th>jaccard_score</th>\n      <th>cosine_score</th>\n    </tr>\n  </thead>\n  <tbody>\n    <tr>\n      <th>0</th>\n      <td>$5 Fresh Burger Stop</td>\n      <td>Ali Baba Magic Food</td>\n      <td>0.666667</td>\n      <td>0.678742</td>\n    </tr>\n    <tr>\n      <th>1</th>\n      <td>$5 Fresh Burger Stop</td>\n      <td>Mike's Hot Dog Cart</td>\n      <td>0.666667</td>\n      <td>0.420132</td>\n    </tr>\n    <tr>\n      <th>2</th>\n      <td>$5 Fresh Burger Stop</td>\n      <td>Rangoon Burmese Restaurant</td>\n      <td>0.666667</td>\n      <td>0.166091</td>\n    </tr>\n    <tr>\n      <th>3</th>\n      <td>$5 Fresh Burger Stop</td>\n      <td>Fruit Salad Truck</td>\n      <td>0.666667</td>\n      <td>0.681521</td>\n    </tr>\n    <tr>\n      <th>4</th>\n      <td>$5 Fresh Burger Stop</td>\n      <td>Yumtown</td>\n      <td>0.666667</td>\n      <td>0.152132</td>\n    </tr>\n    <tr>\n      <th>...</th>\n      <td>...</td>\n      <td>...</td>\n      <td>...</td>\n      <td>...</td>\n    </tr>\n    <tr>\n      <th>252595</th>\n      <td>¡Juice!</td>\n      <td>Burrito Elito</td>\n      <td>0.500000</td>\n      <td>0.113760</td>\n    </tr>\n    <tr>\n      <th>252596</th>\n      <td>¡Juice!</td>\n      <td>Nifty Fifty's Fishtown</td>\n      <td>0.500000</td>\n      <td>0.127970</td>\n    </tr>\n    <tr>\n      <th>252597</th>\n      <td>¡Juice!</td>\n      <td>Nourish</td>\n      <td>0.500000</td>\n      <td>0.213761</td>\n    </tr>\n    <tr>\n      <th>252598</th>\n      <td>¡Juice!</td>\n      <td>Grindcore House</td>\n      <td>0.500000</td>\n      <td>0.123951</td>\n    </tr>\n    <tr>\n      <th>252599</th>\n      <td>¡Juice!</td>\n      <td>Panda Cafe</td>\n      <td>0.500000</td>\n      <td>0.128452</td>\n    </tr>\n  </tbody>\n</table>\n<p>252600 rows × 4 columns</p>\n</div>"
     },
     "execution_count": 146,
     "metadata": {},
     "output_type": "execute_result"
    }
   ],
   "source": [
    "jaccard"
   ],
   "metadata": {
    "collapsed": false,
    "ExecuteTime": {
     "start_time": "2023-04-25T11:45:24.674271Z",
     "end_time": "2023-04-25T11:45:24.682590Z"
    }
   }
  },
  {
   "cell_type": "code",
   "execution_count": 147,
   "outputs": [],
   "source": [
    "jaccard.to_csv(\"jaccard_cosine_data_2.csv\")"
   ],
   "metadata": {
    "collapsed": false,
    "ExecuteTime": {
     "start_time": "2023-04-25T11:45:49.284703Z",
     "end_time": "2023-04-25T11:45:50.721548Z"
    }
   }
  },
  {
   "cell_type": "code",
   "execution_count": null,
   "outputs": [],
   "source": [],
   "metadata": {
    "collapsed": false
   }
  }
 ],
 "metadata": {
  "kernelspec": {
   "display_name": "Python 3",
   "language": "python",
   "name": "python3"
  },
  "language_info": {
   "codemirror_mode": {
    "name": "ipython",
    "version": 2
   },
   "file_extension": ".py",
   "mimetype": "text/x-python",
   "name": "python",
   "nbconvert_exporter": "python",
   "pygments_lexer": "ipython2",
   "version": "2.7.6"
  }
 },
 "nbformat": 4,
 "nbformat_minor": 0
}
