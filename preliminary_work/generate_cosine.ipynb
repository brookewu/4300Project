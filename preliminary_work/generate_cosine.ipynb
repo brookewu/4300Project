{
 "cells": [
  {
   "cell_type": "code",
   "execution_count": 1,
   "metadata": {
    "collapsed": true,
    "ExecuteTime": {
     "start_time": "2023-04-22T13:00:08.749045Z",
     "end_time": "2023-04-22T13:00:14.388647Z"
    }
   },
   "outputs": [],
   "source": [
    "import pandas as pd\n",
    "from tqdm.notebook import tqdm\n",
    "import nltk\n",
    "from nltk.tokenize import word_tokenize\n",
    "from nltk.stem import porter\n",
    "import ssl\n",
    "\n",
    "import numpy as np\n",
    "import matplotlib.pyplot as plt\n",
    "# try:\n",
    "#     _create_unverified_https_context = ssl._create_unverified_context\n",
    "# except AttributeError:\n",
    "#     pass\n",
    "# else:\n",
    "#     ssl._create_default_https_context = _create_unverified_https_context\n",
    "# nltk.download(\"punkt\")"
   ]
  },
  {
   "cell_type": "code",
   "execution_count": 2,
   "outputs": [
    {
     "data": {
      "text/plain": "        Unnamed: 0  stars_review  useful  funny  cool  \\\n0                0           5.0       1      0     1   \n1                1           5.0       0      0     0   \n2                2           1.0       3      1     0   \n3                3           5.0       0      0     0   \n4                4           5.0       0      0     0   \n...            ...           ...     ...    ...   ...   \n967545      967545           5.0       2      0     0   \n967546      967546           5.0       2      0     0   \n967547      967547           1.0       0      0     0   \n967548      967548           1.0       2      0     0   \n967549      967549           1.0       3      0     0   \n\n                                                     text  \\\n0       I've taken a lot of spin classes over the year...   \n1       Welcome to the neighborhood, Sweet Life Bakesh...   \n2       We decided to give the Barrel House another sh...   \n3       These guys were fantastic! They moved my grand...   \n4       I've been going to Body Cycle for about a year...   \n...                                                   ...   \n967545  Amazing customer experience. Locksmith was the...   \n967546  My tenant was locked out and I called Shay for...   \n967547  These two guys showed up to look at the roof o...   \n967548  Jim repaired our leaking roof, and guaranteed ...   \n967549  Jim does not like to write anything down. He m...   \n\n                       date                            name  \\\n0       2012-01-03 15:28:18      Body Cycle Spinning Studio   \n1       2015-04-16 16:34:29         The Sweet Life Bakeshop   \n2       2016-04-11 12:37:22  Bainbridge Street Barrel House   \n3       2018-11-07 15:17:25              Ivy Student Movers   \n4       2012-08-16 12:49:05      Body Cycle Spinning Studio   \n...                     ...                             ...   \n967545  2017-04-12 00:31:36   AMPM Locksmith - Philadelphia   \n967546  2018-06-26 13:20:26   AMPM Locksmith - Philadelphia   \n967547  2019-09-04 14:43:07       Katona James A Sr Roofing   \n967548  2018-02-11 16:45:38       Katona James A Sr Roofing   \n967549  2018-12-18 04:27:52       Katona James A Sr Roofing   \n\n                         address          city  ... compliment_more  \\\n0       1923 Chestnut St, 2nd Fl  Philadelphia  ...               0   \n1                   740 South St  Philadelphia  ...               0   \n2                625-27 S 6th St  Philadelphia  ...               0   \n3                            NaN  Philadelphia  ...               0   \n4       1923 Chestnut St, 2nd Fl  Philadelphia  ...               0   \n...                          ...           ...  ...             ...   \n967545              621 N 2nd St  Philadelphia  ...               0   \n967546              621 N 2nd St  Philadelphia  ...               0   \n967547         4384 Manayunk Ave  Philadelphia  ...               0   \n967548         4384 Manayunk Ave  Philadelphia  ...               0   \n967549         4384 Manayunk Ave  Philadelphia  ...               0   \n\n        compliment_profile  compliment_cute  compliment_list  compliment_note  \\\n0                        0                0                0                0   \n1                        0                0                0                0   \n2                        0                0                0                0   \n3                        0                0                0                0   \n4                        0                0                0                0   \n...                    ...              ...              ...              ...   \n967545                   0                0                0                0   \n967546                   0                0                0                0   \n967547                   0                0                0                0   \n967548                   0                0                0                0   \n967549                   0                0                0                0   \n\n        compliment_plain  compliment_cool compliment_funny compliment_writer  \\\n0                      0                0                0                 0   \n1                      0                0                0                 0   \n2                      0                0                0                 0   \n3                      0                0                0                 0   \n4                      0                0                0                 0   \n...                  ...              ...              ...               ...   \n967545                 0                0                0                 0   \n967546                 0                0                0                 0   \n967547                 0                0                0                 0   \n967548                 0                0                0                 0   \n967549                 1                0                0                 0   \n\n       compliment_photos  \n0                      0  \n1                      0  \n2                      0  \n3                      0  \n4                      0  \n...                  ...  \n967545                 0  \n967546                 0  \n967547                 0  \n967548                 0  \n967549                 0  \n\n[967550 rows x 41 columns]",
      "text/html": "<div>\n<style scoped>\n    .dataframe tbody tr th:only-of-type {\n        vertical-align: middle;\n    }\n\n    .dataframe tbody tr th {\n        vertical-align: top;\n    }\n\n    .dataframe thead th {\n        text-align: right;\n    }\n</style>\n<table border=\"1\" class=\"dataframe\">\n  <thead>\n    <tr style=\"text-align: right;\">\n      <th></th>\n      <th>Unnamed: 0</th>\n      <th>stars_review</th>\n      <th>useful</th>\n      <th>funny</th>\n      <th>cool</th>\n      <th>text</th>\n      <th>date</th>\n      <th>name</th>\n      <th>address</th>\n      <th>city</th>\n      <th>...</th>\n      <th>compliment_more</th>\n      <th>compliment_profile</th>\n      <th>compliment_cute</th>\n      <th>compliment_list</th>\n      <th>compliment_note</th>\n      <th>compliment_plain</th>\n      <th>compliment_cool</th>\n      <th>compliment_funny</th>\n      <th>compliment_writer</th>\n      <th>compliment_photos</th>\n    </tr>\n  </thead>\n  <tbody>\n    <tr>\n      <th>0</th>\n      <td>0</td>\n      <td>5.0</td>\n      <td>1</td>\n      <td>0</td>\n      <td>1</td>\n      <td>I've taken a lot of spin classes over the year...</td>\n      <td>2012-01-03 15:28:18</td>\n      <td>Body Cycle Spinning Studio</td>\n      <td>1923 Chestnut St, 2nd Fl</td>\n      <td>Philadelphia</td>\n      <td>...</td>\n      <td>0</td>\n      <td>0</td>\n      <td>0</td>\n      <td>0</td>\n      <td>0</td>\n      <td>0</td>\n      <td>0</td>\n      <td>0</td>\n      <td>0</td>\n      <td>0</td>\n    </tr>\n    <tr>\n      <th>1</th>\n      <td>1</td>\n      <td>5.0</td>\n      <td>0</td>\n      <td>0</td>\n      <td>0</td>\n      <td>Welcome to the neighborhood, Sweet Life Bakesh...</td>\n      <td>2015-04-16 16:34:29</td>\n      <td>The Sweet Life Bakeshop</td>\n      <td>740 South St</td>\n      <td>Philadelphia</td>\n      <td>...</td>\n      <td>0</td>\n      <td>0</td>\n      <td>0</td>\n      <td>0</td>\n      <td>0</td>\n      <td>0</td>\n      <td>0</td>\n      <td>0</td>\n      <td>0</td>\n      <td>0</td>\n    </tr>\n    <tr>\n      <th>2</th>\n      <td>2</td>\n      <td>1.0</td>\n      <td>3</td>\n      <td>1</td>\n      <td>0</td>\n      <td>We decided to give the Barrel House another sh...</td>\n      <td>2016-04-11 12:37:22</td>\n      <td>Bainbridge Street Barrel House</td>\n      <td>625-27 S 6th St</td>\n      <td>Philadelphia</td>\n      <td>...</td>\n      <td>0</td>\n      <td>0</td>\n      <td>0</td>\n      <td>0</td>\n      <td>0</td>\n      <td>0</td>\n      <td>0</td>\n      <td>0</td>\n      <td>0</td>\n      <td>0</td>\n    </tr>\n    <tr>\n      <th>3</th>\n      <td>3</td>\n      <td>5.0</td>\n      <td>0</td>\n      <td>0</td>\n      <td>0</td>\n      <td>These guys were fantastic! They moved my grand...</td>\n      <td>2018-11-07 15:17:25</td>\n      <td>Ivy Student Movers</td>\n      <td>NaN</td>\n      <td>Philadelphia</td>\n      <td>...</td>\n      <td>0</td>\n      <td>0</td>\n      <td>0</td>\n      <td>0</td>\n      <td>0</td>\n      <td>0</td>\n      <td>0</td>\n      <td>0</td>\n      <td>0</td>\n      <td>0</td>\n    </tr>\n    <tr>\n      <th>4</th>\n      <td>4</td>\n      <td>5.0</td>\n      <td>0</td>\n      <td>0</td>\n      <td>0</td>\n      <td>I've been going to Body Cycle for about a year...</td>\n      <td>2012-08-16 12:49:05</td>\n      <td>Body Cycle Spinning Studio</td>\n      <td>1923 Chestnut St, 2nd Fl</td>\n      <td>Philadelphia</td>\n      <td>...</td>\n      <td>0</td>\n      <td>0</td>\n      <td>0</td>\n      <td>0</td>\n      <td>0</td>\n      <td>0</td>\n      <td>0</td>\n      <td>0</td>\n      <td>0</td>\n      <td>0</td>\n    </tr>\n    <tr>\n      <th>...</th>\n      <td>...</td>\n      <td>...</td>\n      <td>...</td>\n      <td>...</td>\n      <td>...</td>\n      <td>...</td>\n      <td>...</td>\n      <td>...</td>\n      <td>...</td>\n      <td>...</td>\n      <td>...</td>\n      <td>...</td>\n      <td>...</td>\n      <td>...</td>\n      <td>...</td>\n      <td>...</td>\n      <td>...</td>\n      <td>...</td>\n      <td>...</td>\n      <td>...</td>\n      <td>...</td>\n    </tr>\n    <tr>\n      <th>967545</th>\n      <td>967545</td>\n      <td>5.0</td>\n      <td>2</td>\n      <td>0</td>\n      <td>0</td>\n      <td>Amazing customer experience. Locksmith was the...</td>\n      <td>2017-04-12 00:31:36</td>\n      <td>AMPM Locksmith - Philadelphia</td>\n      <td>621 N 2nd St</td>\n      <td>Philadelphia</td>\n      <td>...</td>\n      <td>0</td>\n      <td>0</td>\n      <td>0</td>\n      <td>0</td>\n      <td>0</td>\n      <td>0</td>\n      <td>0</td>\n      <td>0</td>\n      <td>0</td>\n      <td>0</td>\n    </tr>\n    <tr>\n      <th>967546</th>\n      <td>967546</td>\n      <td>5.0</td>\n      <td>2</td>\n      <td>0</td>\n      <td>0</td>\n      <td>My tenant was locked out and I called Shay for...</td>\n      <td>2018-06-26 13:20:26</td>\n      <td>AMPM Locksmith - Philadelphia</td>\n      <td>621 N 2nd St</td>\n      <td>Philadelphia</td>\n      <td>...</td>\n      <td>0</td>\n      <td>0</td>\n      <td>0</td>\n      <td>0</td>\n      <td>0</td>\n      <td>0</td>\n      <td>0</td>\n      <td>0</td>\n      <td>0</td>\n      <td>0</td>\n    </tr>\n    <tr>\n      <th>967547</th>\n      <td>967547</td>\n      <td>1.0</td>\n      <td>0</td>\n      <td>0</td>\n      <td>0</td>\n      <td>These two guys showed up to look at the roof o...</td>\n      <td>2019-09-04 14:43:07</td>\n      <td>Katona James A Sr Roofing</td>\n      <td>4384 Manayunk Ave</td>\n      <td>Philadelphia</td>\n      <td>...</td>\n      <td>0</td>\n      <td>0</td>\n      <td>0</td>\n      <td>0</td>\n      <td>0</td>\n      <td>0</td>\n      <td>0</td>\n      <td>0</td>\n      <td>0</td>\n      <td>0</td>\n    </tr>\n    <tr>\n      <th>967548</th>\n      <td>967548</td>\n      <td>1.0</td>\n      <td>2</td>\n      <td>0</td>\n      <td>0</td>\n      <td>Jim repaired our leaking roof, and guaranteed ...</td>\n      <td>2018-02-11 16:45:38</td>\n      <td>Katona James A Sr Roofing</td>\n      <td>4384 Manayunk Ave</td>\n      <td>Philadelphia</td>\n      <td>...</td>\n      <td>0</td>\n      <td>0</td>\n      <td>0</td>\n      <td>0</td>\n      <td>0</td>\n      <td>0</td>\n      <td>0</td>\n      <td>0</td>\n      <td>0</td>\n      <td>0</td>\n    </tr>\n    <tr>\n      <th>967549</th>\n      <td>967549</td>\n      <td>1.0</td>\n      <td>3</td>\n      <td>0</td>\n      <td>0</td>\n      <td>Jim does not like to write anything down. He m...</td>\n      <td>2018-12-18 04:27:52</td>\n      <td>Katona James A Sr Roofing</td>\n      <td>4384 Manayunk Ave</td>\n      <td>Philadelphia</td>\n      <td>...</td>\n      <td>0</td>\n      <td>0</td>\n      <td>0</td>\n      <td>0</td>\n      <td>0</td>\n      <td>1</td>\n      <td>0</td>\n      <td>0</td>\n      <td>0</td>\n      <td>0</td>\n    </tr>\n  </tbody>\n</table>\n<p>967550 rows × 41 columns</p>\n</div>"
     },
     "execution_count": 2,
     "metadata": {},
     "output_type": "execute_result"
    }
   ],
   "source": [
    "data = pd.read_csv(\"data.csv\")\n",
    "data"
   ],
   "metadata": {
    "collapsed": false,
    "ExecuteTime": {
     "start_time": "2023-04-22T13:00:14.109919Z",
     "end_time": "2023-04-22T13:01:24.900387Z"
    }
   }
  },
  {
   "cell_type": "code",
   "execution_count": 3,
   "outputs": [
    {
     "data": {
      "text/plain": "      Unnamed: 0                           name              address  \\\n0              0             St Honore Pastries          935 Race St   \n1              1                       Tuna Bar          205 Race St   \n2              2                            BAP        1224 South St   \n3              3                        Bar One         767 S 9th St   \n4              4               DeSandro on Main         4105 Main St   \n...          ...                            ...                  ...   \n5047        5047                 Stina Pizzeria      1705 Snyder Ave   \n5048        5048                   Flip-N-Pizza    1308 W Girard Ave   \n5049        5049            Ali Baba Magic Food      37TH And Walnut   \n5050        5050                      Tata Cafe  7201 Germantown Ave   \n5051        5051  Adelita Taqueria & Restaurant        1108 S 9th St   \n\n      postal_code  stars                                         categories  \\\n0         19107.0    4.0  Restaurants, Food, Bubble Tea, Coffee & Tea, B...   \n1         19106.0    4.0                  Sushi Bars, Restaurants, Japanese   \n2         19147.0    4.5                                Korean, Restaurants   \n3         19147.0    4.0  Cocktail Bars, Bars, Italian, Nightlife, Resta...   \n4         19127.0    3.0                    Pizza, Restaurants, Salad, Soup   \n...           ...    ...                                                ...   \n5047      19145.0    4.5                  Pizza, Restaurants, Mediterranean   \n5048      19123.0    4.0  Restaurants, American (Traditional), Chicken W...   \n5049      19104.0    4.0                           Restaurants, Food Stands   \n5050      19119.0    4.0                   Sandwiches, Restaurants, Italian   \n5051      19147.0    4.5                               Restaurants, Mexican   \n\n                                          useful_review  useful_count  \n0     I really enjoyed my brief visit to St.Honore P...            35  \n1     Finally got a chance to check this place out f...            32  \n2     I've been told I have nice BAPs. I have no ide...            14  \n3     $6.50 for a Kenzinger and the bartender didn't...             7  \n4     Secura? Sacada? I'm not sure. But you know who...             3  \n...                                                 ...           ...  \n5047  Stina is without a doubt worthy all the hype!!...            23  \n5048  I ordered through Uber Eats. The food was prep...             3  \n5049  Free taste.\\nStill don't know what it was.\\nIt...             2  \n5050  Neighborhood gem!  \\n\\nWe appreciate the promp...             3  \n5051  Love, love, love Adelita's! Wandered\\nIn after...             4  \n\n[5052 rows x 8 columns]",
      "text/html": "<div>\n<style scoped>\n    .dataframe tbody tr th:only-of-type {\n        vertical-align: middle;\n    }\n\n    .dataframe tbody tr th {\n        vertical-align: top;\n    }\n\n    .dataframe thead th {\n        text-align: right;\n    }\n</style>\n<table border=\"1\" class=\"dataframe\">\n  <thead>\n    <tr style=\"text-align: right;\">\n      <th></th>\n      <th>Unnamed: 0</th>\n      <th>name</th>\n      <th>address</th>\n      <th>postal_code</th>\n      <th>stars</th>\n      <th>categories</th>\n      <th>useful_review</th>\n      <th>useful_count</th>\n    </tr>\n  </thead>\n  <tbody>\n    <tr>\n      <th>0</th>\n      <td>0</td>\n      <td>St Honore Pastries</td>\n      <td>935 Race St</td>\n      <td>19107.0</td>\n      <td>4.0</td>\n      <td>Restaurants, Food, Bubble Tea, Coffee &amp; Tea, B...</td>\n      <td>I really enjoyed my brief visit to St.Honore P...</td>\n      <td>35</td>\n    </tr>\n    <tr>\n      <th>1</th>\n      <td>1</td>\n      <td>Tuna Bar</td>\n      <td>205 Race St</td>\n      <td>19106.0</td>\n      <td>4.0</td>\n      <td>Sushi Bars, Restaurants, Japanese</td>\n      <td>Finally got a chance to check this place out f...</td>\n      <td>32</td>\n    </tr>\n    <tr>\n      <th>2</th>\n      <td>2</td>\n      <td>BAP</td>\n      <td>1224 South St</td>\n      <td>19147.0</td>\n      <td>4.5</td>\n      <td>Korean, Restaurants</td>\n      <td>I've been told I have nice BAPs. I have no ide...</td>\n      <td>14</td>\n    </tr>\n    <tr>\n      <th>3</th>\n      <td>3</td>\n      <td>Bar One</td>\n      <td>767 S 9th St</td>\n      <td>19147.0</td>\n      <td>4.0</td>\n      <td>Cocktail Bars, Bars, Italian, Nightlife, Resta...</td>\n      <td>$6.50 for a Kenzinger and the bartender didn't...</td>\n      <td>7</td>\n    </tr>\n    <tr>\n      <th>4</th>\n      <td>4</td>\n      <td>DeSandro on Main</td>\n      <td>4105 Main St</td>\n      <td>19127.0</td>\n      <td>3.0</td>\n      <td>Pizza, Restaurants, Salad, Soup</td>\n      <td>Secura? Sacada? I'm not sure. But you know who...</td>\n      <td>3</td>\n    </tr>\n    <tr>\n      <th>...</th>\n      <td>...</td>\n      <td>...</td>\n      <td>...</td>\n      <td>...</td>\n      <td>...</td>\n      <td>...</td>\n      <td>...</td>\n      <td>...</td>\n    </tr>\n    <tr>\n      <th>5047</th>\n      <td>5047</td>\n      <td>Stina Pizzeria</td>\n      <td>1705 Snyder Ave</td>\n      <td>19145.0</td>\n      <td>4.5</td>\n      <td>Pizza, Restaurants, Mediterranean</td>\n      <td>Stina is without a doubt worthy all the hype!!...</td>\n      <td>23</td>\n    </tr>\n    <tr>\n      <th>5048</th>\n      <td>5048</td>\n      <td>Flip-N-Pizza</td>\n      <td>1308 W Girard Ave</td>\n      <td>19123.0</td>\n      <td>4.0</td>\n      <td>Restaurants, American (Traditional), Chicken W...</td>\n      <td>I ordered through Uber Eats. The food was prep...</td>\n      <td>3</td>\n    </tr>\n    <tr>\n      <th>5049</th>\n      <td>5049</td>\n      <td>Ali Baba Magic Food</td>\n      <td>37TH And Walnut</td>\n      <td>19104.0</td>\n      <td>4.0</td>\n      <td>Restaurants, Food Stands</td>\n      <td>Free taste.\\nStill don't know what it was.\\nIt...</td>\n      <td>2</td>\n    </tr>\n    <tr>\n      <th>5050</th>\n      <td>5050</td>\n      <td>Tata Cafe</td>\n      <td>7201 Germantown Ave</td>\n      <td>19119.0</td>\n      <td>4.0</td>\n      <td>Sandwiches, Restaurants, Italian</td>\n      <td>Neighborhood gem!  \\n\\nWe appreciate the promp...</td>\n      <td>3</td>\n    </tr>\n    <tr>\n      <th>5051</th>\n      <td>5051</td>\n      <td>Adelita Taqueria &amp; Restaurant</td>\n      <td>1108 S 9th St</td>\n      <td>19147.0</td>\n      <td>4.5</td>\n      <td>Restaurants, Mexican</td>\n      <td>Love, love, love Adelita's! Wandered\\nIn after...</td>\n      <td>4</td>\n    </tr>\n  </tbody>\n</table>\n<p>5052 rows × 8 columns</p>\n</div>"
     },
     "execution_count": 3,
     "metadata": {},
     "output_type": "execute_result"
    }
   ],
   "source": [
    "restaurants = pd.read_csv(\"business_attributes_old.csv\")\n",
    "restaurants"
   ],
   "metadata": {
    "collapsed": false,
    "ExecuteTime": {
     "start_time": "2023-04-22T13:01:24.886194Z",
     "end_time": "2023-04-22T13:01:25.207387Z"
    }
   }
  },
  {
   "cell_type": "code",
   "execution_count": 4,
   "outputs": [
    {
     "data": {
      "text/plain": "        Unnamed: 0_x  stars_review  useful  funny  cool  \\\n0                  2           1.0       3      1     0   \n1               1247           3.0       3      1     1   \n2               5924           4.0       1      0     0   \n3               5925           4.0       4      0     3   \n4               6021           1.0       3      1     0   \n...              ...           ...     ...    ...   ...   \n687030        847851           2.0       0      0     0   \n687031        879615           1.0       0      0     0   \n687032        947170           5.0       0      0     0   \n687033        947171           1.0       0      0     1   \n687034        947172           1.0       2      1     0   \n\n                                                     text  \\\n0       We decided to give the Barrel House another sh...   \n1       A quick gander at my face as I was ogling the ...   \n2       Update for Happy Hour:\\n\\nIf you like craft be...   \n3       I have been here twice, and I had good experie...   \n4       I ventured here on opening night with a party ...   \n...                                                   ...   \n687030  The food is tasty. I had a delivery today, I o...   \n687031  Food is just horrible, the food is never fresh...   \n687032  I can't speak on past reviews, but I have just...   \n687033  VERY disappointing! I spent so much on a large...   \n687034  SAVE YOURSELF! If I could give them ZERO I wou...   \n\n                       date                            name        address_x  \\\n0       2016-04-11 12:37:22  Bainbridge Street Barrel House  625-27 S 6th St   \n1       2014-12-05 16:35:37  Bainbridge Street Barrel House  625-27 S 6th St   \n2       2014-02-15 23:25:27  Bainbridge Street Barrel House  625-27 S 6th St   \n3       2012-11-18 23:01:37  Bainbridge Street Barrel House  625-27 S 6th St   \n4       2012-12-13 03:08:34  Bainbridge Street Barrel House  625-27 S 6th St   \n...                     ...                             ...              ...   \n687030  2020-04-28 00:16:16  Ajw Jamaican and American Food  4507 N Broad St   \n687031  2018-07-21 02:52:56  Ajw Jamaican and American Food  4507 N Broad St   \n687032  2019-09-19 04:05:22  Ajw Jamaican and American Food  4507 N Broad St   \n687033  2020-11-24 04:35:19  Ajw Jamaican and American Food  4507 N Broad St   \n687034  2019-03-03 02:56:57  Ajw Jamaican and American Food  4507 N Broad St   \n\n                city  ... compliment_funny  compliment_writer  \\\n0       Philadelphia  ...                0                  0   \n1       Philadelphia  ...              129                103   \n2       Philadelphia  ...               71                 27   \n3       Philadelphia  ...               71                 27   \n4       Philadelphia  ...                2                  3   \n...              ...  ...              ...                ...   \n687030  Philadelphia  ...                0                  0   \n687031  Philadelphia  ...                0                  0   \n687032  Philadelphia  ...                0                  0   \n687033  Philadelphia  ...                0                  0   \n687034  Philadelphia  ...                0                  0   \n\n        compliment_photos  Unnamed: 0_y        address_y  postal_code_y  \\\n0                       0          4271  625-27 S 6th St        19147.0   \n1                      19          4271  625-27 S 6th St        19147.0   \n2                       3          4271  625-27 S 6th St        19147.0   \n3                       3          4271  625-27 S 6th St        19147.0   \n4                       0          4271  625-27 S 6th St        19147.0   \n...                   ...           ...              ...            ...   \n687030                  0          4344  4507 N Broad St        19140.0   \n687031                  0          4344  4507 N Broad St        19140.0   \n687032                  0          4344  4507 N Broad St        19140.0   \n687033                  0          4344  4507 N Broad St        19140.0   \n687034                  0          4344  4507 N Broad St        19140.0   \n\n        stars                                       categories_y  \\\n0         3.0  Food, Breweries, Nightlife, Pubs, Sandwiches, ...   \n1         3.0  Food, Breweries, Nightlife, Pubs, Sandwiches, ...   \n2         3.0  Food, Breweries, Nightlife, Pubs, Sandwiches, ...   \n3         3.0  Food, Breweries, Nightlife, Pubs, Sandwiches, ...   \n4         3.0  Food, Breweries, Nightlife, Pubs, Sandwiches, ...   \n...       ...                                                ...   \n687030    2.0         Breakfast & Brunch, Caribbean, Restaurants   \n687031    2.0         Breakfast & Brunch, Caribbean, Restaurants   \n687032    2.0         Breakfast & Brunch, Caribbean, Restaurants   \n687033    2.0         Breakfast & Brunch, Caribbean, Restaurants   \n687034    2.0         Breakfast & Brunch, Caribbean, Restaurants   \n\n                                            useful_review useful_count  \n0       3.5 Stars. Unfortunately our first experience ...           19  \n1       3.5 Stars. Unfortunately our first experience ...           19  \n2       3.5 Stars. Unfortunately our first experience ...           19  \n3       3.5 Stars. Unfortunately our first experience ...           19  \n4       3.5 Stars. Unfortunately our first experience ...           19  \n...                                                   ...          ...  \n687030  SAVE YOURSELF! If I could give them ZERO I wou...            2  \n687031  SAVE YOURSELF! If I could give them ZERO I wou...            2  \n687032  SAVE YOURSELF! If I could give them ZERO I wou...            2  \n687033  SAVE YOURSELF! If I could give them ZERO I wou...            2  \n687034  SAVE YOURSELF! If I could give them ZERO I wou...            2  \n\n[687035 rows x 48 columns]",
      "text/html": "<div>\n<style scoped>\n    .dataframe tbody tr th:only-of-type {\n        vertical-align: middle;\n    }\n\n    .dataframe tbody tr th {\n        vertical-align: top;\n    }\n\n    .dataframe thead th {\n        text-align: right;\n    }\n</style>\n<table border=\"1\" class=\"dataframe\">\n  <thead>\n    <tr style=\"text-align: right;\">\n      <th></th>\n      <th>Unnamed: 0_x</th>\n      <th>stars_review</th>\n      <th>useful</th>\n      <th>funny</th>\n      <th>cool</th>\n      <th>text</th>\n      <th>date</th>\n      <th>name</th>\n      <th>address_x</th>\n      <th>city</th>\n      <th>...</th>\n      <th>compliment_funny</th>\n      <th>compliment_writer</th>\n      <th>compliment_photos</th>\n      <th>Unnamed: 0_y</th>\n      <th>address_y</th>\n      <th>postal_code_y</th>\n      <th>stars</th>\n      <th>categories_y</th>\n      <th>useful_review</th>\n      <th>useful_count</th>\n    </tr>\n  </thead>\n  <tbody>\n    <tr>\n      <th>0</th>\n      <td>2</td>\n      <td>1.0</td>\n      <td>3</td>\n      <td>1</td>\n      <td>0</td>\n      <td>We decided to give the Barrel House another sh...</td>\n      <td>2016-04-11 12:37:22</td>\n      <td>Bainbridge Street Barrel House</td>\n      <td>625-27 S 6th St</td>\n      <td>Philadelphia</td>\n      <td>...</td>\n      <td>0</td>\n      <td>0</td>\n      <td>0</td>\n      <td>4271</td>\n      <td>625-27 S 6th St</td>\n      <td>19147.0</td>\n      <td>3.0</td>\n      <td>Food, Breweries, Nightlife, Pubs, Sandwiches, ...</td>\n      <td>3.5 Stars. Unfortunately our first experience ...</td>\n      <td>19</td>\n    </tr>\n    <tr>\n      <th>1</th>\n      <td>1247</td>\n      <td>3.0</td>\n      <td>3</td>\n      <td>1</td>\n      <td>1</td>\n      <td>A quick gander at my face as I was ogling the ...</td>\n      <td>2014-12-05 16:35:37</td>\n      <td>Bainbridge Street Barrel House</td>\n      <td>625-27 S 6th St</td>\n      <td>Philadelphia</td>\n      <td>...</td>\n      <td>129</td>\n      <td>103</td>\n      <td>19</td>\n      <td>4271</td>\n      <td>625-27 S 6th St</td>\n      <td>19147.0</td>\n      <td>3.0</td>\n      <td>Food, Breweries, Nightlife, Pubs, Sandwiches, ...</td>\n      <td>3.5 Stars. Unfortunately our first experience ...</td>\n      <td>19</td>\n    </tr>\n    <tr>\n      <th>2</th>\n      <td>5924</td>\n      <td>4.0</td>\n      <td>1</td>\n      <td>0</td>\n      <td>0</td>\n      <td>Update for Happy Hour:\\n\\nIf you like craft be...</td>\n      <td>2014-02-15 23:25:27</td>\n      <td>Bainbridge Street Barrel House</td>\n      <td>625-27 S 6th St</td>\n      <td>Philadelphia</td>\n      <td>...</td>\n      <td>71</td>\n      <td>27</td>\n      <td>3</td>\n      <td>4271</td>\n      <td>625-27 S 6th St</td>\n      <td>19147.0</td>\n      <td>3.0</td>\n      <td>Food, Breweries, Nightlife, Pubs, Sandwiches, ...</td>\n      <td>3.5 Stars. Unfortunately our first experience ...</td>\n      <td>19</td>\n    </tr>\n    <tr>\n      <th>3</th>\n      <td>5925</td>\n      <td>4.0</td>\n      <td>4</td>\n      <td>0</td>\n      <td>3</td>\n      <td>I have been here twice, and I had good experie...</td>\n      <td>2012-11-18 23:01:37</td>\n      <td>Bainbridge Street Barrel House</td>\n      <td>625-27 S 6th St</td>\n      <td>Philadelphia</td>\n      <td>...</td>\n      <td>71</td>\n      <td>27</td>\n      <td>3</td>\n      <td>4271</td>\n      <td>625-27 S 6th St</td>\n      <td>19147.0</td>\n      <td>3.0</td>\n      <td>Food, Breweries, Nightlife, Pubs, Sandwiches, ...</td>\n      <td>3.5 Stars. Unfortunately our first experience ...</td>\n      <td>19</td>\n    </tr>\n    <tr>\n      <th>4</th>\n      <td>6021</td>\n      <td>1.0</td>\n      <td>3</td>\n      <td>1</td>\n      <td>0</td>\n      <td>I ventured here on opening night with a party ...</td>\n      <td>2012-12-13 03:08:34</td>\n      <td>Bainbridge Street Barrel House</td>\n      <td>625-27 S 6th St</td>\n      <td>Philadelphia</td>\n      <td>...</td>\n      <td>2</td>\n      <td>3</td>\n      <td>0</td>\n      <td>4271</td>\n      <td>625-27 S 6th St</td>\n      <td>19147.0</td>\n      <td>3.0</td>\n      <td>Food, Breweries, Nightlife, Pubs, Sandwiches, ...</td>\n      <td>3.5 Stars. Unfortunately our first experience ...</td>\n      <td>19</td>\n    </tr>\n    <tr>\n      <th>...</th>\n      <td>...</td>\n      <td>...</td>\n      <td>...</td>\n      <td>...</td>\n      <td>...</td>\n      <td>...</td>\n      <td>...</td>\n      <td>...</td>\n      <td>...</td>\n      <td>...</td>\n      <td>...</td>\n      <td>...</td>\n      <td>...</td>\n      <td>...</td>\n      <td>...</td>\n      <td>...</td>\n      <td>...</td>\n      <td>...</td>\n      <td>...</td>\n      <td>...</td>\n      <td>...</td>\n    </tr>\n    <tr>\n      <th>687030</th>\n      <td>847851</td>\n      <td>2.0</td>\n      <td>0</td>\n      <td>0</td>\n      <td>0</td>\n      <td>The food is tasty. I had a delivery today, I o...</td>\n      <td>2020-04-28 00:16:16</td>\n      <td>Ajw Jamaican and American Food</td>\n      <td>4507 N Broad St</td>\n      <td>Philadelphia</td>\n      <td>...</td>\n      <td>0</td>\n      <td>0</td>\n      <td>0</td>\n      <td>4344</td>\n      <td>4507 N Broad St</td>\n      <td>19140.0</td>\n      <td>2.0</td>\n      <td>Breakfast &amp; Brunch, Caribbean, Restaurants</td>\n      <td>SAVE YOURSELF! If I could give them ZERO I wou...</td>\n      <td>2</td>\n    </tr>\n    <tr>\n      <th>687031</th>\n      <td>879615</td>\n      <td>1.0</td>\n      <td>0</td>\n      <td>0</td>\n      <td>0</td>\n      <td>Food is just horrible, the food is never fresh...</td>\n      <td>2018-07-21 02:52:56</td>\n      <td>Ajw Jamaican and American Food</td>\n      <td>4507 N Broad St</td>\n      <td>Philadelphia</td>\n      <td>...</td>\n      <td>0</td>\n      <td>0</td>\n      <td>0</td>\n      <td>4344</td>\n      <td>4507 N Broad St</td>\n      <td>19140.0</td>\n      <td>2.0</td>\n      <td>Breakfast &amp; Brunch, Caribbean, Restaurants</td>\n      <td>SAVE YOURSELF! If I could give them ZERO I wou...</td>\n      <td>2</td>\n    </tr>\n    <tr>\n      <th>687032</th>\n      <td>947170</td>\n      <td>5.0</td>\n      <td>0</td>\n      <td>0</td>\n      <td>0</td>\n      <td>I can't speak on past reviews, but I have just...</td>\n      <td>2019-09-19 04:05:22</td>\n      <td>Ajw Jamaican and American Food</td>\n      <td>4507 N Broad St</td>\n      <td>Philadelphia</td>\n      <td>...</td>\n      <td>0</td>\n      <td>0</td>\n      <td>0</td>\n      <td>4344</td>\n      <td>4507 N Broad St</td>\n      <td>19140.0</td>\n      <td>2.0</td>\n      <td>Breakfast &amp; Brunch, Caribbean, Restaurants</td>\n      <td>SAVE YOURSELF! If I could give them ZERO I wou...</td>\n      <td>2</td>\n    </tr>\n    <tr>\n      <th>687033</th>\n      <td>947171</td>\n      <td>1.0</td>\n      <td>0</td>\n      <td>0</td>\n      <td>1</td>\n      <td>VERY disappointing! I spent so much on a large...</td>\n      <td>2020-11-24 04:35:19</td>\n      <td>Ajw Jamaican and American Food</td>\n      <td>4507 N Broad St</td>\n      <td>Philadelphia</td>\n      <td>...</td>\n      <td>0</td>\n      <td>0</td>\n      <td>0</td>\n      <td>4344</td>\n      <td>4507 N Broad St</td>\n      <td>19140.0</td>\n      <td>2.0</td>\n      <td>Breakfast &amp; Brunch, Caribbean, Restaurants</td>\n      <td>SAVE YOURSELF! If I could give them ZERO I wou...</td>\n      <td>2</td>\n    </tr>\n    <tr>\n      <th>687034</th>\n      <td>947172</td>\n      <td>1.0</td>\n      <td>2</td>\n      <td>1</td>\n      <td>0</td>\n      <td>SAVE YOURSELF! If I could give them ZERO I wou...</td>\n      <td>2019-03-03 02:56:57</td>\n      <td>Ajw Jamaican and American Food</td>\n      <td>4507 N Broad St</td>\n      <td>Philadelphia</td>\n      <td>...</td>\n      <td>0</td>\n      <td>0</td>\n      <td>0</td>\n      <td>4344</td>\n      <td>4507 N Broad St</td>\n      <td>19140.0</td>\n      <td>2.0</td>\n      <td>Breakfast &amp; Brunch, Caribbean, Restaurants</td>\n      <td>SAVE YOURSELF! If I could give them ZERO I wou...</td>\n      <td>2</td>\n    </tr>\n  </tbody>\n</table>\n<p>687035 rows × 48 columns</p>\n</div>"
     },
     "execution_count": 4,
     "metadata": {},
     "output_type": "execute_result"
    }
   ],
   "source": [
    "data = pd.merge(data, restaurants, left_on=\"name\", right_on=\"name\")\n",
    "data"
   ],
   "metadata": {
    "collapsed": false,
    "ExecuteTime": {
     "start_time": "2023-04-22T13:01:25.266197Z",
     "end_time": "2023-04-22T13:01:30.564091Z"
    }
   }
  },
  {
   "cell_type": "code",
   "execution_count": 5,
   "outputs": [
    {
     "data": {
      "text/plain": "  0%|          | 0/687035 [00:00<?, ?it/s]",
      "application/vnd.jupyter.widget-view+json": {
       "version_major": 2,
       "version_minor": 0,
       "model_id": "630ebc73a3d94e51bd0dbcf4da040f72"
      }
     },
     "metadata": {},
     "output_type": "display_data"
    }
   ],
   "source": [
    "review_texts = {}\n",
    "for i in tqdm(range(len(data))):\n",
    "    row = data.iloc[i]\n",
    "    if row[\"name\"] not in review_texts:\n",
    "        review_texts[row[\"name\"]] = \"\"\n",
    "    review_texts[row[\"name\"]] += \"\\n\" + row[\"text\"].lower()\n"
   ],
   "metadata": {
    "collapsed": false,
    "ExecuteTime": {
     "start_time": "2023-04-22T13:01:30.570482Z",
     "end_time": "2023-04-22T13:06:45.298275Z"
    }
   }
  },
  {
   "cell_type": "code",
   "execution_count": 6,
   "outputs": [
    {
     "data": {
      "text/plain": "                                  name  \\\n0       Bainbridge Street Barrel House   \n1                        Farmer's Keep   \n2               Kaufman's Delicatessen   \n3                    The Night Kitchen   \n4                               Jansen   \n...                                ...   \n5047             Istanbul Grill & Cafe   \n5048  Bocci's Steakhouse & Comedy Cafe   \n5049                     Montego Grill   \n5050             Angelina's Panini Bar   \n5051    Ajw Jamaican and American Food   \n\n                                                reviews  \n0     \\nwe decided to give the barrel house another ...  \n1     \\nbig fan. i think this is probably a big lunc...  \n2     \\ni love 4th st deli.  i was so happy when the...  \n3     \\nthe customer service sucks! the employees tr...  \n4     \\nloved all my selections: very fresh & crisp ...  \n...                                                 ...  \n5047  \\ndo not patronize this restaurant. a close fr...  \n5048  \\nthis is the absolute worse place to eat! the...  \n5049  \\nit's nasty. nothing i got form the jerk chic...  \n5050  \\noh goodness. avoid avoid avoid. they're not ...  \n5051  \\nthe food is tasty. i had a delivery today, i...  \n\n[5052 rows x 2 columns]",
      "text/html": "<div>\n<style scoped>\n    .dataframe tbody tr th:only-of-type {\n        vertical-align: middle;\n    }\n\n    .dataframe tbody tr th {\n        vertical-align: top;\n    }\n\n    .dataframe thead th {\n        text-align: right;\n    }\n</style>\n<table border=\"1\" class=\"dataframe\">\n  <thead>\n    <tr style=\"text-align: right;\">\n      <th></th>\n      <th>name</th>\n      <th>reviews</th>\n    </tr>\n  </thead>\n  <tbody>\n    <tr>\n      <th>0</th>\n      <td>Bainbridge Street Barrel House</td>\n      <td>\\nwe decided to give the barrel house another ...</td>\n    </tr>\n    <tr>\n      <th>1</th>\n      <td>Farmer's Keep</td>\n      <td>\\nbig fan. i think this is probably a big lunc...</td>\n    </tr>\n    <tr>\n      <th>2</th>\n      <td>Kaufman's Delicatessen</td>\n      <td>\\ni love 4th st deli.  i was so happy when the...</td>\n    </tr>\n    <tr>\n      <th>3</th>\n      <td>The Night Kitchen</td>\n      <td>\\nthe customer service sucks! the employees tr...</td>\n    </tr>\n    <tr>\n      <th>4</th>\n      <td>Jansen</td>\n      <td>\\nloved all my selections: very fresh &amp; crisp ...</td>\n    </tr>\n    <tr>\n      <th>...</th>\n      <td>...</td>\n      <td>...</td>\n    </tr>\n    <tr>\n      <th>5047</th>\n      <td>Istanbul Grill &amp; Cafe</td>\n      <td>\\ndo not patronize this restaurant. a close fr...</td>\n    </tr>\n    <tr>\n      <th>5048</th>\n      <td>Bocci's Steakhouse &amp; Comedy Cafe</td>\n      <td>\\nthis is the absolute worse place to eat! the...</td>\n    </tr>\n    <tr>\n      <th>5049</th>\n      <td>Montego Grill</td>\n      <td>\\nit's nasty. nothing i got form the jerk chic...</td>\n    </tr>\n    <tr>\n      <th>5050</th>\n      <td>Angelina's Panini Bar</td>\n      <td>\\noh goodness. avoid avoid avoid. they're not ...</td>\n    </tr>\n    <tr>\n      <th>5051</th>\n      <td>Ajw Jamaican and American Food</td>\n      <td>\\nthe food is tasty. i had a delivery today, i...</td>\n    </tr>\n  </tbody>\n</table>\n<p>5052 rows × 2 columns</p>\n</div>"
     },
     "execution_count": 6,
     "metadata": {},
     "output_type": "execute_result"
    }
   ],
   "source": [
    "restaurant_reviews = pd.DataFrame(review_texts.items())\n",
    "restaurant_reviews.columns = [\"name\", \"reviews\"]\n",
    "restaurant_reviews"
   ],
   "metadata": {
    "collapsed": false,
    "ExecuteTime": {
     "start_time": "2023-04-22T13:06:45.300499Z",
     "end_time": "2023-04-22T13:06:45.369235Z"
    }
   }
  },
  {
   "cell_type": "code",
   "execution_count": 7,
   "outputs": [
    {
     "data": {
      "text/plain": "  0%|          | 0/5052 [00:00<?, ?it/s]",
      "application/vnd.jupyter.widget-view+json": {
       "version_major": 2,
       "version_minor": 0,
       "model_id": "83f3eafca0dd49b39f93ee313ee4e91f"
      }
     },
     "metadata": {},
     "output_type": "display_data"
    }
   ],
   "source": [
    "review_words = {}\n",
    "for k, v in tqdm(review_texts.items()):\n",
    "    review_words[k] = word_tokenize(v)"
   ],
   "metadata": {
    "collapsed": false,
    "ExecuteTime": {
     "start_time": "2023-04-22T13:06:45.345014Z",
     "end_time": "2023-04-22T13:20:46.719741Z"
    }
   }
  },
  {
   "cell_type": "code",
   "execution_count": 8,
   "outputs": [
    {
     "data": {
      "text/plain": "  0%|          | 0/5052 [00:00<?, ?it/s]",
      "application/vnd.jupyter.widget-view+json": {
       "version_major": 2,
       "version_minor": 0,
       "model_id": "fc1881658d4e4f24be4cfee518431de0"
      }
     },
     "metadata": {},
     "output_type": "display_data"
    }
   ],
   "source": [
    "reviews_stemmed = {}\n",
    "stemmer = porter.PorterStemmer()\n",
    "for k, v in tqdm(review_words.items()):\n",
    "    reviews_stemmed[k] = []\n",
    "    for word in v:\n",
    "        reviews_stemmed[k].append(stemmer.stem(word))"
   ],
   "metadata": {
    "collapsed": false,
    "ExecuteTime": {
     "start_time": "2023-04-22T13:20:46.733019Z",
     "end_time": "2023-04-22T13:54:01.167191Z"
    }
   }
  },
  {
   "cell_type": "code",
   "execution_count": 9,
   "outputs": [
    {
     "data": {
      "text/plain": "  0%|          | 0/5052 [00:00<?, ?it/s]",
      "application/vnd.jupyter.widget-view+json": {
       "version_major": 2,
       "version_minor": 0,
       "model_id": "0a70623510aa452791b4ae7d67a081c9"
      }
     },
     "metadata": {},
     "output_type": "display_data"
    },
    {
     "data": {
      "text/plain": "['!',\n '#',\n '$',\n '%',\n '&',\n \"'\",\n \"''\",\n \"'-\",\n \"'00\",\n \"'01\",\n \"'02\",\n \"'03\",\n \"'04\",\n \"'04-'05\",\n \"'05\",\n \"'06\",\n \"'06-2010\",\n \"'06~'08\",\n \"'07\",\n \"'08\",\n \"'09\",\n \"'09-'14\",\n \"'10\",\n \"'100\",\n \"'11\",\n \"'11-'12\",\n \"'111\",\n \"'12\",\n \"'13\",\n \"'14\",\n \"'14oz\",\n \"'15\",\n \"'1500\",\n \"'16\",\n \"'17\",\n \"'18\",\n \"'19\",\n \"'20\",\n \"'2001\",\n \"'202\",\n \"'20s/earli\",\n \"'22\",\n \"'23\",\n \"'29\",\n \"'2nd\",\n \"'30\",\n \"'33\",\n \"'36\",\n \"'39\",\n \"'40\",\n \"'47-'94\",\n \"'49\",\n \"'50\",\n \"'50/50\",\n \"'500\",\n \"'50s-'60s-'70\",\n \"'50s-diner\",\n \"'57\",\n \"'60\",\n \"'65\",\n \"'67\",\n \"'70\",\n \"'70s-style\",\n \"'71\",\n \"'72\",\n \"'73\",\n \"'75\",\n \"'76\",\n \"'77\",\n \"'78\",\n \"'79\",\n \"'80\",\n \"'80s-'90\",\n \"'80s-born\",\n \"'81\",\n \"'83\",\n \"'84\",\n \"'86\",\n \"'87\",\n \"'88\",\n \"'88-'98\",\n \"'89\",\n \"'90\",\n \"'90s-era\",\n \"'90s/earli\",\n \"'91\",\n \"'93\",\n \"'93-'94\",\n \"'94\",\n \"'95\",\n \"'96\",\n \"'97\",\n \"'98\",\n \"'99\",\n \"'_____\",\n \"'a\",\n \"'aaaaaa\",\n \"'aaahhh\",\n \"'aah\",\n \"'aaron/erin\",\n \"'ab\",\n \"'abandon\",\n \"'abc\",\n \"'about\",\n \"'abov\",\n \"'absenc\",\n \"'absinth\",\n \"'absolut\",\n \"'accent\",\n \"'accept\",\n \"'access\",\n \"'accessori\",\n \"'accident\",\n \"'accolad\",\n \"'achar\",\n \"'achari\",\n \"'acquir\",\n \"'actual\",\n \"'adam\",\n \"'add\",\n \"'add-on\",\n \"'addict\",\n \"'addictingli\",\n \"'addictive-good\",\n \"'addit\",\n \"'adirondak\",\n \"'adjust\",\n \"'adouil\",\n \"'adrienn\",\n \"'adult\",\n \"'adult-them\",\n \"'adventur\",\n \"'afar\",\n \"'affagato\",\n \"'affect\",\n \"'afford\",\n \"'afraid\",\n \"'african\",\n \"'after\",\n \"'after-work\",\n \"'afternoon\",\n \"'afterwork\",\n \"'again\",\n \"'against\",\n \"'age\",\n \"'aggress\",\n \"'agida\",\n \"'ah\",\n \"'ah-kee-la\",\n \"'ahem\",\n \"'ahh'maz\",\n \"'ahhh\",\n \"'aight\",\n \"'aight-\",\n \"'aint\",\n \"'air\",\n \"'airi\",\n \"'aisl\",\n \"'al\",\n \"'al-dent\",\n \"'alabama\",\n \"'album\",\n \"'ale\",\n \"'alfredo\",\n \"'alic\",\n \"'aligoté\",\n \"'all\",\n \"'all-out\",\n \"'alla\",\n \"'allagash\",\n \"'allerg\",\n \"'allianc\",\n \"'allo\",\n \"'allow\",\n \"'alma\",\n \"'almond\",\n \"'almost\",\n \"'almost-home-lik\",\n \"'aloha\",\n \"'alon\",\n \"'aloo\",\n \"'alright\",\n \"'alta\",\n \"'altern\",\n \"'although\",\n \"'alway\",\n \"'alyssa\",\n \"'amada\",\n \"'amatriciana\",\n \"'amaz\",\n \"'ambianc\",\n \"'american\",\n \"'americana\",\n \"'ami\",\n \"'amili\",\n \"'amish\",\n \"'amma\",\n \"'amuse-bouch\",\n \"'an\",\n \"'and\",\n \"'andi\",\n \"'angel\",\n \"'angri\",\n \"'ani\",\n \"'annex\",\n \"'anni\",\n \"'annoy\",\n \"'anoth\",\n \"'anthoni\",\n \"'antney\",\n \"'anyon\",\n \"'anyth\",\n \"'aperitivo\",\n \"'apolog\",\n \"'appar\",\n \"'appet\",\n \"'appetizers'/shar\",\n \"'appl\",\n \"'applebottom\",\n \"'applic\",\n \"'appropri\",\n \"'après-dîner\",\n \"'aquila\",\n \"'arancini\",\n \"'arctic\",\n \"'are\",\n \"'area\",\n \"'aright\",\n \"'around\",\n \"'arrest\",\n \"'art\",\n \"'artisan\",\n \"'artsi\",\n \"'ascap\",\n \"'ashak\",\n \"'asian\",\n \"'ask\",\n \"'assembl\",\n \"'assign\",\n \"'assist\",\n \"'at\",\n \"'atla\",\n \"'atleast\",\n \"'atmospher\",\n \"'atom\",\n \"'attempt\",\n \"'attitud\",\n \"'attytud\",\n \"'au\",\n \"'auction\",\n \"'audienc\",\n \"'aupa\",\n \"'authent\",\n \"'auto\",\n \"'avenu\",\n \"'averag\",\n \"'average-indian'on\",\n \"'aviat\",\n \"'avoid\",\n \"'aw\",\n \"'award-win\",\n \"'awesom\",\n \"'aww\",\n \"'axepert\",\n \"'açaí\",\n \"'bab\",\n \"'babi\",\n \"'babymoon\",\n \"'back\",\n \"'background\",\n \"'bacon\",\n \"'bacon-onion\",\n \"'bad\",\n \"'bada\",\n \"'bag\",\n \"'bagel\",\n \"'bahn\",\n \"'bait\",\n \"'bake\",\n \"'baked/fri\",\n \"'baker\",\n \"'bakeri\",\n \"'balconi\",\n \"'baleada\",\n \"'ball\",\n \"'baller\",\n \"'baltimor\",\n \"'bam\",\n \"'bama\",\n \"'ban\",\n \"'banana\",\n \"'bang\",\n \"'banger\",\n \"'bangin\",\n \"'banh\",\n \"'bao\",\n \"'bap\",\n \"'bar\",\n \"'bar-tend\",\n \"'bar-top\",\n \"'barbecu\",\n \"'barcelona\",\n \"'barista\",\n \"'barn\",\n \"'barriga\",\n \"'basement\",\n \"'bash\",\n \"'basic\",\n \"'basket\",\n \"'bassi\",\n \"'bast\",\n \"'bath\",\n \"'bathroom\",\n \"'batida\",\n \"'batter/crispi\",\n \"'batteri\",\n \"'battl\",\n \"'bavarian\",\n \"'bazooka\",\n \"'bb\",\n \"'bbq\",\n \"'be\",\n \"'beach\",\n \"'beak\",\n \"'beaker\",\n \"'bean\",\n \"'beani\",\n \"'beast\",\n \"'beat\",\n \"'beauti\",\n \"'bebbo\",\n \"'becaus\",\n \"'becom\",\n \"'bed\",\n \"'bedsid\",\n \"'bee\",\n \"'beef\",\n \"'beef-noodl\",\n \"'beekeep\",\n \"'been\",\n \"'beer\",\n \"'beet\",\n \"'befor\",\n \"'beg\",\n \"'begel\",\n \"'belgian\",\n \"'bella\",\n \"'bello\",\n \"'ben\",\n \"'benedict\",\n \"'benefit'\",\n \"'bento\",\n \"'berkshir\",\n \"'berri\",\n \"'best\",\n \"'better\",\n \"'better-burg\",\n \"'betti\",\n \"'beverag\",\n \"'bi\",\n \"'bianca\",\n \"'bibimbop\",\n \"'bibl\",\n \"'bier\",\n \"'big\",\n \"'bigg\",\n \"'bigger\",\n \"'bigo\",\n \"'bilabno\",\n \"'bill\",\n \"'billi\",\n \"'binder\",\n \"'birthaversari\",\n \"'birthday\",\n \"'biscuit\",\n \"'bistro\",\n \"'bit\",\n \"'bite\",\n \"'bitey\",\n \"'bitter\",\n \"'bitti\",\n \"'bizzi\",\n \"'black\",\n \"'blackboard\",\n \"'blacken\",\n \"'blackfish\",\n \"'blah\",\n \"'blame\",\n \"'blanco\",\n \"'bland\",\n \"'bleep\",\n \"'bleh\",\n \"'bleu\",\n \"'blond\",\n \"'blood\",\n \"'bloodi\",\n \"'blow\",\n \"'blt\",\n \"'blue\",\n \"'bluecat\",\n \"'board\",\n \"'boast\",\n \"'bobbi\",\n \"'bodega\",\n \"'bok\",\n \"'boli\",\n \"'bomb\",\n \"'bombay\",\n \"'bonchon\",\n \"'bone\",\n \"'boneless\",\n \"'boo\",\n \"'boobird'\",\n \"'book\",\n \"'booti\",\n \"'boozi\",\n \"'bop\",\n \"'boqueron\",\n \"'border\",\n \"'borough\",\n \"'borscht\",\n \"'boss\",\n \"'boston\",\n \"'both\",\n \"'bother\",\n \"'botong\",\n \"'bottl\",\n \"'bottomless\",\n \"'bougi\",\n \"'bouncer\",\n \"'bounci\",\n \"'bourbon\",\n \"'bours\",\n \"'bout\",\n \"'bow\",\n \"'bowl\",\n \"'box\",\n \"'boy\",\n \"'boycott\",\n \"'boyfriend\",\n \"'braciol\",\n \"'brais\",\n \"'branch\",\n \"'brauhau\",\n \"'brave\",\n \"'brawler\",\n \"'bread\",\n \"'breakfast\",\n \"'brekki\",\n \"'brew\",\n \"'breweri\",\n \"'brick\",\n \"'brick-oven\",\n \"'brief\",\n \"'bright\",\n \"'brilliant\",\n \"'bring\",\n \"'brioch\",\n \"'british\",\n \"'bro\",\n \"'bro-tool\",\n \"'broad\",\n \"'broccoli\",\n \"'broil\",\n \"'broken\",\n \"'broken-in\",\n \"'brooklyn\",\n \"'broth\",\n \"'brother\",\n \"'brotherli\",\n \"'brown\",\n \"'browni\",\n \"'bru\",\n \"'bruges-styl\",\n \"'brunch\",\n \"'brunch-i\",\n \"'bu\",\n \"'bub\",\n \"'bubbl\",\n \"'buch\",\n \"'buck\",\n \"'buck-a-shuck\",\n \"'bucket\",\n \"'buckey\",\n \"'bud\",\n \"'budino\",\n \"'buffalo\",\n \"'buffet\",\n \"'build\",\n \"'build-your-own\",\n \"'built\",\n \"'bull\",\n \"'bun\",\n \"'buncheri\",\n \"'burb\",\n \"'burb-lik\",\n \"'burban\",\n \"'burg\",\n \"'burger\",\n \"'burger'person\",\n \"'buri\",\n \"'burmes\",\n \"'burn\",\n \"'burner\",\n \"'burnt\",\n \"'burrito\",\n \"'burst\",\n \"'busi\",\n \"'but\",\n \"'butcher\",\n \"'butter\",\n \"'butteri\",\n \"'buttermilk\",\n \"'buy\",\n \"'buyer\",\n \"'buzz\",\n \"'buzz'\",\n \"'buzzo\",\n \"'bye\",\n \"'byob\",\n \"'bûche\",\n \"'c4\",\n \"'ca\",\n \"'cabbag\",\n \"'cacio\",\n \"'cade\",\n \"'cado\",\n \"'caesar\",\n \"'cafe\",\n \"'café\",\n \"'cago\",\n \"'cajun\",\n \"'cake\",\n \"'cakey\",\n \"'calamari\",\n \"'cali\",\n \"'calico\",\n \"'call\",\n \"'calzon\",\n \"'campfir\",\n \"'campu\",\n \"'can\",\n \"'cancel\",\n \"'candi\",\n \"'candl\",\n \"'cannoli\",\n \"'cantina\",\n \"'cantones\",\n \"'capres\",\n \"'captiv\",\n \"'car\",\n \"'caramel\",\n \"'carboardy'.ambi\",\n \"'carbon\",\n \"'carbonara\",\n \"'carl\",\n \"'carn\",\n \"'carnat\",\n \"'carpaccio\",\n \"'carrot\",\n \"'carroti\",\n \"'cart\",\n \"'carton\",\n \"'cash\",\n \"'cash-only-we-hate-everyone-too-cool-for\",\n \"'cask\",\n \"'casserol\",\n \"'cast\",\n \"'casual\",\n \"'catch\",\n \"'cater\",\n \"'catfish\",\n \"'cauliflow\",\n \"'caus\",\n \"'cave\",\n \"'caviar\",\n \"'cedar\",\n \"'celebr\",\n \"'celeri\",\n \"'cellar\",\n \"'cello\",\n \"'center\",\n \"'central\",\n \"'cept\",\n \"'cereal\",\n \"'certain\",\n \"'certainli\",\n \"'certifi\",\n \"'cerveza\",\n \"'cesar\",\n \"'cevich\",\n \"'chaat\",\n \"'chaco\",\n \"'chai\",\n \"'chain\",\n \"'chain-ish\",\n \"'chalet\",\n \"'chanc\",\n \"'chang\",\n \"'changa\",\n \"'chaotic\",\n \"'char\",\n \"'charact\",\n \"'charcuteri\",\n \"'chardonnay\",\n \"'charg\",\n \"'charli\",\n \"'charm\",\n \"'chateau\",\n \"'cheap\",\n \"'cheapskat\",\n \"'cheat\",\n \"'check\",\n \"'check-in\",\n \"'check-the-box\",\n \"'cheddar\",\n \"'cheek\",\n \"'cheer\",\n \"'chees\",\n \"'cheese'cak\",\n \"'cheesecak\",\n \"'cheesesteak\",\n \"'cheeseteak\",\n \"'cheesey'.th\",\n \"'cheesi\",\n \"'cheesier\",\n \"'chef\",\n \"'cheferi\",\n \"'chengdunes\",\n \"'cherri\",\n \"'chestnut\",\n \"'chew\",\n \"'chewi\",\n \"'chi-chi's'-look\",\n \"'chicha\",\n \"'chick\",\n \"'chick'n\",\n \"'chicken\",\n \"'chicken-lik\",\n \"'chickenli\",\n \"'chickn\",\n \"'chifa\",\n \"'chik\",\n \"'child\",\n \"'chileez\",\n \"'chili\",\n \"'chill\",\n \"'chill-out\",\n \"'chillin\",\n \"'chimichanga\",\n \"'china\",\n \"'chinatown\",\n \"'chines\",\n \"'chinese-onli\",\n \"'chink\",\n \"'chip\",\n \"'chipotl\",\n \"'chiptol\",\n \"'cho\",\n \"'choco-cent\",\n \"'chocol\",\n \"'choic\",\n \"'choke\",\n \"'choo\",\n \"'choos\",\n \"'chop\",\n \"'chorizo\",\n \"'chovi\",\n \"'chow\",\n \"'christian\",\n \"'chubbi\",\n \"'chug\",\n \"'chup\",\n \"'church\",\n \"'churchil\",\n \"'churrasco\",\n \"'cigar\",\n \"'cinco\",\n \"'cinnamon\",\n \"'circ\",\n \"'citi\",\n \"'citru\",\n \"'citywid\",\n \"'clammi\",\n \"'clariti\",\n \"'classi\",\n \"'classic\",\n \"'classiest\",\n \"'clean\",\n \"'clean'food\",\n \"'clean-eat\",\n \"'clear\",\n \"'cleaver\",\n \"'clever\",\n \"'click\",\n \"'clock\",\n \"'close\",\n \"'closet\",\n \"'cloud\",\n \"'cloudbreak\",\n \"'club\",\n \"'clubbi\",\n \"'cluck-cluck\",\n \"'clue\",\n \"'clutter\",\n \"'co\",\n \"'coal\",\n \"'coca-cola\",\n \"'cocaracha\",\n \"'cocktail\",\n \"'cocktalian\",\n \"'coco\",\n \"'coconut\",\n \"'code\",\n \"'coffe\",\n \"'coke\",\n \"'cola\",\n \"'cold\",\n \"'cole\",\n \"'collaps\",\n \"'collect\",\n \"'colleg\",\n \"'colonel\",\n \"'com\",\n \"'comast\",\n \"'combo\",\n \"'come\",\n \"'comfi\",\n \"'comfort\",\n \"'commerc\",\n \"'commerci\",\n \"'commercial'-feel\",\n \"'common\",\n \"'commun\",\n \"'comp\",\n \"'compact\",\n \"'complain\",\n \"'complaint\",\n \"'complementari\",\n \"'complementary'\",\n \"'compliment\",\n \"'complimentari\",\n \"'compound\",\n \"'compromis\",\n \"'con\",\n \"'concept\",\n \"'concert\",\n \"'concoct\",\n \"'concret\",\n \"'condiment\",\n \"'condiment-less\",\n \"'confirm\",\n \"'confus\",\n \"'congratul\",\n \"'connoisseur\",\n \"'conshi\",\n \"'consider\",\n \"'consist\",\n \"'construct\",\n \"'consumm\",\n \"'contain\",\n \"'continent\",\n \"'contrast\",\n \"'control\",\n \"'conveni\",\n \"'convent\",\n \"'convers\",\n \"'cook\",\n \"'cooked-just-right\",\n \"'cooker\",\n \"'cooki\",\n \"'cool\",\n \"'cooler\",\n \"'coop\",\n \"'cork\",\n \"'corkag\",\n \"'corn\",\n \"'cornbread\",\n \"'corner\",\n \"'corpor\",\n \"'correct\",\n \"'cotoletta\",\n \"'cottag\",\n \"'cough\",\n \"'could\",\n \"'counter/bar\",\n \"'counter/bar/hostess\",\n \"'countri\",\n \"'coupl\",\n \"'coupon\",\n \"'cours\",\n \"'cousin\",\n \"'coventri\",\n \"'covid\",\n \"'coward\",\n \"'coz\",\n \"'cozi\",\n \"'crab\",\n \"'crabcak\",\n \"'crack\",\n \"'craft\",\n \"'cranberri\",\n \"'crap\",\n \"'crave\",\n \"'crazi\",\n \"'cream\",\n \"'creami\",\n \"'creat\",\n \"'create-your-own-\",\n \"'creativ\",\n \"'credit\",\n \"'creed\",\n \"'crema-laden\",\n \"'creme\",\n \"'crepe\",\n \"'cri\",\n \"'crisp\",\n \"'crispi\",\n \"'critic\",\n \"'croissant\",\n \"'cronut\",\n \"'croquett\",\n \"'cross\",\n \"'crosstown\",\n \"'crouton\",\n \"'crowd\",\n \"'crown\",\n \"'crude\",\n \"'crudo\",\n \"'crunch\",\n \"'crunchi\",\n \"'crunchifi\",\n \"'crunchy-to-doughi\",\n \"'crust\",\n \"'cruz\",\n \"'cu\",\n \"'cubano\",\n \"'cucumb\",\n \"'cue\",\n \"'culinari\",\n \"'cultur\",\n \"'cumber\",\n \"'cup\",\n \"'cupcak\",\n \"'cupcakeri\",\n \"'cupcakin\",\n \"'curd\",\n \"'curios\",\n \"'curli\",\n \"'current\",\n \"'curri\",\n \"'cuse\",\n \"'custard\",\n \"'custom\",\n \"'cut\",\n \"'cute\",\n \"'cuti\",\n \"'cuz\",\n \"'cycl\",\n \"'d\",\n \"'d'angelo\",\n \"'da\",\n \"'dab\",\n \"'dad\",\n \"'daddi\",\n \"'daili\",\n \"'dairi\",\n \"'dak\",\n \"'damn\",\n \"'dan\",\n \"'danc\",\n \"'dandelion\",\n \"'dang\",\n \"'danger\",\n \"'dare\",\n \"'dark\",\n \"'darl\",\n \"'darlin\",\n \"'date\",\n \"'daughter\",\n \"'david\",\n \"'day\",\n \"'de\",\n \"'dead\",\n \"'deal\",\n \"'dealon\",\n \"'dear\",\n \"'death\",\n \"'debbi\",\n \"'debri\",\n \"'debutant\",\n \"'decent\",\n \"'decept\",\n \"'decid\",\n \"'declar\",\n \"'deconstruct\",\n \"'decor\",\n \"'deep\",\n \"'deep-fri\",\n \"'defens\",\n \"'definit\",\n \"'dekoninck\",\n \"'del\",\n \"'delco\",\n \"'deli\",\n \"'delic\",\n \"'delici\",\n \"'deliciouso\",\n \"'delight\",\n \"'delirium\",\n \"'delish\",\n \"'deliv\",\n \"'deliveri\",\n \"'delph\",\n \"'delphian\",\n \"'delux\",\n \"'dem\",\n \"'dennis-the-menac\",\n \"'depth\",\n \"'dere\",\n \"'dereket\",\n \"'dervish\",\n \"'desert\",\n \"'desi\",\n \"'design\",\n \"'dessert\",\n \"'destin\",\n \"'detail\",\n \"'detroit\",\n \"'deutch\",\n \"'devil\",\n \"'devon\",\n \"'devour\",\n \"'dhaba\",\n \"'di\",\n \"'dia\",\n \"'diablo\",\n \"'dial\",\n \"'diamond\",\n \"'diavolo\",\n \"'dick\",\n \"'did\",\n \"'diet\",\n \"'differ\",\n \"'difficult\",\n \"'digiorno\",\n \"'dilla\",\n \"'dim\",\n \"'dine\",\n \"'dine-in\",\n \"'diner\",\n \"'diner-esqu\",\n \"'dineresqu\",\n \"'ding\",\n \"'dingi\",\n \"'dinner\",\n \"'dinner'\",\n \"'dip\",\n \"'direct\",\n \"'dirt\",\n \"'dirti\",\n \"'disappear\",\n \"'disappoint\",\n \"'disconnect\",\n \"'discount\",\n \"'discrimin\",\n \"'dish\",\n \"'disney\",\n \"'dissapoint\",\n \"'dissect\",\n \"'ditto\",\n \"'divan\",\n \"'dive\",\n \"'diver\",\n \"'divey\",\n \"'divin\",\n \"'do\",\n \"'doctor\",\n \"'dog\",\n \"'dollar\",\n \"'dolsot\",\n \"'doma\",\n \"'domingo\",\n \"'don\",\n \"'done\",\n \"'doner\",\n \"'donkey\",\n \"'donna\",\n \"'donnoli\",\n \"'dont\",\n \"'donut\",\n \"'doordash\",\n \"'doro\",\n \"'doubl\",\n \"'double-malt\",\n \"'doughi\",\n \"'down\",\n \"'downsid\",\n \"'downtown\",\n \"'dracula\",\n ...]"
     },
     "execution_count": 9,
     "metadata": {},
     "output_type": "execute_result"
    }
   ],
   "source": [
    "terms = set()\n",
    "for k, v in tqdm(reviews_stemmed.items()):\n",
    "    terms.update(v)\n",
    "\n",
    "terms = list(terms)\n",
    "terms.sort()\n",
    "terms"
   ],
   "metadata": {
    "collapsed": false,
    "ExecuteTime": {
     "start_time": "2023-04-22T13:54:00.836523Z",
     "end_time": "2023-04-22T13:55:01.076109Z"
    }
   }
  },
  {
   "cell_type": "code",
   "execution_count": 10,
   "outputs": [],
   "source": [
    "word_to_index = {}\n",
    "for i in range(len(terms)):\n",
    "    word_to_index[terms[i]] = i"
   ],
   "metadata": {
    "collapsed": false,
    "ExecuteTime": {
     "start_time": "2023-04-22T13:55:01.226423Z",
     "end_time": "2023-04-22T13:55:01.480770Z"
    }
   }
  },
  {
   "cell_type": "code",
   "execution_count": 11,
   "outputs": [],
   "source": [
    "restaurant_to_index = {}\n",
    "r = list(restaurants[\"name\"])\n",
    "r.sort()\n",
    "for i in range(len(r)):\n",
    "    restaurant_to_index[r[i]] = i"
   ],
   "metadata": {
    "collapsed": false,
    "ExecuteTime": {
     "start_time": "2023-04-22T13:55:01.586638Z",
     "end_time": "2023-04-22T13:55:01.611231Z"
    }
   }
  },
  {
   "cell_type": "code",
   "execution_count": 12,
   "outputs": [
    {
     "data": {
      "text/plain": "  0%|          | 0/5052 [00:00<?, ?it/s]",
      "application/vnd.jupyter.widget-view+json": {
       "version_major": 2,
       "version_minor": 0,
       "model_id": "a59aa348a97f461094fe96703f102589"
      }
     },
     "metadata": {},
     "output_type": "display_data"
    }
   ],
   "source": [
    "word_count = {}\n",
    "for k, v in tqdm(reviews_stemmed.items()):\n",
    "    for word in v:\n",
    "        if word not in word_count:\n",
    "            word_count[word] = 0\n",
    "        word_count[word] += 1"
   ],
   "metadata": {
    "collapsed": false,
    "ExecuteTime": {
     "start_time": "2023-04-22T13:55:01.637239Z",
     "end_time": "2023-04-22T13:56:23.297709Z"
    }
   }
  },
  {
   "cell_type": "code",
   "execution_count": 13,
   "outputs": [
    {
     "data": {
      "text/plain": "                             0        1\n0                           we   666191\n1                        decid    39428\n2                           to  1621637\n3                         give    73362\n4                          the  4067015\n...                        ...      ...\n250966                  say/sh        2\n250967                badbocci        1\n250968  botchedbusinessatbocci        1\n250969                right.do        1\n250970   incompetent/lazy/issu        1\n\n[250971 rows x 2 columns]",
      "text/html": "<div>\n<style scoped>\n    .dataframe tbody tr th:only-of-type {\n        vertical-align: middle;\n    }\n\n    .dataframe tbody tr th {\n        vertical-align: top;\n    }\n\n    .dataframe thead th {\n        text-align: right;\n    }\n</style>\n<table border=\"1\" class=\"dataframe\">\n  <thead>\n    <tr style=\"text-align: right;\">\n      <th></th>\n      <th>0</th>\n      <th>1</th>\n    </tr>\n  </thead>\n  <tbody>\n    <tr>\n      <th>0</th>\n      <td>we</td>\n      <td>666191</td>\n    </tr>\n    <tr>\n      <th>1</th>\n      <td>decid</td>\n      <td>39428</td>\n    </tr>\n    <tr>\n      <th>2</th>\n      <td>to</td>\n      <td>1621637</td>\n    </tr>\n    <tr>\n      <th>3</th>\n      <td>give</td>\n      <td>73362</td>\n    </tr>\n    <tr>\n      <th>4</th>\n      <td>the</td>\n      <td>4067015</td>\n    </tr>\n    <tr>\n      <th>...</th>\n      <td>...</td>\n      <td>...</td>\n    </tr>\n    <tr>\n      <th>250966</th>\n      <td>say/sh</td>\n      <td>2</td>\n    </tr>\n    <tr>\n      <th>250967</th>\n      <td>badbocci</td>\n      <td>1</td>\n    </tr>\n    <tr>\n      <th>250968</th>\n      <td>botchedbusinessatbocci</td>\n      <td>1</td>\n    </tr>\n    <tr>\n      <th>250969</th>\n      <td>right.do</td>\n      <td>1</td>\n    </tr>\n    <tr>\n      <th>250970</th>\n      <td>incompetent/lazy/issu</td>\n      <td>1</td>\n    </tr>\n  </tbody>\n</table>\n<p>250971 rows × 2 columns</p>\n</div>"
     },
     "execution_count": 13,
     "metadata": {},
     "output_type": "execute_result"
    }
   ],
   "source": [
    "word_count_df = pd.DataFrame(word_count.items())\n",
    "word_count_df"
   ],
   "metadata": {
    "collapsed": false,
    "ExecuteTime": {
     "start_time": "2023-04-22T13:56:25.472119Z",
     "end_time": "2023-04-22T13:56:26.557958Z"
    }
   }
  },
  {
   "cell_type": "code",
   "execution_count": 14,
   "outputs": [
    {
     "data": {
      "text/plain": "  0%|          | 0/5052 [00:00<?, ?it/s]",
      "application/vnd.jupyter.widget-view+json": {
       "version_major": 2,
       "version_minor": 0,
       "model_id": "23a27b6358ce4eb398b0ff4889b3763d"
      }
     },
     "metadata": {},
     "output_type": "display_data"
    }
   ],
   "source": [
    "tf_matrix = np.zeros((len(restaurants), len(terms)))\n",
    "for k, v in tqdm(reviews_stemmed.items()):\n",
    "    for word in v:\n",
    "        tf_matrix[restaurant_to_index[k], word_to_index[word]] += 1"
   ],
   "metadata": {
    "collapsed": false,
    "ExecuteTime": {
     "start_time": "2023-04-22T13:56:26.610637Z",
     "end_time": "2023-04-22T13:59:52.796286Z"
    }
   }
  },
  {
   "cell_type": "code",
   "execution_count": 15,
   "outputs": [
    {
     "data": {
      "text/plain": "  0%|          | 0/5052 [00:00<?, ?it/s]",
      "application/vnd.jupyter.widget-view+json": {
       "version_major": 2,
       "version_minor": 0,
       "model_id": "4e20faef9960475bbfa680274c9bce53"
      }
     },
     "metadata": {},
     "output_type": "display_data"
    }
   ],
   "source": [
    "df_matrix = np.zeros((len(restaurants), len(terms)))\n",
    "for k, v in tqdm(reviews_stemmed.items()):\n",
    "    for word in v:\n",
    "        df_matrix[restaurant_to_index[k], word_to_index[word]] = 1\n",
    "df = df_matrix.sum(axis=0)"
   ],
   "metadata": {
    "collapsed": false,
    "ExecuteTime": {
     "start_time": "2023-04-22T13:59:52.853128Z",
     "end_time": "2023-04-22T14:02:17.286126Z"
    }
   }
  },
  {
   "cell_type": "code",
   "execution_count": 16,
   "outputs": [
    {
     "data": {
      "text/plain": "array([5.95594375e-03, 1.09564757e+00, 1.18599877e-01, ...,\n       7.83439230e+00, 7.83439230e+00, 7.83439230e+00])"
     },
     "execution_count": 16,
     "metadata": {},
     "output_type": "execute_result"
    }
   ],
   "source": [
    "idf = np.log(len(restaurants) / (1 + df))\n",
    "idf"
   ],
   "metadata": {
    "collapsed": false,
    "ExecuteTime": {
     "start_time": "2023-04-22T14:02:17.246521Z",
     "end_time": "2023-04-22T14:02:17.370726Z"
    }
   }
  },
  {
   "cell_type": "code",
   "execution_count": 17,
   "outputs": [
    {
     "data": {
      "text/plain": "array([[ 0.02382378,  0.        ,  1.30459865, ...,  0.        ,\n         0.        ,  0.        ],\n       [ 0.60750626,  0.        ,  1.89759804, ...,  0.        ,\n         0.        ,  0.        ],\n       [ 3.28172501,  1.09564757,  6.40439338, ...,  0.        ,\n         0.        ,  0.        ],\n       ...,\n       [ 0.17272237,  0.        ,  0.23719975, ...,  0.        ,\n         0.        ,  0.        ],\n       [ 4.27041167,  6.5738854 , 20.51777881, ...,  0.        ,\n         0.        ,  0.        ],\n       [ 0.04764755,  0.        ,  0.83019914, ...,  0.        ,\n         0.        ,  0.        ]])"
     },
     "execution_count": 17,
     "metadata": {},
     "output_type": "execute_result"
    }
   ],
   "source": [
    "tf_idf_scores = tf_matrix * idf\n",
    "tf_idf_scores"
   ],
   "metadata": {
    "collapsed": false,
    "ExecuteTime": {
     "start_time": "2023-04-22T14:02:17.344423Z",
     "end_time": "2023-04-22T14:02:58.811338Z"
    }
   }
  },
  {
   "cell_type": "code",
   "execution_count": 18,
   "outputs": [],
   "source": [
    "avg_tf_idf = tf_idf_scores.sum(axis=0)"
   ],
   "metadata": {
    "collapsed": false,
    "ExecuteTime": {
     "start_time": "2023-04-22T14:02:58.856366Z",
     "end_time": "2023-04-22T14:03:20.708639Z"
    }
   }
  },
  {
   "cell_type": "code",
   "execution_count": 19,
   "outputs": [
    {
     "data": {
      "text/plain": "[<matplotlib.lines.Line2D at 0x7f72366a04d0>]"
     },
     "execution_count": 19,
     "metadata": {},
     "output_type": "execute_result"
    },
    {
     "data": {
      "text/plain": "<Figure size 640x480 with 1 Axes>",
      "image/png": "[encoded data removed]"
     },
     "metadata": {},
     "output_type": "display_data"
    }
   ],
   "source": [
    "plt.plot(sorted(avg_tf_idf, reverse=True)[:10000])"
   ],
   "metadata": {
    "collapsed": false,
    "ExecuteTime": {
     "start_time": "2023-04-22T14:03:20.971119Z",
     "end_time": "2023-04-22T14:05:28.241427Z"
    }
   }
  },
  {
   "cell_type": "code",
   "execution_count": 20,
   "outputs": [],
   "source": [
    "tf_idf_threshold = 10000\n",
    "sorted_index = np.argsort(avg_tf_idf)[:tf_idf_threshold]\n",
    "\n",
    "\n",
    "# for i in tqdm(range(len(terms))):\n",
    "#     if sorted_index[i] < tf_idf_threshold:\n",
    "top_tf_idf = tf_idf_scores[:,sorted_index]"
   ],
   "metadata": {
    "collapsed": false,
    "ExecuteTime": {
     "start_time": "2023-04-22T14:05:27.631775Z",
     "end_time": "2023-04-22T14:05:32.232684Z"
    }
   }
  },
  {
   "cell_type": "code",
   "execution_count": 21,
   "outputs": [
    {
     "data": {
      "text/plain": "array([[-0.00672934, -0.00475012, -0.00514597, ...,  0.        ,\n         0.        ,  0.        ],\n       [-0.07026225, -0.06194953, -0.04473033, ...,  0.        ,\n         0.        ,  0.        ],\n       [-0.39168728, -0.33983177, -0.24720436, ...,  0.        ,\n         0.        ,  0.        ],\n       ...,\n       [-0.04769916, -0.03938644, -0.02454231, ...,  0.        ,\n         0.        ,  0.        ],\n       [-0.71726868, -0.60089065, -0.39920831, ...,  0.        ,\n         0.        ,  0.        ],\n       [-0.01504206, -0.01187531, -0.00791687, ...,  0.        ,\n         0.        ,  0.        ]])"
     },
     "execution_count": 21,
     "metadata": {},
     "output_type": "execute_result"
    }
   ],
   "source": [
    "top_tf_idf"
   ],
   "metadata": {
    "collapsed": false,
    "ExecuteTime": {
     "start_time": "2023-04-22T14:05:32.252953Z",
     "end_time": "2023-04-22T14:05:32.294664Z"
    }
   }
  },
  {
   "cell_type": "code",
   "execution_count": 22,
   "outputs": [
    {
     "data": {
      "text/plain": "                                   0         1         2         3     4     \\\nname                                                                          \nSt Honore Pastries            -0.006729 -0.004750 -0.005146 -0.002375   0.0   \nTuna Bar                      -0.070262 -0.061950 -0.044730 -0.031667   0.0   \nBAP                           -0.391687 -0.339832 -0.247204 -0.155764   0.0   \nBar One                       -0.008115 -0.009104 -0.007323 -0.003761   0.0   \nDeSandro on Main              -0.374468 -0.419396 -0.211776 -0.139931   0.0   \n...                                 ...       ...       ...       ...   ...   \nStina Pizzeria                -0.098367 -0.114201 -0.068085 -0.032063   0.0   \nFlip-N-Pizza                  -0.010688 -0.008313 -0.004552 -0.002771   0.0   \nAli Baba Magic Food           -0.047699 -0.039386 -0.024542 -0.017615   0.0   \nTata Cafe                     -0.717269 -0.600891 -0.399208 -0.272340   0.0   \nAdelita Taqueria & Restaurant -0.015042 -0.011875 -0.007917 -0.004552   0.0   \n\n                               5     6     7     8     9     ...  9990  9991  \\\nname                                                         ...               \nSt Honore Pastries              0.0   0.0   0.0   0.0   0.0  ...   0.0   0.0   \nTuna Bar                        0.0   0.0   0.0   0.0   0.0  ...   0.0   0.0   \nBAP                             0.0   0.0   0.0   0.0   0.0  ...   0.0   0.0   \nBar One                         0.0   0.0   0.0   0.0   0.0  ...   0.0   0.0   \nDeSandro on Main                0.0   0.0   0.0   0.0   0.0  ...   0.0   0.0   \n...                             ...   ...   ...   ...   ...  ...   ...   ...   \nStina Pizzeria                  0.0   0.0   0.0   0.0   0.0  ...   0.0   0.0   \nFlip-N-Pizza                    0.0   0.0   0.0   0.0   0.0  ...   0.0   0.0   \nAli Baba Magic Food             0.0   0.0   0.0   0.0   0.0  ...   0.0   0.0   \nTata Cafe                       0.0   0.0   0.0   0.0   0.0  ...   0.0   0.0   \nAdelita Taqueria & Restaurant   0.0   0.0   0.0   0.0   0.0  ...   0.0   0.0   \n\n                               9992  9993  9994  9995  9996  9997  9998  9999  \nname                                                                           \nSt Honore Pastries              0.0   0.0   0.0   0.0   0.0   0.0   0.0   0.0  \nTuna Bar                        0.0   0.0   0.0   0.0   0.0   0.0   0.0   0.0  \nBAP                             0.0   0.0   0.0   0.0   0.0   0.0   0.0   0.0  \nBar One                         0.0   0.0   0.0   0.0   0.0   0.0   0.0   0.0  \nDeSandro on Main                0.0   0.0   0.0   0.0   0.0   0.0   0.0   0.0  \n...                             ...   ...   ...   ...   ...   ...   ...   ...  \nStina Pizzeria                  0.0   0.0   0.0   0.0   0.0   0.0   0.0   0.0  \nFlip-N-Pizza                    0.0   0.0   0.0   0.0   0.0   0.0   0.0   0.0  \nAli Baba Magic Food             0.0   0.0   0.0   0.0   0.0   0.0   0.0   0.0  \nTata Cafe                       0.0   0.0   0.0   0.0   0.0   0.0   0.0   0.0  \nAdelita Taqueria & Restaurant   0.0   0.0   0.0   0.0   0.0   0.0   0.0   0.0  \n\n[5052 rows x 10000 columns]",
      "text/html": "<div>\n<style scoped>\n    .dataframe tbody tr th:only-of-type {\n        vertical-align: middle;\n    }\n\n    .dataframe tbody tr th {\n        vertical-align: top;\n    }\n\n    .dataframe thead th {\n        text-align: right;\n    }\n</style>\n<table border=\"1\" class=\"dataframe\">\n  <thead>\n    <tr style=\"text-align: right;\">\n      <th></th>\n      <th>0</th>\n      <th>1</th>\n      <th>2</th>\n      <th>3</th>\n      <th>4</th>\n      <th>5</th>\n      <th>6</th>\n      <th>7</th>\n      <th>8</th>\n      <th>9</th>\n      <th>...</th>\n      <th>9990</th>\n      <th>9991</th>\n      <th>9992</th>\n      <th>9993</th>\n      <th>9994</th>\n      <th>9995</th>\n      <th>9996</th>\n      <th>9997</th>\n      <th>9998</th>\n      <th>9999</th>\n    </tr>\n    <tr>\n      <th>name</th>\n      <th></th>\n      <th></th>\n      <th></th>\n      <th></th>\n      <th></th>\n      <th></th>\n      <th></th>\n      <th></th>\n      <th></th>\n      <th></th>\n      <th></th>\n      <th></th>\n      <th></th>\n      <th></th>\n      <th></th>\n      <th></th>\n      <th></th>\n      <th></th>\n      <th></th>\n      <th></th>\n      <th></th>\n    </tr>\n  </thead>\n  <tbody>\n    <tr>\n      <th>St Honore Pastries</th>\n      <td>-0.006729</td>\n      <td>-0.004750</td>\n      <td>-0.005146</td>\n      <td>-0.002375</td>\n      <td>0.0</td>\n      <td>0.0</td>\n      <td>0.0</td>\n      <td>0.0</td>\n      <td>0.0</td>\n      <td>0.0</td>\n      <td>...</td>\n      <td>0.0</td>\n      <td>0.0</td>\n      <td>0.0</td>\n      <td>0.0</td>\n      <td>0.0</td>\n      <td>0.0</td>\n      <td>0.0</td>\n      <td>0.0</td>\n      <td>0.0</td>\n      <td>0.0</td>\n    </tr>\n    <tr>\n      <th>Tuna Bar</th>\n      <td>-0.070262</td>\n      <td>-0.061950</td>\n      <td>-0.044730</td>\n      <td>-0.031667</td>\n      <td>0.0</td>\n      <td>0.0</td>\n      <td>0.0</td>\n      <td>0.0</td>\n      <td>0.0</td>\n      <td>0.0</td>\n      <td>...</td>\n      <td>0.0</td>\n      <td>0.0</td>\n      <td>0.0</td>\n      <td>0.0</td>\n      <td>0.0</td>\n      <td>0.0</td>\n      <td>0.0</td>\n      <td>0.0</td>\n      <td>0.0</td>\n      <td>0.0</td>\n    </tr>\n    <tr>\n      <th>BAP</th>\n      <td>-0.391687</td>\n      <td>-0.339832</td>\n      <td>-0.247204</td>\n      <td>-0.155764</td>\n      <td>0.0</td>\n      <td>0.0</td>\n      <td>0.0</td>\n      <td>0.0</td>\n      <td>0.0</td>\n      <td>0.0</td>\n      <td>...</td>\n      <td>0.0</td>\n      <td>0.0</td>\n      <td>0.0</td>\n      <td>0.0</td>\n      <td>0.0</td>\n      <td>0.0</td>\n      <td>0.0</td>\n      <td>0.0</td>\n      <td>0.0</td>\n      <td>0.0</td>\n    </tr>\n    <tr>\n      <th>Bar One</th>\n      <td>-0.008115</td>\n      <td>-0.009104</td>\n      <td>-0.007323</td>\n      <td>-0.003761</td>\n      <td>0.0</td>\n      <td>0.0</td>\n      <td>0.0</td>\n      <td>0.0</td>\n      <td>0.0</td>\n      <td>0.0</td>\n      <td>...</td>\n      <td>0.0</td>\n      <td>0.0</td>\n      <td>0.0</td>\n      <td>0.0</td>\n      <td>0.0</td>\n      <td>0.0</td>\n      <td>0.0</td>\n      <td>0.0</td>\n      <td>0.0</td>\n      <td>0.0</td>\n    </tr>\n    <tr>\n      <th>DeSandro on Main</th>\n      <td>-0.374468</td>\n      <td>-0.419396</td>\n      <td>-0.211776</td>\n      <td>-0.139931</td>\n      <td>0.0</td>\n      <td>0.0</td>\n      <td>0.0</td>\n      <td>0.0</td>\n      <td>0.0</td>\n      <td>0.0</td>\n      <td>...</td>\n      <td>0.0</td>\n      <td>0.0</td>\n      <td>0.0</td>\n      <td>0.0</td>\n      <td>0.0</td>\n      <td>0.0</td>\n      <td>0.0</td>\n      <td>0.0</td>\n      <td>0.0</td>\n      <td>0.0</td>\n    </tr>\n    <tr>\n      <th>...</th>\n      <td>...</td>\n      <td>...</td>\n      <td>...</td>\n      <td>...</td>\n      <td>...</td>\n      <td>...</td>\n      <td>...</td>\n      <td>...</td>\n      <td>...</td>\n      <td>...</td>\n      <td>...</td>\n      <td>...</td>\n      <td>...</td>\n      <td>...</td>\n      <td>...</td>\n      <td>...</td>\n      <td>...</td>\n      <td>...</td>\n      <td>...</td>\n      <td>...</td>\n      <td>...</td>\n    </tr>\n    <tr>\n      <th>Stina Pizzeria</th>\n      <td>-0.098367</td>\n      <td>-0.114201</td>\n      <td>-0.068085</td>\n      <td>-0.032063</td>\n      <td>0.0</td>\n      <td>0.0</td>\n      <td>0.0</td>\n      <td>0.0</td>\n      <td>0.0</td>\n      <td>0.0</td>\n      <td>...</td>\n      <td>0.0</td>\n      <td>0.0</td>\n      <td>0.0</td>\n      <td>0.0</td>\n      <td>0.0</td>\n      <td>0.0</td>\n      <td>0.0</td>\n      <td>0.0</td>\n      <td>0.0</td>\n      <td>0.0</td>\n    </tr>\n    <tr>\n      <th>Flip-N-Pizza</th>\n      <td>-0.010688</td>\n      <td>-0.008313</td>\n      <td>-0.004552</td>\n      <td>-0.002771</td>\n      <td>0.0</td>\n      <td>0.0</td>\n      <td>0.0</td>\n      <td>0.0</td>\n      <td>0.0</td>\n      <td>0.0</td>\n      <td>...</td>\n      <td>0.0</td>\n      <td>0.0</td>\n      <td>0.0</td>\n      <td>0.0</td>\n      <td>0.0</td>\n      <td>0.0</td>\n      <td>0.0</td>\n      <td>0.0</td>\n      <td>0.0</td>\n      <td>0.0</td>\n    </tr>\n    <tr>\n      <th>Ali Baba Magic Food</th>\n      <td>-0.047699</td>\n      <td>-0.039386</td>\n      <td>-0.024542</td>\n      <td>-0.017615</td>\n      <td>0.0</td>\n      <td>0.0</td>\n      <td>0.0</td>\n      <td>0.0</td>\n      <td>0.0</td>\n      <td>0.0</td>\n      <td>...</td>\n      <td>0.0</td>\n      <td>0.0</td>\n      <td>0.0</td>\n      <td>0.0</td>\n      <td>0.0</td>\n      <td>0.0</td>\n      <td>0.0</td>\n      <td>0.0</td>\n      <td>0.0</td>\n      <td>0.0</td>\n    </tr>\n    <tr>\n      <th>Tata Cafe</th>\n      <td>-0.717269</td>\n      <td>-0.600891</td>\n      <td>-0.399208</td>\n      <td>-0.272340</td>\n      <td>0.0</td>\n      <td>0.0</td>\n      <td>0.0</td>\n      <td>0.0</td>\n      <td>0.0</td>\n      <td>0.0</td>\n      <td>...</td>\n      <td>0.0</td>\n      <td>0.0</td>\n      <td>0.0</td>\n      <td>0.0</td>\n      <td>0.0</td>\n      <td>0.0</td>\n      <td>0.0</td>\n      <td>0.0</td>\n      <td>0.0</td>\n      <td>0.0</td>\n    </tr>\n    <tr>\n      <th>Adelita Taqueria &amp; Restaurant</th>\n      <td>-0.015042</td>\n      <td>-0.011875</td>\n      <td>-0.007917</td>\n      <td>-0.004552</td>\n      <td>0.0</td>\n      <td>0.0</td>\n      <td>0.0</td>\n      <td>0.0</td>\n      <td>0.0</td>\n      <td>0.0</td>\n      <td>...</td>\n      <td>0.0</td>\n      <td>0.0</td>\n      <td>0.0</td>\n      <td>0.0</td>\n      <td>0.0</td>\n      <td>0.0</td>\n      <td>0.0</td>\n      <td>0.0</td>\n      <td>0.0</td>\n      <td>0.0</td>\n    </tr>\n  </tbody>\n</table>\n<p>5052 rows × 10000 columns</p>\n</div>"
     },
     "execution_count": 22,
     "metadata": {},
     "output_type": "execute_result"
    }
   ],
   "source": [
    "top_tf_idf_df = pd.DataFrame(top_tf_idf)\n",
    "top_tf_idf_df.index = restaurants[\"name\"]\n",
    "top_tf_idf_df"
   ],
   "metadata": {
    "collapsed": false,
    "ExecuteTime": {
     "start_time": "2023-04-22T14:05:32.271232Z",
     "end_time": "2023-04-22T14:05:32.668302Z"
    }
   }
  },
  {
   "cell_type": "code",
   "execution_count": 23,
   "outputs": [],
   "source": [
    "top_tf_idf_df.to_csv(\"top_tf_idf_matrix.csv\")"
   ],
   "metadata": {
    "collapsed": false,
    "ExecuteTime": {
     "start_time": "2023-04-22T14:05:32.382147Z",
     "end_time": "2023-04-22T14:06:28.170654Z"
    }
   }
  },
  {
   "cell_type": "code",
   "execution_count": 45,
   "outputs": [
    {
     "data": {
      "text/plain": "array(['.', 'the', 'and', ..., 'menu123.com', 'menu=anoth', 'menu=no'],\n      dtype='<U355')"
     },
     "execution_count": 45,
     "metadata": {},
     "output_type": "execute_result"
    }
   ],
   "source": [
    "np.array(terms)[sorted_index]"
   ],
   "metadata": {
    "collapsed": false,
    "ExecuteTime": {
     "start_time": "2023-04-11T11:12:48.939127Z",
     "end_time": "2023-04-11T11:12:49.279323Z"
    }
   }
  },
  {
   "cell_type": "code",
   "execution_count": 47,
   "outputs": [
    {
     "data": {
      "text/plain": "  0%|          | 0/5052 [00:00<?, ?it/s]",
      "application/vnd.jupyter.widget-view+json": {
       "version_major": 2,
       "version_minor": 0,
       "model_id": "98ecbe22ec6c468e9db396ffa920523f"
      }
     },
     "metadata": {},
     "output_type": "display_data"
    }
   ],
   "source": [
    "norms = []\n",
    "for x in tqdm(range(5052)):\n",
    "    norms.append(np.linalg.norm(top_tf_idf[x]))"
   ],
   "metadata": {
    "collapsed": false,
    "ExecuteTime": {
     "start_time": "2023-04-11T11:30:45.628994Z",
     "end_time": "2023-04-11T11:30:46.868421Z"
    }
   }
  },
  {
   "cell_type": "code",
   "execution_count": 49,
   "outputs": [
    {
     "data": {
      "text/plain": "  0%|          | 0/5052 [00:00<?, ?it/s]",
      "application/vnd.jupyter.widget-view+json": {
       "version_major": 2,
       "version_minor": 0,
       "model_id": "89d1c44afaf24fdf93bc36cde603c8a3"
      }
     },
     "metadata": {},
     "output_type": "display_data"
    }
   ],
   "source": [
    "cosine_sim_matrix = np.zeros((5052, 5052))\n",
    "\n",
    "for x in tqdm(range(5052)):\n",
    "    for y in range(5052):\n",
    "        if cosine_sim_matrix[y, x] != 0:\n",
    "            cosine_sim_matrix[x, y] = cosine_sim_matrix[y, x]\n",
    "        else:\n",
    "            cosine_sim_matrix[x, y] = np.dot(top_tf_idf[x], top_tf_idf[y]) / (norms[x] * norms[y])"
   ],
   "metadata": {
    "collapsed": false,
    "ExecuteTime": {
     "start_time": "2023-04-11T11:31:24.233797Z",
     "end_time": "2023-04-11T12:11:14.420873Z"
    }
   }
  },
  {
   "cell_type": "code",
   "execution_count": 50,
   "outputs": [
    {
     "data": {
      "text/plain": "array([[1.        , 0.98836267, 0.03069348, ..., 0.9824168 , 0.05003118,\n        0.98550223],\n       [0.98836267, 1.        , 0.03098548, ..., 0.99677189, 0.05065749,\n        0.99430358],\n       [0.03069348, 0.03098548, 1.        , ..., 0.03092847, 0.00157162,\n        0.03089736],\n       ...,\n       [0.9824168 , 0.99677189, 0.03092847, ..., 1.        , 0.05072528,\n        0.99880224],\n       [0.05003118, 0.05065749, 0.00157162, ..., 0.05072528, 1.        ,\n        0.0506692 ],\n       [0.98550223, 0.99430358, 0.03089736, ..., 0.99880224, 0.0506692 ,\n        1.        ]])"
     },
     "execution_count": 50,
     "metadata": {},
     "output_type": "execute_result"
    }
   ],
   "source": [
    "cosine_sim_matrix"
   ],
   "metadata": {
    "collapsed": false,
    "ExecuteTime": {
     "start_time": "2023-04-11T12:12:47.559819Z",
     "end_time": "2023-04-11T12:12:47.660448Z"
    }
   }
  },
  {
   "cell_type": "code",
   "execution_count": 51,
   "outputs": [
    {
     "data": {
      "text/plain": "          0         1         2         3         4         5         6     \\\n0     1.000000  0.988363  0.030693  0.981987  0.037849  0.982080  0.920023   \n1     0.988363  1.000000  0.030985  0.989937  0.038898  0.995288  0.930943   \n2     0.030693  0.030985  1.000000  0.030684  0.001207  0.030902  0.029004   \n3     0.981987  0.989937  0.030684  1.000000  0.038721  0.976711  0.877096   \n4     0.037849  0.038898  0.001207  0.038721  1.000000  0.038914  0.036192   \n...        ...       ...       ...       ...       ...       ...       ...   \n5047  0.014721  0.015007  0.000466  0.015070  0.000596  0.014969  0.013733   \n5048  0.972006  0.986139  0.030669  0.962921  0.038744  0.997539  0.971860   \n5049  0.982417  0.996772  0.030928  0.978951  0.038947  0.999785  0.955061   \n5050  0.050031  0.050657  0.001572  0.049900  0.001977  0.050702  0.048131   \n5051  0.985502  0.994304  0.030897  0.977275  0.038831  0.999456  0.958772   \n\n          7         8         9     ...      5042      5043      5044  \\\n0     0.038586  0.019389  0.018627  ...  0.005473  0.033230  0.022786   \n1     0.039175  0.019634  0.018867  ...  0.005508  0.033684  0.022698   \n2     0.001217  0.000610  0.000586  ...  0.000171  0.001045  0.000705   \n3     0.038765  0.019313  0.018674  ...  0.005416  0.033176  0.022259   \n4     0.001542  0.000769  0.000740  ...  0.000214  0.001314  0.000874   \n...        ...       ...       ...  ...       ...       ...       ...   \n5047  0.000595  0.000296  0.000285  ...  0.000082  0.000506  0.000338   \n5048  0.039174  0.019678  0.018793  ...  0.005485  0.033483  0.022685   \n5049  0.039286  0.019717  0.018886  ...  0.005515  0.033708  0.022754   \n5050  0.001994  0.001000  0.000959  ...  0.000280  0.001711  0.001155   \n5051  0.039284  0.019722  0.018879  ...  0.005515  0.033647  0.022823   \n\n          5045      5046      5047      5048      5049      5050      5051  \n0     0.008764  0.996472  0.014721  0.972006  0.982417  0.050031  0.985502  \n1     0.008817  0.991259  0.015007  0.986139  0.996772  0.050657  0.994304  \n2     0.000274  0.030827  0.000466  0.030669  0.030928  0.001572  0.030897  \n3     0.008824  0.981775  0.015070  0.962921  0.978951  0.049900  0.977275  \n4     0.000346  0.038364  0.000596  0.038744  0.038947  0.001977  0.038831  \n...        ...       ...       ...       ...       ...       ...       ...  \n5047  0.000134  0.014886  1.000000  0.014881  0.014978  0.000761  0.014967  \n5048  0.008746  0.986707  0.014881  1.000000  0.996038  0.050440  0.997500  \n5049  0.008798  0.990962  0.014978  0.996038  1.000000  0.050725  0.998802  \n5050  0.000447  0.050381  0.000761  0.050440  0.050725  1.000000  0.050669  \n5051  0.008815  0.994850  0.014967  0.997500  0.998802  0.050669  1.000000  \n\n[5052 rows x 5052 columns]",
      "text/html": "<div>\n<style scoped>\n    .dataframe tbody tr th:only-of-type {\n        vertical-align: middle;\n    }\n\n    .dataframe tbody tr th {\n        vertical-align: top;\n    }\n\n    .dataframe thead th {\n        text-align: right;\n    }\n</style>\n<table border=\"1\" class=\"dataframe\">\n  <thead>\n    <tr style=\"text-align: right;\">\n      <th></th>\n      <th>0</th>\n      <th>1</th>\n      <th>2</th>\n      <th>3</th>\n      <th>4</th>\n      <th>5</th>\n      <th>6</th>\n      <th>7</th>\n      <th>8</th>\n      <th>9</th>\n      <th>...</th>\n      <th>5042</th>\n      <th>5043</th>\n      <th>5044</th>\n      <th>5045</th>\n      <th>5046</th>\n      <th>5047</th>\n      <th>5048</th>\n      <th>5049</th>\n      <th>5050</th>\n      <th>5051</th>\n    </tr>\n  </thead>\n  <tbody>\n    <tr>\n      <th>0</th>\n      <td>1.000000</td>\n      <td>0.988363</td>\n      <td>0.030693</td>\n      <td>0.981987</td>\n      <td>0.037849</td>\n      <td>0.982080</td>\n      <td>0.920023</td>\n      <td>0.038586</td>\n      <td>0.019389</td>\n      <td>0.018627</td>\n      <td>...</td>\n      <td>0.005473</td>\n      <td>0.033230</td>\n      <td>0.022786</td>\n      <td>0.008764</td>\n      <td>0.996472</td>\n      <td>0.014721</td>\n      <td>0.972006</td>\n      <td>0.982417</td>\n      <td>0.050031</td>\n      <td>0.985502</td>\n    </tr>\n    <tr>\n      <th>1</th>\n      <td>0.988363</td>\n      <td>1.000000</td>\n      <td>0.030985</td>\n      <td>0.989937</td>\n      <td>0.038898</td>\n      <td>0.995288</td>\n      <td>0.930943</td>\n      <td>0.039175</td>\n      <td>0.019634</td>\n      <td>0.018867</td>\n      <td>...</td>\n      <td>0.005508</td>\n      <td>0.033684</td>\n      <td>0.022698</td>\n      <td>0.008817</td>\n      <td>0.991259</td>\n      <td>0.015007</td>\n      <td>0.986139</td>\n      <td>0.996772</td>\n      <td>0.050657</td>\n      <td>0.994304</td>\n    </tr>\n    <tr>\n      <th>2</th>\n      <td>0.030693</td>\n      <td>0.030985</td>\n      <td>1.000000</td>\n      <td>0.030684</td>\n      <td>0.001207</td>\n      <td>0.030902</td>\n      <td>0.029004</td>\n      <td>0.001217</td>\n      <td>0.000610</td>\n      <td>0.000586</td>\n      <td>...</td>\n      <td>0.000171</td>\n      <td>0.001045</td>\n      <td>0.000705</td>\n      <td>0.000274</td>\n      <td>0.030827</td>\n      <td>0.000466</td>\n      <td>0.030669</td>\n      <td>0.030928</td>\n      <td>0.001572</td>\n      <td>0.030897</td>\n    </tr>\n    <tr>\n      <th>3</th>\n      <td>0.981987</td>\n      <td>0.989937</td>\n      <td>0.030684</td>\n      <td>1.000000</td>\n      <td>0.038721</td>\n      <td>0.976711</td>\n      <td>0.877096</td>\n      <td>0.038765</td>\n      <td>0.019313</td>\n      <td>0.018674</td>\n      <td>...</td>\n      <td>0.005416</td>\n      <td>0.033176</td>\n      <td>0.022259</td>\n      <td>0.008824</td>\n      <td>0.981775</td>\n      <td>0.015070</td>\n      <td>0.962921</td>\n      <td>0.978951</td>\n      <td>0.049900</td>\n      <td>0.977275</td>\n    </tr>\n    <tr>\n      <th>4</th>\n      <td>0.037849</td>\n      <td>0.038898</td>\n      <td>0.001207</td>\n      <td>0.038721</td>\n      <td>1.000000</td>\n      <td>0.038914</td>\n      <td>0.036192</td>\n      <td>0.001542</td>\n      <td>0.000769</td>\n      <td>0.000740</td>\n      <td>...</td>\n      <td>0.000214</td>\n      <td>0.001314</td>\n      <td>0.000874</td>\n      <td>0.000346</td>\n      <td>0.038364</td>\n      <td>0.000596</td>\n      <td>0.038744</td>\n      <td>0.038947</td>\n      <td>0.001977</td>\n      <td>0.038831</td>\n    </tr>\n    <tr>\n      <th>...</th>\n      <td>...</td>\n      <td>...</td>\n      <td>...</td>\n      <td>...</td>\n      <td>...</td>\n      <td>...</td>\n      <td>...</td>\n      <td>...</td>\n      <td>...</td>\n      <td>...</td>\n      <td>...</td>\n      <td>...</td>\n      <td>...</td>\n      <td>...</td>\n      <td>...</td>\n      <td>...</td>\n      <td>...</td>\n      <td>...</td>\n      <td>...</td>\n      <td>...</td>\n      <td>...</td>\n    </tr>\n    <tr>\n      <th>5047</th>\n      <td>0.014721</td>\n      <td>0.015007</td>\n      <td>0.000466</td>\n      <td>0.015070</td>\n      <td>0.000596</td>\n      <td>0.014969</td>\n      <td>0.013733</td>\n      <td>0.000595</td>\n      <td>0.000296</td>\n      <td>0.000285</td>\n      <td>...</td>\n      <td>0.000082</td>\n      <td>0.000506</td>\n      <td>0.000338</td>\n      <td>0.000134</td>\n      <td>0.014886</td>\n      <td>1.000000</td>\n      <td>0.014881</td>\n      <td>0.014978</td>\n      <td>0.000761</td>\n      <td>0.014967</td>\n    </tr>\n    <tr>\n      <th>5048</th>\n      <td>0.972006</td>\n      <td>0.986139</td>\n      <td>0.030669</td>\n      <td>0.962921</td>\n      <td>0.038744</td>\n      <td>0.997539</td>\n      <td>0.971860</td>\n      <td>0.039174</td>\n      <td>0.019678</td>\n      <td>0.018793</td>\n      <td>...</td>\n      <td>0.005485</td>\n      <td>0.033483</td>\n      <td>0.022685</td>\n      <td>0.008746</td>\n      <td>0.986707</td>\n      <td>0.014881</td>\n      <td>1.000000</td>\n      <td>0.996038</td>\n      <td>0.050440</td>\n      <td>0.997500</td>\n    </tr>\n    <tr>\n      <th>5049</th>\n      <td>0.982417</td>\n      <td>0.996772</td>\n      <td>0.030928</td>\n      <td>0.978951</td>\n      <td>0.038947</td>\n      <td>0.999785</td>\n      <td>0.955061</td>\n      <td>0.039286</td>\n      <td>0.019717</td>\n      <td>0.018886</td>\n      <td>...</td>\n      <td>0.005515</td>\n      <td>0.033708</td>\n      <td>0.022754</td>\n      <td>0.008798</td>\n      <td>0.990962</td>\n      <td>0.014978</td>\n      <td>0.996038</td>\n      <td>1.000000</td>\n      <td>0.050725</td>\n      <td>0.998802</td>\n    </tr>\n    <tr>\n      <th>5050</th>\n      <td>0.050031</td>\n      <td>0.050657</td>\n      <td>0.001572</td>\n      <td>0.049900</td>\n      <td>0.001977</td>\n      <td>0.050702</td>\n      <td>0.048131</td>\n      <td>0.001994</td>\n      <td>0.001000</td>\n      <td>0.000959</td>\n      <td>...</td>\n      <td>0.000280</td>\n      <td>0.001711</td>\n      <td>0.001155</td>\n      <td>0.000447</td>\n      <td>0.050381</td>\n      <td>0.000761</td>\n      <td>0.050440</td>\n      <td>0.050725</td>\n      <td>1.000000</td>\n      <td>0.050669</td>\n    </tr>\n    <tr>\n      <th>5051</th>\n      <td>0.985502</td>\n      <td>0.994304</td>\n      <td>0.030897</td>\n      <td>0.977275</td>\n      <td>0.038831</td>\n      <td>0.999456</td>\n      <td>0.958772</td>\n      <td>0.039284</td>\n      <td>0.019722</td>\n      <td>0.018879</td>\n      <td>...</td>\n      <td>0.005515</td>\n      <td>0.033647</td>\n      <td>0.022823</td>\n      <td>0.008815</td>\n      <td>0.994850</td>\n      <td>0.014967</td>\n      <td>0.997500</td>\n      <td>0.998802</td>\n      <td>0.050669</td>\n      <td>1.000000</td>\n    </tr>\n  </tbody>\n</table>\n<p>5052 rows × 5052 columns</p>\n</div>"
     },
     "execution_count": 51,
     "metadata": {},
     "output_type": "execute_result"
    }
   ],
   "source": [
    "cosine_sim_df = pd.DataFrame(cosine_sim_matrix)\n",
    "cosine_sim_df"
   ],
   "metadata": {
    "collapsed": false,
    "ExecuteTime": {
     "start_time": "2023-04-11T12:14:30.712776Z",
     "end_time": "2023-04-11T12:14:30.825829Z"
    }
   }
  },
  {
   "cell_type": "code",
   "execution_count": 52,
   "outputs": [],
   "source": [
    "cosine_sim_df.to_csv(\"cosine_matrix.csv\")"
   ],
   "metadata": {
    "collapsed": false,
    "ExecuteTime": {
     "start_time": "2023-04-11T12:14:51.893547Z",
     "end_time": "2023-04-11T12:15:38.458029Z"
    }
   }
  },
  {
   "cell_type": "code",
   "execution_count": 55,
   "outputs": [
    {
     "data": {
      "text/plain": "        Unnamed: 0                     x                           y     score\n0                0  $5 Fresh Burger Stop         Ali Baba Magic Food  0.666667\n1                1  $5 Fresh Burger Stop         Mike's Hot Dog Cart  0.666667\n2                2  $5 Fresh Burger Stop  Rangoon Burmese Restaurant  0.666667\n3                3  $5 Fresh Burger Stop           Fruit Salad Truck  0.666667\n4                4  $5 Fresh Burger Stop                     Yumtown  0.666667\n...            ...                   ...                         ...       ...\n252595      252595               ¡Juice!               Burrito Elito  0.500000\n252596      252596               ¡Juice!      Nifty Fifty's Fishtown  0.500000\n252597      252597               ¡Juice!                     Nourish  0.500000\n252598      252598               ¡Juice!             Grindcore House  0.500000\n252599      252599               ¡Juice!                  Panda Cafe  0.500000\n\n[252600 rows x 4 columns]",
      "text/html": "<div>\n<style scoped>\n    .dataframe tbody tr th:only-of-type {\n        vertical-align: middle;\n    }\n\n    .dataframe tbody tr th {\n        vertical-align: top;\n    }\n\n    .dataframe thead th {\n        text-align: right;\n    }\n</style>\n<table border=\"1\" class=\"dataframe\">\n  <thead>\n    <tr style=\"text-align: right;\">\n      <th></th>\n      <th>Unnamed: 0</th>\n      <th>x</th>\n      <th>y</th>\n      <th>score</th>\n    </tr>\n  </thead>\n  <tbody>\n    <tr>\n      <th>0</th>\n      <td>0</td>\n      <td>$5 Fresh Burger Stop</td>\n      <td>Ali Baba Magic Food</td>\n      <td>0.666667</td>\n    </tr>\n    <tr>\n      <th>1</th>\n      <td>1</td>\n      <td>$5 Fresh Burger Stop</td>\n      <td>Mike's Hot Dog Cart</td>\n      <td>0.666667</td>\n    </tr>\n    <tr>\n      <th>2</th>\n      <td>2</td>\n      <td>$5 Fresh Burger Stop</td>\n      <td>Rangoon Burmese Restaurant</td>\n      <td>0.666667</td>\n    </tr>\n    <tr>\n      <th>3</th>\n      <td>3</td>\n      <td>$5 Fresh Burger Stop</td>\n      <td>Fruit Salad Truck</td>\n      <td>0.666667</td>\n    </tr>\n    <tr>\n      <th>4</th>\n      <td>4</td>\n      <td>$5 Fresh Burger Stop</td>\n      <td>Yumtown</td>\n      <td>0.666667</td>\n    </tr>\n    <tr>\n      <th>...</th>\n      <td>...</td>\n      <td>...</td>\n      <td>...</td>\n      <td>...</td>\n    </tr>\n    <tr>\n      <th>252595</th>\n      <td>252595</td>\n      <td>¡Juice!</td>\n      <td>Burrito Elito</td>\n      <td>0.500000</td>\n    </tr>\n    <tr>\n      <th>252596</th>\n      <td>252596</td>\n      <td>¡Juice!</td>\n      <td>Nifty Fifty's Fishtown</td>\n      <td>0.500000</td>\n    </tr>\n    <tr>\n      <th>252597</th>\n      <td>252597</td>\n      <td>¡Juice!</td>\n      <td>Nourish</td>\n      <td>0.500000</td>\n    </tr>\n    <tr>\n      <th>252598</th>\n      <td>252598</td>\n      <td>¡Juice!</td>\n      <td>Grindcore House</td>\n      <td>0.500000</td>\n    </tr>\n    <tr>\n      <th>252599</th>\n      <td>252599</td>\n      <td>¡Juice!</td>\n      <td>Panda Cafe</td>\n      <td>0.500000</td>\n    </tr>\n  </tbody>\n</table>\n<p>252600 rows × 4 columns</p>\n</div>"
     },
     "execution_count": 55,
     "metadata": {},
     "output_type": "execute_result"
    }
   ],
   "source": [
    "jaccard = pd.read_csv(\"../top_jaccard_better.csv\")\n",
    "jaccard"
   ],
   "metadata": {
    "collapsed": false,
    "ExecuteTime": {
     "start_time": "2023-04-11T15:42:15.753553Z",
     "end_time": "2023-04-11T15:42:24.961556Z"
    }
   }
  },
  {
   "cell_type": "code",
   "execution_count": 56,
   "outputs": [
    {
     "data": {
      "text/plain": "                           x                           y  jaccard_score\n0       $5 Fresh Burger Stop         Ali Baba Magic Food       0.666667\n1       $5 Fresh Burger Stop         Mike's Hot Dog Cart       0.666667\n2       $5 Fresh Burger Stop  Rangoon Burmese Restaurant       0.666667\n3       $5 Fresh Burger Stop           Fruit Salad Truck       0.666667\n4       $5 Fresh Burger Stop                     Yumtown       0.666667\n...                      ...                         ...            ...\n252595               ¡Juice!               Burrito Elito       0.500000\n252596               ¡Juice!      Nifty Fifty's Fishtown       0.500000\n252597               ¡Juice!                     Nourish       0.500000\n252598               ¡Juice!             Grindcore House       0.500000\n252599               ¡Juice!                  Panda Cafe       0.500000\n\n[252600 rows x 3 columns]",
      "text/html": "<div>\n<style scoped>\n    .dataframe tbody tr th:only-of-type {\n        vertical-align: middle;\n    }\n\n    .dataframe tbody tr th {\n        vertical-align: top;\n    }\n\n    .dataframe thead th {\n        text-align: right;\n    }\n</style>\n<table border=\"1\" class=\"dataframe\">\n  <thead>\n    <tr style=\"text-align: right;\">\n      <th></th>\n      <th>x</th>\n      <th>y</th>\n      <th>jaccard_score</th>\n    </tr>\n  </thead>\n  <tbody>\n    <tr>\n      <th>0</th>\n      <td>$5 Fresh Burger Stop</td>\n      <td>Ali Baba Magic Food</td>\n      <td>0.666667</td>\n    </tr>\n    <tr>\n      <th>1</th>\n      <td>$5 Fresh Burger Stop</td>\n      <td>Mike's Hot Dog Cart</td>\n      <td>0.666667</td>\n    </tr>\n    <tr>\n      <th>2</th>\n      <td>$5 Fresh Burger Stop</td>\n      <td>Rangoon Burmese Restaurant</td>\n      <td>0.666667</td>\n    </tr>\n    <tr>\n      <th>3</th>\n      <td>$5 Fresh Burger Stop</td>\n      <td>Fruit Salad Truck</td>\n      <td>0.666667</td>\n    </tr>\n    <tr>\n      <th>4</th>\n      <td>$5 Fresh Burger Stop</td>\n      <td>Yumtown</td>\n      <td>0.666667</td>\n    </tr>\n    <tr>\n      <th>...</th>\n      <td>...</td>\n      <td>...</td>\n      <td>...</td>\n    </tr>\n    <tr>\n      <th>252595</th>\n      <td>¡Juice!</td>\n      <td>Burrito Elito</td>\n      <td>0.500000</td>\n    </tr>\n    <tr>\n      <th>252596</th>\n      <td>¡Juice!</td>\n      <td>Nifty Fifty's Fishtown</td>\n      <td>0.500000</td>\n    </tr>\n    <tr>\n      <th>252597</th>\n      <td>¡Juice!</td>\n      <td>Nourish</td>\n      <td>0.500000</td>\n    </tr>\n    <tr>\n      <th>252598</th>\n      <td>¡Juice!</td>\n      <td>Grindcore House</td>\n      <td>0.500000</td>\n    </tr>\n    <tr>\n      <th>252599</th>\n      <td>¡Juice!</td>\n      <td>Panda Cafe</td>\n      <td>0.500000</td>\n    </tr>\n  </tbody>\n</table>\n<p>252600 rows × 3 columns</p>\n</div>"
     },
     "execution_count": 56,
     "metadata": {},
     "output_type": "execute_result"
    }
   ],
   "source": [
    "jaccard[\"jaccard_score\"] = jaccard[\"score\"]\n",
    "jaccard = jaccard.drop([\"score\", \"Unnamed: 0\"], axis=1)\n",
    "jaccard"
   ],
   "metadata": {
    "collapsed": false,
    "ExecuteTime": {
     "start_time": "2023-04-11T15:42:15.939481Z",
     "end_time": "2023-04-11T15:42:24.987089Z"
    }
   }
  },
  {
   "cell_type": "code",
   "execution_count": 57,
   "outputs": [],
   "source": [
    "cosine_scores = []\n",
    "for i in tqdm(range(len(jaccard))):\n",
    "    row = jaccard.iloc[i]\n",
    "    x = restaurant_to_index[row[\"x\"]]\n",
    "    y = restaurant_to_index[row[\"y\"]]\n",
    "    cosine_scores.append(cosine_sim_matrix[x, y])"
   ],
   "metadata": {
    "collapsed": false,
    "ExecuteTime": {
     "start_time": "2023-04-11T15:44:04.349409Z",
     "end_time": "2023-04-11T15:44:37.727462Z"
    }
   }
  },
  {
   "cell_type": "code",
   "execution_count": 58,
   "outputs": [],
   "source": [
    "jaccard[\"cosine_score\"] = pd.Series(cosine_scores)"
   ],
   "metadata": {
    "collapsed": false,
    "ExecuteTime": {
     "start_time": "2023-04-11T15:44:43.528575Z",
     "end_time": "2023-04-11T15:44:44.038835Z"
    }
   }
  },
  {
   "cell_type": "code",
   "execution_count": 59,
   "outputs": [
    {
     "data": {
      "text/plain": "                           x                           y  jaccard_score  \\\n0       $5 Fresh Burger Stop         Ali Baba Magic Food       0.666667   \n1       $5 Fresh Burger Stop         Mike's Hot Dog Cart       0.666667   \n2       $5 Fresh Burger Stop  Rangoon Burmese Restaurant       0.666667   \n3       $5 Fresh Burger Stop           Fruit Salad Truck       0.666667   \n4       $5 Fresh Burger Stop                     Yumtown       0.666667   \n...                      ...                         ...            ...   \n252595               ¡Juice!               Burrito Elito       0.500000   \n252596               ¡Juice!      Nifty Fifty's Fishtown       0.500000   \n252597               ¡Juice!                     Nourish       0.500000   \n252598               ¡Juice!             Grindcore House       0.500000   \n252599               ¡Juice!                  Panda Cafe       0.500000   \n\n        cosine_score  \n0           0.968302  \n1           0.973178  \n2           0.050275  \n3           0.995206  \n4           0.004463  \n...              ...  \n252595      0.999528  \n252596      0.986761  \n252597      0.018851  \n252598      0.031608  \n252599      0.997707  \n\n[252600 rows x 4 columns]",
      "text/html": "<div>\n<style scoped>\n    .dataframe tbody tr th:only-of-type {\n        vertical-align: middle;\n    }\n\n    .dataframe tbody tr th {\n        vertical-align: top;\n    }\n\n    .dataframe thead th {\n        text-align: right;\n    }\n</style>\n<table border=\"1\" class=\"dataframe\">\n  <thead>\n    <tr style=\"text-align: right;\">\n      <th></th>\n      <th>x</th>\n      <th>y</th>\n      <th>jaccard_score</th>\n      <th>cosine_score</th>\n    </tr>\n  </thead>\n  <tbody>\n    <tr>\n      <th>0</th>\n      <td>$5 Fresh Burger Stop</td>\n      <td>Ali Baba Magic Food</td>\n      <td>0.666667</td>\n      <td>0.968302</td>\n    </tr>\n    <tr>\n      <th>1</th>\n      <td>$5 Fresh Burger Stop</td>\n      <td>Mike's Hot Dog Cart</td>\n      <td>0.666667</td>\n      <td>0.973178</td>\n    </tr>\n    <tr>\n      <th>2</th>\n      <td>$5 Fresh Burger Stop</td>\n      <td>Rangoon Burmese Restaurant</td>\n      <td>0.666667</td>\n      <td>0.050275</td>\n    </tr>\n    <tr>\n      <th>3</th>\n      <td>$5 Fresh Burger Stop</td>\n      <td>Fruit Salad Truck</td>\n      <td>0.666667</td>\n      <td>0.995206</td>\n    </tr>\n    <tr>\n      <th>4</th>\n      <td>$5 Fresh Burger Stop</td>\n      <td>Yumtown</td>\n      <td>0.666667</td>\n      <td>0.004463</td>\n    </tr>\n    <tr>\n      <th>...</th>\n      <td>...</td>\n      <td>...</td>\n      <td>...</td>\n      <td>...</td>\n    </tr>\n    <tr>\n      <th>252595</th>\n      <td>¡Juice!</td>\n      <td>Burrito Elito</td>\n      <td>0.500000</td>\n      <td>0.999528</td>\n    </tr>\n    <tr>\n      <th>252596</th>\n      <td>¡Juice!</td>\n      <td>Nifty Fifty's Fishtown</td>\n      <td>0.500000</td>\n      <td>0.986761</td>\n    </tr>\n    <tr>\n      <th>252597</th>\n      <td>¡Juice!</td>\n      <td>Nourish</td>\n      <td>0.500000</td>\n      <td>0.018851</td>\n    </tr>\n    <tr>\n      <th>252598</th>\n      <td>¡Juice!</td>\n      <td>Grindcore House</td>\n      <td>0.500000</td>\n      <td>0.031608</td>\n    </tr>\n    <tr>\n      <th>252599</th>\n      <td>¡Juice!</td>\n      <td>Panda Cafe</td>\n      <td>0.500000</td>\n      <td>0.997707</td>\n    </tr>\n  </tbody>\n</table>\n<p>252600 rows × 4 columns</p>\n</div>"
     },
     "execution_count": 59,
     "metadata": {},
     "output_type": "execute_result"
    }
   ],
   "source": [
    "jaccard"
   ],
   "metadata": {
    "collapsed": false,
    "ExecuteTime": {
     "start_time": "2023-04-11T15:44:47.761568Z",
     "end_time": "2023-04-11T15:44:47.772996Z"
    }
   }
  },
  {
   "cell_type": "code",
   "execution_count": 60,
   "outputs": [],
   "source": [
    "jaccard.to_csv(\"jaccard_cosine_data.csv\")"
   ],
   "metadata": {
    "collapsed": false,
    "ExecuteTime": {
     "start_time": "2023-04-11T15:46:00.466069Z",
     "end_time": "2023-04-11T15:46:01.661982Z"
    }
   }
  },
  {
   "cell_type": "code",
   "execution_count": null,
   "outputs": [],
   "source": [],
   "metadata": {
    "collapsed": false
   }
  }
 ],
 "metadata": {
  "kernelspec": {
   "display_name": "Python 3",
   "language": "python",
   "name": "python3"
  },
  "language_info": {
   "codemirror_mode": {
    "name": "ipython",
    "version": 2
   },
   "file_extension": ".py",
   "mimetype": "text/x-python",
   "name": "python",
   "nbconvert_exporter": "python",
   "pygments_lexer": "ipython2",
   "version": "2.7.6"
  }
 },
 "nbformat": 4,
 "nbformat_minor": 0
}
